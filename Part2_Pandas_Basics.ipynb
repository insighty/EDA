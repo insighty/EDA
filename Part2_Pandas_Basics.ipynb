{
 "cells": [
  {
   "cell_type": "code",
   "execution_count": 2,
   "metadata": {},
   "outputs": [],
   "source": [
    "# References: \n",
    "# 10 minutes to Pandas: https://pandas.pydata.org/pandas-docs/stable/getting_started/10min.html\n",
    "# Docs - https://pandas.pydata.org/pandas-docs/stable/reference/index.html\n",
    "# Datacamp cheat sheet: http://datacamp-community-prod.s3.amazonaws.com/dbed353d-2757-4617-8206-8767ab379ab3"
   ]
  },
  {
   "cell_type": "code",
   "execution_count": 3,
   "metadata": {},
   "outputs": [
    {
     "data": {
      "text/plain": [
       "'0.25.0'"
      ]
     },
     "execution_count": 3,
     "metadata": {},
     "output_type": "execute_result"
    }
   ],
   "source": [
    "# Imports\n",
    "import pandas as pd\n",
    "import numpy as np\n",
    "pd.__version__ # Check that you have the same version of pandas"
   ]
  },
  {
   "cell_type": "code",
   "execution_count": 4,
   "metadata": {
    "scrolled": false
   },
   "outputs": [
    {
     "name": "stdout",
     "output_type": "stream",
     "text": [
      "0    1.0\n",
      "1    2.0\n",
      "2    NaN\n",
      "3    5.0\n",
      "4    4.0\n",
      "dtype: float64\n",
      "<class 'pandas.core.series.Series'>\n",
      "\n",
      "          A         B         C         D\n",
      "0 -0.658915  1.658887  2.805993 -0.577777\n",
      "1  1.573727  1.199413  1.181562 -0.220740\n",
      "2  0.072988  0.355671  1.267864  0.501981\n",
      "3 -0.772058 -1.314699 -1.715834 -0.355858\n",
      "4 -0.874362  0.300280  0.887505  0.947620\n",
      "5  0.027241  0.060413 -0.918045  0.221320\n",
      "<class 'pandas.core.frame.DataFrame'>\n"
     ]
    }
   ],
   "source": [
    "# Pandas Series & DataFrames\n",
    "# https://pandas.pydata.org/pandas-docs/stable/getting_started/dsintro.html#dsintro\n",
    "my_series=pd.Series([1,2,np.nan,5,4])\n",
    "print(my_series)\n",
    "print(type(my_series))\n",
    "\n",
    "# Create a dataframe from a numpy array\n",
    "my_df=pd.DataFrame(np.random.randn(6,4),columns=list('ABCD'))\n",
    "print()\n",
    "print(my_df)\n",
    "print(type(my_df))"
   ]
  },
  {
   "cell_type": "code",
   "execution_count": 5,
   "metadata": {
    "scrolled": true
   },
   "outputs": [
    {
     "name": "stdout",
     "output_type": "stream",
     "text": [
      "A    1.0\n",
      "B    2.0\n",
      "C    NaN\n",
      "D    5.0\n",
      "E    4.0\n",
      "dtype: float64\n",
      "<class 'pandas.core.series.Series'>\n",
      "\n",
      "          A         B         C         D\n",
      "A -0.293373  0.382822  1.044245 -0.128176\n",
      "B  0.525672  0.339466 -0.792176 -1.161377\n",
      "C -0.508241  0.336184 -0.022091  1.058840\n",
      "D  0.448545 -1.592467 -1.076913  0.607434\n",
      "E -0.756569 -0.762593 -0.418113  0.153808\n",
      "F  0.701783  1.517367 -0.365328 -0.779116\n",
      "<class 'pandas.core.frame.DataFrame'>\n"
     ]
    }
   ],
   "source": [
    "# Index\n",
    "my_series=pd.Series([1,2,np.nan,5,4], index=list('ABCDE'))\n",
    "print(my_series)\n",
    "print(type(my_series))\n",
    "\n",
    "my_df=pd.DataFrame(np.random.randn(6,4),columns=list('ABCD'), index=list('ABCDEF'))\n",
    "print()\n",
    "print(my_df)\n",
    "print(type(my_df))"
   ]
  },
  {
   "cell_type": "code",
   "execution_count": 6,
   "metadata": {},
   "outputs": [
    {
     "name": "stdout",
     "output_type": "stream",
     "text": [
      "[[-0.29337297  0.38282172  1.04424521 -0.1281761 ]\n",
      " [ 0.52567241  0.33946571 -0.79217613 -1.16137679]\n",
      " [-0.50824111  0.336184   -0.02209092  1.05884016]\n",
      " [ 0.4485452  -1.592467   -1.07691317  0.60743359]\n",
      " [-0.75656855 -0.76259281 -0.4181126   0.15380795]\n",
      " [ 0.70178323  1.51736701 -0.36532774 -0.77911614]]\n",
      "<class 'numpy.ndarray'>\n"
     ]
    }
   ],
   "source": [
    "# Convert dataframe to NumPy array\n",
    "print(my_df.values)\n",
    "print(type(my_df.values))"
   ]
  },
  {
   "cell_type": "code",
   "execution_count": 5,
   "metadata": {},
   "outputs": [
    {
     "name": "stdout",
     "output_type": "stream",
     "text": [
      "{'A': array([ 1.36372414,  0.03891867, -0.74510362, -1.16317942]), 'B': array([ 1.35101874, -0.5962577 , -0.52426846, -0.41543683]), 'C': array([-0.13295734,  0.34379269, -1.11615439,  0.45283801]), 'D': array([ 0.05065542, -0.19208929,  0.16038389, -0.85861959])}\n",
      "\n",
      "          A         B         C         D\n",
      "0  1.363724  1.351019 -0.132957  0.050655\n",
      "1  0.038919 -0.596258  0.343793 -0.192089\n",
      "2 -0.745104 -0.524268 -1.116154  0.160384\n",
      "3 -1.163179 -0.415437  0.452838 -0.858620\n"
     ]
    }
   ],
   "source": [
    "# Create a dataframe from a dictionary\n",
    "labels=list('ABCD')\n",
    "vals= np.random.randn(6,4)\n",
    "my_dict = dict(zip(labels, vals))\n",
    "print(my_dict)\n",
    "print()\n",
    "print(pd.DataFrame(my_dict))"
   ]
  },
  {
   "cell_type": "code",
   "execution_count": 6,
   "metadata": {
    "scrolled": true
   },
   "outputs": [],
   "source": [
    "# Read-in from database: https://pandas.pydata.org/pandas-docs/stable/reference/api/pandas.read_sql.html"
   ]
  },
  {
   "cell_type": "code",
   "execution_count": 7,
   "metadata": {},
   "outputs": [],
   "source": [
    "# Read-in from csv\n",
    "# Reference: https://pandas.pydata.org/pandas-docs/stable/reference/api/pandas.read_csv.html\n",
    "path = 'C:\\\\Users\\\\K\\\\AIDeepDiveMaterials\\\\'\n",
    "df = pd.read_csv(path+'SPTSXComposite.csv')"
   ]
  },
  {
   "cell_type": "code",
   "execution_count": 8,
   "metadata": {
    "scrolled": true
   },
   "outputs": [
    {
     "name": "stdout",
     "output_type": "stream",
     "text": [
      "(132, 6)\n",
      "                                          Name     Ticker  TotalAssets  \\\n",
      "0        Agnico Eagle Mines Limited (NYSE:AEM)   NYSE:AEM      10715.5   \n",
      "1                          Air Canada (TSX:AC)     TSX:AC      19197.0   \n",
      "2                   Alamos Gold Inc. (TSX:AGI)    TSX:AGI       4455.5   \n",
      "3  Algonquin Power & Utilities Corp. (TSX:AQN)    TSX:AQN      12811.6   \n",
      "4    Alimentation Couche-Tard Inc. (TSX:ATD.B)  TSX:ATD.B      30426.3   \n",
      "\n",
      "   TotalRevenue  GeographicSegments     PrimarySector  \n",
      "0        2990.0                 5.0         Materials  \n",
      "1       18065.0                 5.0       Industrials  \n",
      "2         889.4                 4.0         Materials  \n",
      "3        2247.9                 2.0         Utilities  \n",
      "4       79562.8                 3.0  Consumer Staples  \n"
     ]
    }
   ],
   "source": [
    "#view\n",
    "print(df.shape)\n",
    "\n",
    "print(df.head())"
   ]
  },
  {
   "cell_type": "code",
   "execution_count": 9,
   "metadata": {
    "scrolled": false
   },
   "outputs": [
    {
     "data": {
      "text/html": [
       "<div>\n",
       "<style scoped>\n",
       "    .dataframe tbody tr th:only-of-type {\n",
       "        vertical-align: middle;\n",
       "    }\n",
       "\n",
       "    .dataframe tbody tr th {\n",
       "        vertical-align: top;\n",
       "    }\n",
       "\n",
       "    .dataframe thead th {\n",
       "        text-align: right;\n",
       "    }\n",
       "</style>\n",
       "<table border=\"1\" class=\"dataframe\">\n",
       "  <thead>\n",
       "    <tr style=\"text-align: right;\">\n",
       "      <th></th>\n",
       "      <th>Name</th>\n",
       "      <th>Ticker</th>\n",
       "      <th>TotalAssets</th>\n",
       "      <th>TotalRevenue</th>\n",
       "      <th>GeographicSegments</th>\n",
       "      <th>PrimarySector</th>\n",
       "    </tr>\n",
       "  </thead>\n",
       "  <tbody>\n",
       "    <tr>\n",
       "      <th>127</th>\n",
       "      <td>West Fraser Timber Co. Ltd. (TSX:WFT)</td>\n",
       "      <td>TSX:WFT</td>\n",
       "      <td>4791.0</td>\n",
       "      <td>6118.0</td>\n",
       "      <td>5.0</td>\n",
       "      <td>Materials</td>\n",
       "    </tr>\n",
       "    <tr>\n",
       "      <th>128</th>\n",
       "      <td>WestJet Airlines Ltd. (TSX:WJA)</td>\n",
       "      <td>TSX:WJA</td>\n",
       "      <td>6758.1</td>\n",
       "      <td>4728.4</td>\n",
       "      <td>4.0</td>\n",
       "      <td>Industrials</td>\n",
       "    </tr>\n",
       "    <tr>\n",
       "      <th>129</th>\n",
       "      <td>Wheaton Precious Metals Corp. (TSX:WPM)</td>\n",
       "      <td>TSX:WPM</td>\n",
       "      <td>8828.6</td>\n",
       "      <td>1083.5</td>\n",
       "      <td>9.0</td>\n",
       "      <td>Materials</td>\n",
       "    </tr>\n",
       "    <tr>\n",
       "      <th>130</th>\n",
       "      <td>WSP Global Inc. (TSX:WSP)</td>\n",
       "      <td>TSX:WSP</td>\n",
       "      <td>7766.6</td>\n",
       "      <td>7908.1</td>\n",
       "      <td>8.0</td>\n",
       "      <td>Industrials</td>\n",
       "    </tr>\n",
       "    <tr>\n",
       "      <th>131</th>\n",
       "      <td>Yamana Gold Inc. (TSX:YRI)</td>\n",
       "      <td>TSX:YRI</td>\n",
       "      <td>10933.9</td>\n",
       "      <td>2454.1</td>\n",
       "      <td>5.0</td>\n",
       "      <td>Materials</td>\n",
       "    </tr>\n",
       "  </tbody>\n",
       "</table>\n",
       "</div>"
      ],
      "text/plain": [
       "                                        Name   Ticker  TotalAssets  \\\n",
       "127    West Fraser Timber Co. Ltd. (TSX:WFT)  TSX:WFT       4791.0   \n",
       "128          WestJet Airlines Ltd. (TSX:WJA)  TSX:WJA       6758.1   \n",
       "129  Wheaton Precious Metals Corp. (TSX:WPM)  TSX:WPM       8828.6   \n",
       "130                WSP Global Inc. (TSX:WSP)  TSX:WSP       7766.6   \n",
       "131               Yamana Gold Inc. (TSX:YRI)  TSX:YRI      10933.9   \n",
       "\n",
       "     TotalRevenue  GeographicSegments PrimarySector  \n",
       "127        6118.0                 5.0     Materials  \n",
       "128        4728.4                 4.0   Industrials  \n",
       "129        1083.5                 9.0     Materials  \n",
       "130        7908.1                 8.0   Industrials  \n",
       "131        2454.1                 5.0     Materials  "
      ]
     },
     "execution_count": 9,
     "metadata": {},
     "output_type": "execute_result"
    }
   ],
   "source": [
    "df.tail()"
   ]
  },
  {
   "cell_type": "code",
   "execution_count": 10,
   "metadata": {
    "scrolled": true
   },
   "outputs": [
    {
     "data": {
      "text/plain": [
       "Index(['Name', 'Ticker', 'TotalAssets', 'TotalRevenue', 'GeographicSegments',\n",
       "       'PrimarySector'],\n",
       "      dtype='object')"
      ]
     },
     "execution_count": 10,
     "metadata": {},
     "output_type": "execute_result"
    }
   ],
   "source": [
    "# Column names\n",
    "df.columns"
   ]
  },
  {
   "cell_type": "code",
   "execution_count": 11,
   "metadata": {
    "scrolled": true
   },
   "outputs": [
    {
     "name": "stdout",
     "output_type": "stream",
     "text": [
      "RangeIndex(start=0, stop=132, step=1)\n",
      "\n",
      "[0 1 2 3 4]\n",
      "\n",
      "Index(['NYSE:AEM', 'TSX:AC', 'TSX:AGI', 'TSX:AQN', 'TSX:ATD.B', 'TSX:AP.UN',\n",
      "       'TSX:ALA', 'TSX:ACO.X', 'TSX:ACB', 'TSX:BTO',\n",
      "       ...\n",
      "       'TSX:TIH', 'TSX:TOU', 'TSX:RNW', 'TSX:VET', 'NYSE:WCN', 'TSX:WFT',\n",
      "       'TSX:WJA', 'TSX:WPM', 'TSX:WSP', 'TSX:YRI'],\n",
      "      dtype='object', name='Ticker', length=132)\n"
     ]
    }
   ],
   "source": [
    "# Current index\n",
    "print(df.index)\n",
    "print()\n",
    "print(df.index.values[:5]) # returns numpy array\n",
    "print()\n",
    "#set new index\n",
    "df.set_index('Ticker', inplace=True) \n",
    "print(df.index)\n"
   ]
  },
  {
   "cell_type": "code",
   "execution_count": 12,
   "metadata": {
    "scrolled": true
   },
   "outputs": [
    {
     "data": {
      "text/html": [
       "<div>\n",
       "<style scoped>\n",
       "    .dataframe tbody tr th:only-of-type {\n",
       "        vertical-align: middle;\n",
       "    }\n",
       "\n",
       "    .dataframe tbody tr th {\n",
       "        vertical-align: top;\n",
       "    }\n",
       "\n",
       "    .dataframe thead th {\n",
       "        text-align: right;\n",
       "    }\n",
       "</style>\n",
       "<table border=\"1\" class=\"dataframe\">\n",
       "  <thead>\n",
       "    <tr style=\"text-align: right;\">\n",
       "      <th></th>\n",
       "      <th>Name</th>\n",
       "      <th>TotalAssets</th>\n",
       "      <th>TotalRevenue</th>\n",
       "      <th>GeographicSegments</th>\n",
       "      <th>PrimarySector</th>\n",
       "    </tr>\n",
       "    <tr>\n",
       "      <th>Ticker</th>\n",
       "      <th></th>\n",
       "      <th></th>\n",
       "      <th></th>\n",
       "      <th></th>\n",
       "      <th></th>\n",
       "    </tr>\n",
       "  </thead>\n",
       "  <tbody>\n",
       "    <tr>\n",
       "      <th>NYSE:AEM</th>\n",
       "      <td>Agnico Eagle Mines Limited (NYSE:AEM)</td>\n",
       "      <td>10715.5</td>\n",
       "      <td>2990.0</td>\n",
       "      <td>5.0</td>\n",
       "      <td>Materials</td>\n",
       "    </tr>\n",
       "    <tr>\n",
       "      <th>TSX:AC</th>\n",
       "      <td>Air Canada (TSX:AC)</td>\n",
       "      <td>19197.0</td>\n",
       "      <td>18065.0</td>\n",
       "      <td>5.0</td>\n",
       "      <td>Industrials</td>\n",
       "    </tr>\n",
       "    <tr>\n",
       "      <th>TSX:AGI</th>\n",
       "      <td>Alamos Gold Inc. (TSX:AGI)</td>\n",
       "      <td>4455.5</td>\n",
       "      <td>889.4</td>\n",
       "      <td>4.0</td>\n",
       "      <td>Materials</td>\n",
       "    </tr>\n",
       "    <tr>\n",
       "      <th>TSX:AQN</th>\n",
       "      <td>Algonquin Power &amp; Utilities Corp. (TSX:AQN)</td>\n",
       "      <td>12811.6</td>\n",
       "      <td>2247.9</td>\n",
       "      <td>2.0</td>\n",
       "      <td>Utilities</td>\n",
       "    </tr>\n",
       "    <tr>\n",
       "      <th>TSX:ATD.B</th>\n",
       "      <td>Alimentation Couche-Tard Inc. (TSX:ATD.B)</td>\n",
       "      <td>30426.3</td>\n",
       "      <td>79562.8</td>\n",
       "      <td>3.0</td>\n",
       "      <td>Consumer Staples</td>\n",
       "    </tr>\n",
       "  </tbody>\n",
       "</table>\n",
       "</div>"
      ],
      "text/plain": [
       "                                                  Name  TotalAssets  \\\n",
       "Ticker                                                                \n",
       "NYSE:AEM         Agnico Eagle Mines Limited (NYSE:AEM)      10715.5   \n",
       "TSX:AC                             Air Canada (TSX:AC)      19197.0   \n",
       "TSX:AGI                     Alamos Gold Inc. (TSX:AGI)       4455.5   \n",
       "TSX:AQN    Algonquin Power & Utilities Corp. (TSX:AQN)      12811.6   \n",
       "TSX:ATD.B    Alimentation Couche-Tard Inc. (TSX:ATD.B)      30426.3   \n",
       "\n",
       "           TotalRevenue  GeographicSegments     PrimarySector  \n",
       "Ticker                                                         \n",
       "NYSE:AEM         2990.0                 5.0         Materials  \n",
       "TSX:AC          18065.0                 5.0       Industrials  \n",
       "TSX:AGI           889.4                 4.0         Materials  \n",
       "TSX:AQN          2247.9                 2.0         Utilities  \n",
       "TSX:ATD.B       79562.8                 3.0  Consumer Staples  "
      ]
     },
     "execution_count": 12,
     "metadata": {},
     "output_type": "execute_result"
    }
   ],
   "source": [
    "df.head()"
   ]
  },
  {
   "cell_type": "code",
   "execution_count": 13,
   "metadata": {
    "scrolled": true
   },
   "outputs": [
    {
     "name": "stdout",
     "output_type": "stream",
     "text": [
      "                                           Name PrimarySector\n",
      "Ticker                                                       \n",
      "NYSE:AEM  Agnico Eagle Mines Limited (NYSE:AEM)     Materials\n",
      "TSX:AC                      Air Canada (TSX:AC)   Industrials\n",
      "TSX:AGI              Alamos Gold Inc. (TSX:AGI)     Materials\n"
     ]
    }
   ],
   "source": [
    "# Indicate the column name to use as the index when reading in the CSV\n",
    "# Limit the columns we read-in, this saves space\n",
    "print(pd.read_csv(path+'SPTSXComposite.csv',index_col='Ticker',usecols=['Name', 'PrimarySector','Ticker']).head(3))"
   ]
  },
  {
   "cell_type": "code",
   "execution_count": 14,
   "metadata": {
    "scrolled": true
   },
   "outputs": [
    {
     "data": {
      "text/plain": [
       "Name                   object\n",
       "TotalAssets           float64\n",
       "TotalRevenue          float64\n",
       "GeographicSegments    float64\n",
       "PrimarySector          object\n",
       "dtype: object"
      ]
     },
     "execution_count": 14,
     "metadata": {},
     "output_type": "execute_result"
    }
   ],
   "source": [
    "# Datatypes\n",
    "df.dtypes"
   ]
  },
  {
   "cell_type": "code",
   "execution_count": 15,
   "metadata": {},
   "outputs": [
    {
     "data": {
      "text/plain": [
       "Name                    object\n",
       "TotalAssets            float64\n",
       "TotalRevenue           float64\n",
       "GeographicSegments     float64\n",
       "PrimarySector         category\n",
       "dtype: object"
      ]
     },
     "execution_count": 15,
     "metadata": {},
     "output_type": "execute_result"
    }
   ],
   "source": [
    "# Converting types\n",
    "df = df.astype({'PrimarySector':'category'})\n",
    "\n",
    "df.dtypes"
   ]
  },
  {
   "cell_type": "code",
   "execution_count": 16,
   "metadata": {},
   "outputs": [
    {
     "name": "stdout",
     "output_type": "stream",
     "text": [
      "Name                    object\n",
      "TotalAssets              int32\n",
      "TotalRevenue           float64\n",
      "GeographicSegments     float64\n",
      "PrimarySector         category\n",
      "dtype: object\n",
      "                                                 A        B    C  \\\n",
      "Name                                                               \n",
      "Agnico Eagle Mines Limited (NYSE:AEM)        10715   2990.0  5.0   \n",
      "Air Canada (TSX:AC)                          19197  18065.0  5.0   \n",
      "Alamos Gold Inc. (TSX:AGI)                    4455    889.4  4.0   \n",
      "Algonquin Power & Utilities Corp. (TSX:AQN)  12811   2247.9  2.0   \n",
      "Alimentation Couche-Tard Inc. (TSX:ATD.B)    30426  79562.8  3.0   \n",
      "\n",
      "                                                            D  \n",
      "Name                                                           \n",
      "Agnico Eagle Mines Limited (NYSE:AEM)               Materials  \n",
      "Air Canada (TSX:AC)                               Industrials  \n",
      "Alamos Gold Inc. (TSX:AGI)                          Materials  \n",
      "Algonquin Power & Utilities Corp. (TSX:AQN)         Utilities  \n",
      "Alimentation Couche-Tard Inc. (TSX:ATD.B)    Consumer Staples  \n"
     ]
    }
   ],
   "source": [
    "# Exercise\n",
    "# Create a copy of \"df\" and assign it a different variable name (hint: df.copy()) - use this new dataframe \n",
    "# Change the type of \"TotalAssets\" to int\n",
    "# Check that it worked \n",
    "# Make \"Name\" the index instead of \"Ticker\"\n",
    "# Set the columns of the new dataframe equal to list('ABCDE')\n",
    "# Check the top 5 rows and all of the column names\n",
    "new_df = df.copy()\n",
    "new_df = new_df.astype({'TotalAssets':int})\n",
    "print(new_df.dtypes)\n",
    "new_df.set_index(\"Name\",inplace=True) # To avoid removing \"Ticker\", use new_df.reindex(df.Name), reset with new_df.reset_index()\n",
    "new_df.columns = list('ABCD')\n",
    "print(new_df.head())"
   ]
  },
  {
   "cell_type": "code",
   "execution_count": 17,
   "metadata": {
    "scrolled": true
   },
   "outputs": [
    {
     "data": {
      "text/html": [
       "<div>\n",
       "<style scoped>\n",
       "    .dataframe tbody tr th:only-of-type {\n",
       "        vertical-align: middle;\n",
       "    }\n",
       "\n",
       "    .dataframe tbody tr th {\n",
       "        vertical-align: top;\n",
       "    }\n",
       "\n",
       "    .dataframe thead th {\n",
       "        text-align: right;\n",
       "    }\n",
       "</style>\n",
       "<table border=\"1\" class=\"dataframe\">\n",
       "  <thead>\n",
       "    <tr style=\"text-align: right;\">\n",
       "      <th></th>\n",
       "      <th>TotalAssets</th>\n",
       "      <th>TotalRevenue</th>\n",
       "      <th>GeographicSegments</th>\n",
       "    </tr>\n",
       "  </thead>\n",
       "  <tbody>\n",
       "    <tr>\n",
       "      <th>count</th>\n",
       "      <td>132.0</td>\n",
       "      <td>132.0</td>\n",
       "      <td>124.0</td>\n",
       "    </tr>\n",
       "    <tr>\n",
       "      <th>mean</th>\n",
       "      <td>79793.3</td>\n",
       "      <td>11634.7</td>\n",
       "      <td>4.8</td>\n",
       "    </tr>\n",
       "    <tr>\n",
       "      <th>std</th>\n",
       "      <td>218163.2</td>\n",
       "      <td>15739.7</td>\n",
       "      <td>4.2</td>\n",
       "    </tr>\n",
       "    <tr>\n",
       "      <th>min</th>\n",
       "      <td>261.1</td>\n",
       "      <td>15.7</td>\n",
       "      <td>1.0</td>\n",
       "    </tr>\n",
       "    <tr>\n",
       "      <th>25%</th>\n",
       "      <td>5077.7</td>\n",
       "      <td>1683.9</td>\n",
       "      <td>2.0</td>\n",
       "    </tr>\n",
       "    <tr>\n",
       "      <th>50%</th>\n",
       "      <td>11690.3</td>\n",
       "      <td>5005.6</td>\n",
       "      <td>3.5</td>\n",
       "    </tr>\n",
       "    <tr>\n",
       "      <th>75%</th>\n",
       "      <td>35186.8</td>\n",
       "      <td>14151.5</td>\n",
       "      <td>6.0</td>\n",
       "    </tr>\n",
       "    <tr>\n",
       "      <th>max</th>\n",
       "      <td>1334903.0</td>\n",
       "      <td>79975.7</td>\n",
       "      <td>24.0</td>\n",
       "    </tr>\n",
       "  </tbody>\n",
       "</table>\n",
       "</div>"
      ],
      "text/plain": [
       "       TotalAssets  TotalRevenue  GeographicSegments\n",
       "count        132.0         132.0               124.0\n",
       "mean       79793.3       11634.7                 4.8\n",
       "std       218163.2       15739.7                 4.2\n",
       "min          261.1          15.7                 1.0\n",
       "25%         5077.7        1683.9                 2.0\n",
       "50%        11690.3        5005.6                 3.5\n",
       "75%        35186.8       14151.5                 6.0\n",
       "max      1334903.0       79975.7                24.0"
      ]
     },
     "execution_count": 17,
     "metadata": {},
     "output_type": "execute_result"
    }
   ],
   "source": [
    "# Describe and summarize\n",
    "df.describe().round(1) # automatically selects numeric columns, ignores nans\n",
    "\n",
    "# The describe method is also implemented for series"
   ]
  },
  {
   "cell_type": "code",
   "execution_count": 18,
   "metadata": {
    "scrolled": true
   },
   "outputs": [
    {
     "data": {
      "text/plain": [
       "count            132\n",
       "unique            11\n",
       "top       Financials\n",
       "freq              21\n",
       "Name: PrimarySector, dtype: object"
      ]
     },
     "execution_count": 18,
     "metadata": {},
     "output_type": "execute_result"
    }
   ],
   "source": [
    "# See what happens when you ask pandas to describe a categorical variable\n",
    "df.PrimarySector.describe()"
   ]
  },
  {
   "cell_type": "code",
   "execution_count": 19,
   "metadata": {},
   "outputs": [
    {
     "data": {
      "text/plain": [
       "Financials                21\n",
       "Materials                 19\n",
       "Energy                    18\n",
       "Industrials               17\n",
       "Utilities                 12\n",
       "Real Estate               11\n",
       "Consumer Discretionary     9\n",
       "Consumer Staples           8\n",
       "Information Technology     6\n",
       "Communication Services     6\n",
       "Health Care                5\n",
       "Name: PrimarySector, dtype: int64"
      ]
     },
     "execution_count": 19,
     "metadata": {},
     "output_type": "execute_result"
    }
   ],
   "source": [
    "df.PrimarySector.value_counts()"
   ]
  },
  {
   "cell_type": "code",
   "execution_count": 20,
   "metadata": {},
   "outputs": [
    {
     "name": "stdout",
     "output_type": "stream",
     "text": [
      "Name                  Air Canada (TSX:AC)\n",
      "TotalAssets                         19197\n",
      "TotalRevenue                        18065\n",
      "GeographicSegments                      5\n",
      "PrimarySector                 Industrials\n",
      "Name: TSX:AC, dtype: object\n",
      "\n",
      "Name                  Yamana Gold Inc. (TSX:YRI)\n",
      "TotalAssets                              10933.9\n",
      "TotalRevenue                              2454.1\n",
      "GeographicSegments                             5\n",
      "PrimarySector                          Materials\n",
      "Name: TSX:YRI, dtype: object\n",
      "\n",
      "Ticker\n",
      "NYSE:AEM     10715.5\n",
      "TSX:AC       19197.0\n",
      "TSX:AGI       4455.5\n",
      "TSX:AQN      12811.6\n",
      "TSX:ATD.B    30426.3\n",
      "Name: TotalAssets, dtype: float64\n"
     ]
    }
   ],
   "source": [
    "# Slicing and indexing\n",
    "# Integer position based indexing - \"iloc\"\n",
    "# Reference: https://pandas.pydata.org/pandas-docs/stable/reference/api/pandas.DataFrame.iloc.html\n",
    "print(df.iloc[1]) #first row\n",
    "print()\n",
    "print(df.iloc[-1]) #last row\n",
    "print()\n",
    "print(df.iloc[:5,1]) #first five rows of first column"
   ]
  },
  {
   "cell_type": "code",
   "execution_count": 21,
   "metadata": {
    "scrolled": false
   },
   "outputs": [
    {
     "name": "stdout",
     "output_type": "stream",
     "text": [
      "Name                  Royal Bank of Canada (TSX:RY)\n",
      "TotalAssets                             1.33473e+06\n",
      "TotalRevenue                                  41269\n",
      "GeographicSegments                                3\n",
      "PrimarySector                            Financials\n",
      "Name: TSX:RY, dtype: object\n",
      "\n",
      "3.0\n"
     ]
    }
   ],
   "source": [
    "# Label based indexing\n",
    "# Reference:https://pandas.pydata.org/pandas-docs/stable/reference/api/pandas.DataFrame.loc.html\n",
    "print(df.loc['TSX:RY']) #get row with info on RBC\n",
    "print()\n",
    "print(df.loc['TSX:RY','GeographicSegments'])# get number of geographic segments at RBC"
   ]
  },
  {
   "cell_type": "code",
   "execution_count": 22,
   "metadata": {
    "scrolled": true
   },
   "outputs": [
    {
     "data": {
      "text/plain": [
       "TotalRevenue               41269\n",
       "GeographicSegments             3\n",
       "PrimarySector         Financials\n",
       "Name: TSX:RY, dtype: object"
      ]
     },
     "execution_count": 22,
     "metadata": {},
     "output_type": "execute_result"
    }
   ],
   "source": [
    "df.loc['TSX:RY','TotalRevenue':'PrimarySector']"
   ]
  },
  {
   "cell_type": "code",
   "execution_count": 23,
   "metadata": {
    "scrolled": true
   },
   "outputs": [
    {
     "name": "stdout",
     "output_type": "stream",
     "text": [
      "Ticker\n",
      "NYSE:AEM    Agnico Eagle Mines Limited (NYSE:AEM)\n",
      "TSX:AC                        Air Canada (TSX:AC)\n",
      "TSX:AGI                Alamos Gold Inc. (TSX:AGI)\n",
      "Name: Name, dtype: object\n",
      "Ticker\n",
      "NYSE:AEM    Agnico Eagle Mines Limited (NYSE:AEM)\n",
      "TSX:AC                        Air Canada (TSX:AC)\n",
      "TSX:AGI                Alamos Gold Inc. (TSX:AGI)\n",
      "Name: Name, dtype: object\n",
      "Ticker\n",
      "NYSE:AEM    Agnico Eagle Mines Limited (NYSE:AEM)\n",
      "TSX:AC                        Air Canada (TSX:AC)\n",
      "TSX:AGI                Alamos Gold Inc. (TSX:AGI)\n",
      "Name: Name, dtype: object\n"
     ]
    }
   ],
   "source": [
    "# Select a column - three ways to do the same thing\n",
    "print(df.Name[:3])\n",
    "print(df['Name'][:3])\n",
    "print(df.loc[:,'Name'][:3])"
   ]
  },
  {
   "cell_type": "code",
   "execution_count": 24,
   "metadata": {
    "scrolled": false
   },
   "outputs": [
    {
     "name": "stdout",
     "output_type": "stream",
     "text": [
      "                                           Name PrimarySector\n",
      "Ticker                                                       \n",
      "NYSE:AEM  Agnico Eagle Mines Limited (NYSE:AEM)     Materials\n",
      "TSX:AC                      Air Canada (TSX:AC)   Industrials\n",
      "TSX:AGI              Alamos Gold Inc. (TSX:AGI)     Materials\n",
      "\n",
      "          TotalAssets  TotalRevenue\n",
      "Ticker                             \n",
      "NYSE:AEM      10715.5        2990.0\n",
      "TSX:AC        19197.0       18065.0\n",
      "TSX:AGI        4455.5         889.4\n"
     ]
    }
   ],
   "source": [
    "# Select multiple columns\n",
    "print(df[['Name','PrimarySector']].head(3))\n",
    "print()\n",
    "print(df.filter(like='Total').head(3))"
   ]
  },
  {
   "cell_type": "code",
   "execution_count": 25,
   "metadata": {
    "scrolled": false
   },
   "outputs": [
    {
     "data": {
      "text/html": [
       "<div>\n",
       "<style scoped>\n",
       "    .dataframe tbody tr th:only-of-type {\n",
       "        vertical-align: middle;\n",
       "    }\n",
       "\n",
       "    .dataframe tbody tr th {\n",
       "        vertical-align: top;\n",
       "    }\n",
       "\n",
       "    .dataframe thead th {\n",
       "        text-align: right;\n",
       "    }\n",
       "</style>\n",
       "<table border=\"1\" class=\"dataframe\">\n",
       "  <thead>\n",
       "    <tr style=\"text-align: right;\">\n",
       "      <th></th>\n",
       "      <th>Name</th>\n",
       "      <th>TotalAssets</th>\n",
       "      <th>TotalRevenue</th>\n",
       "      <th>GeographicSegments</th>\n",
       "      <th>PrimarySector</th>\n",
       "    </tr>\n",
       "    <tr>\n",
       "      <th>Ticker</th>\n",
       "      <th></th>\n",
       "      <th></th>\n",
       "      <th></th>\n",
       "      <th></th>\n",
       "      <th></th>\n",
       "    </tr>\n",
       "  </thead>\n",
       "  <tbody>\n",
       "    <tr>\n",
       "      <th>TSX:CRON</th>\n",
       "      <td>Cronos Group Inc. (TSX:CRON)</td>\n",
       "      <td>261.1</td>\n",
       "      <td>15.7</td>\n",
       "      <td>2.0</td>\n",
       "      <td>Health Care</td>\n",
       "    </tr>\n",
       "    <tr>\n",
       "      <th>TSX:GOOS</th>\n",
       "      <td>Canada Goose Holdings Inc. (TSX:GOOS)</td>\n",
       "      <td>725.4</td>\n",
       "      <td>830.5</td>\n",
       "      <td>3.0</td>\n",
       "      <td>Consumer Discretionary</td>\n",
       "    </tr>\n",
       "    <tr>\n",
       "      <th>TSX:DSG</th>\n",
       "      <td>The Descartes Systems Group Inc (TSX:DSG)</td>\n",
       "      <td>858.9</td>\n",
       "      <td>361.7</td>\n",
       "      <td>4.0</td>\n",
       "      <td>Information Technology</td>\n",
       "    </tr>\n",
       "    <tr>\n",
       "      <th>TSX:BYD.UN</th>\n",
       "      <td>Boyd Group Income Fund (TSX:BYD.UN)</td>\n",
       "      <td>1233.5</td>\n",
       "      <td>1864.6</td>\n",
       "      <td>2.0</td>\n",
       "      <td>Industrials</td>\n",
       "    </tr>\n",
       "    <tr>\n",
       "      <th>TSX:FSV</th>\n",
       "      <td>FirstService Corporation (TSX:FSV)</td>\n",
       "      <td>1374.7</td>\n",
       "      <td>2635.6</td>\n",
       "      <td>2.0</td>\n",
       "      <td>Real Estate</td>\n",
       "    </tr>\n",
       "  </tbody>\n",
       "</table>\n",
       "</div>"
      ],
      "text/plain": [
       "                                                 Name  TotalAssets  \\\n",
       "Ticker                                                               \n",
       "TSX:CRON                 Cronos Group Inc. (TSX:CRON)        261.1   \n",
       "TSX:GOOS        Canada Goose Holdings Inc. (TSX:GOOS)        725.4   \n",
       "TSX:DSG     The Descartes Systems Group Inc (TSX:DSG)        858.9   \n",
       "TSX:BYD.UN        Boyd Group Income Fund (TSX:BYD.UN)       1233.5   \n",
       "TSX:FSV            FirstService Corporation (TSX:FSV)       1374.7   \n",
       "\n",
       "            TotalRevenue  GeographicSegments           PrimarySector  \n",
       "Ticker                                                                \n",
       "TSX:CRON            15.7                 2.0             Health Care  \n",
       "TSX:GOOS           830.5                 3.0  Consumer Discretionary  \n",
       "TSX:DSG            361.7                 4.0  Information Technology  \n",
       "TSX:BYD.UN        1864.6                 2.0             Industrials  \n",
       "TSX:FSV           2635.6                 2.0             Real Estate  "
      ]
     },
     "execution_count": 25,
     "metadata": {},
     "output_type": "execute_result"
    }
   ],
   "source": [
    "# Sorting\n",
    "df.sort_values('TotalAssets').head()"
   ]
  },
  {
   "cell_type": "code",
   "execution_count": 26,
   "metadata": {},
   "outputs": [
    {
     "name": "stdout",
     "output_type": "stream",
     "text": [
      "                                                   Name  TotalRevenue\n",
      "Ticker                                                               \n",
      "TSX:BAM.A  Brookfield Asset Management Inc. (TSX:BAM.A)       79975.7\n",
      "TSX:ATD.B     Alimentation Couche-Tard Inc. (TSX:ATD.B)       79562.8\n",
      "TSX:MG                Magna International Inc. (TSX:MG)       55710.1\n",
      "                                          Name  TotalRevenue\n",
      "Ticker                                                      \n",
      "TSX:CRON          Cronos Group Inc. (TSX:CRON)          15.7\n",
      "TSX:ACB         Aurora Cannabis Inc. (TSX:ACB)          55.2\n",
      "TSX:WEED  Canopy Growth Corporation (TSX:WEED)         226.3\n"
     ]
    }
   ],
   "source": [
    "print(df.nlargest(3,'TotalRevenue')[['Name','TotalRevenue']])\n",
    "print(df.nsmallest(3,'TotalRevenue')[['Name','TotalRevenue']])"
   ]
  },
  {
   "cell_type": "code",
   "execution_count": 27,
   "metadata": {
    "scrolled": true
   },
   "outputs": [
    {
     "data": {
      "text/html": [
       "<div>\n",
       "<style scoped>\n",
       "    .dataframe tbody tr th:only-of-type {\n",
       "        vertical-align: middle;\n",
       "    }\n",
       "\n",
       "    .dataframe tbody tr th {\n",
       "        vertical-align: top;\n",
       "    }\n",
       "\n",
       "    .dataframe thead th {\n",
       "        text-align: right;\n",
       "    }\n",
       "</style>\n",
       "<table border=\"1\" class=\"dataframe\">\n",
       "  <thead>\n",
       "    <tr style=\"text-align: right;\">\n",
       "      <th></th>\n",
       "      <th>Name</th>\n",
       "      <th>TotalAssets</th>\n",
       "    </tr>\n",
       "    <tr>\n",
       "      <th>Ticker</th>\n",
       "      <th></th>\n",
       "      <th></th>\n",
       "    </tr>\n",
       "  </thead>\n",
       "  <tbody>\n",
       "    <tr>\n",
       "      <th>NYSE:AEM</th>\n",
       "      <td>Agnico Eagle Mines Limited (NYSE:AEM)</td>\n",
       "      <td>10715.5</td>\n",
       "    </tr>\n",
       "    <tr>\n",
       "      <th>TSX:AC</th>\n",
       "      <td>Air Canada (TSX:AC)</td>\n",
       "      <td>19197.0</td>\n",
       "    </tr>\n",
       "    <tr>\n",
       "      <th>TSX:AQN</th>\n",
       "      <td>Algonquin Power &amp; Utilities Corp. (TSX:AQN)</td>\n",
       "      <td>12811.6</td>\n",
       "    </tr>\n",
       "    <tr>\n",
       "      <th>TSX:ATD.B</th>\n",
       "      <td>Alimentation Couche-Tard Inc. (TSX:ATD.B)</td>\n",
       "      <td>30426.3</td>\n",
       "    </tr>\n",
       "    <tr>\n",
       "      <th>TSX:ALA</th>\n",
       "      <td>AltaGas Ltd. (TSX:ALA)</td>\n",
       "      <td>23487.7</td>\n",
       "    </tr>\n",
       "  </tbody>\n",
       "</table>\n",
       "</div>"
      ],
      "text/plain": [
       "                                                  Name  TotalAssets\n",
       "Ticker                                                             \n",
       "NYSE:AEM         Agnico Eagle Mines Limited (NYSE:AEM)      10715.5\n",
       "TSX:AC                             Air Canada (TSX:AC)      19197.0\n",
       "TSX:AQN    Algonquin Power & Utilities Corp. (TSX:AQN)      12811.6\n",
       "TSX:ATD.B    Alimentation Couche-Tard Inc. (TSX:ATD.B)      30426.3\n",
       "TSX:ALA                         AltaGas Ltd. (TSX:ALA)      23487.7"
      ]
     },
     "execution_count": 27,
     "metadata": {},
     "output_type": "execute_result"
    }
   ],
   "source": [
    "# Slicing based on conditions\n",
    "df.loc[df.TotalAssets>9000,['Name','TotalAssets']].head()"
   ]
  },
  {
   "cell_type": "code",
   "execution_count": 28,
   "metadata": {},
   "outputs": [
    {
     "data": {
      "text/plain": [
       "Ticker\n",
       "NYSE:AEM      True\n",
       "TSX:AC        True\n",
       "TSX:AGI      False\n",
       "TSX:AQN       True\n",
       "TSX:ATD.B     True\n",
       "Name: TotalAssets, dtype: bool"
      ]
     },
     "execution_count": 28,
     "metadata": {},
     "output_type": "execute_result"
    }
   ],
   "source": [
    "bool_series=df.TotalAssets>9000\n",
    "bool_series[:5]"
   ]
  },
  {
   "cell_type": "code",
   "execution_count": 29,
   "metadata": {},
   "outputs": [
    {
     "name": "stdout",
     "output_type": "stream",
     "text": [
      "Ticker\n",
      "TSX:FM    First Quantum Minerals Ltd. (TSX:FM)\n",
      "Name: Name, dtype: object\n",
      "\n",
      "[Materials]\n",
      "Categories (11, object): [Communication Services, Consumer Discretionary, Consumer Staples, Energy, ..., Information Technology, Materials, Real Estate, Utilities]\n",
      "\n",
      "(19, 5)\n",
      "\n",
      "Financials                21\n",
      "Materials                 19\n",
      "Energy                    18\n",
      "Industrials               17\n",
      "Utilities                 12\n",
      "Real Estate               11\n",
      "Consumer Discretionary     9\n",
      "Consumer Staples           8\n",
      "Information Technology     6\n",
      "Communication Services     6\n",
      "Health Care                5\n",
      "Name: PrimarySector, dtype: int64\n",
      "\n",
      "                                             Name  TotalAssets  TotalRevenue  \\\n",
      "Ticker                                                                         \n",
      "TSX:FNV       Franco-Nevada Corporation (TSX:FNV)       6729.6         888.2   \n",
      "TSX:AGI                Alamos Gold Inc. (TSX:AGI)       4455.5         889.4   \n",
      "TSX:DGC         Detour Gold Corporation (TSX:DGC)       3367.7        1058.9   \n",
      "TSX:PAAS     Pan American Silver Corp. (TSX:PAAS)       2643.8        1070.5   \n",
      "TSX:WPM   Wheaton Precious Metals Corp. (TSX:WPM)       8828.6        1083.5   \n",
      "\n",
      "          GeographicSegments PrimarySector  \n",
      "Ticker                                      \n",
      "TSX:FNV                  7.0     Materials  \n",
      "TSX:AGI                  4.0     Materials  \n",
      "TSX:DGC                  1.0     Materials  \n",
      "TSX:PAAS                 NaN     Materials  \n",
      "TSX:WPM                  9.0     Materials  \n",
      "\n",
      "(15, 2)\n",
      "Number of companies excluded is  4\n",
      "\n",
      "        TotalAssets  TotalRevenue\n",
      "count     15.000000     15.000000\n",
      "mean   16470.833333   5788.940000\n",
      "std    16964.696276   6416.537926\n",
      "min     3476.600000    888.200000\n",
      "25%     6509.400000   2013.100000\n",
      "50%     8828.600000   4383.700000\n",
      "75%    20942.150000   5764.900000\n",
      "max    62089.300000  25615.100000\n"
     ]
    }
   ],
   "source": [
    "# Exercise\n",
    "# 1. Get the ticker and name ONLY for the company that has the most geographic segments\n",
    "# 2. Use the index of the company found in step 1 to get its primary sector \n",
    "# 3. Craete a new dataframe containing only companies in the same sector as the company in question\n",
    "# 4. What is the shape of this new dataframe? \n",
    "# 5. Does the shape match the information shown by df.PrimarySector.value_counts()?\n",
    "# 6. Sort the dataframe created in step 3 by total revenue (in place) and view the top 5 companies\n",
    "# 7. Create a third dataframe from the sorted dataframe (step 6) with only two columns: \"TotalAssets\" and \"TotalRevenue\"\n",
    "# and exclude companies with less than 4 geographic segments\n",
    "# 8. How many companies were excluded? \n",
    "# 9. Print the summary statistics (count, mean, std etc.) of the dataframe created in step 7.\n",
    "\n",
    "most_segments = df.nlargest(1,'GeographicSegments')['Name']\n",
    "print(most_segments)\n",
    "print()\n",
    "most_segments_ticker = most_segments.index\n",
    "sector = df.loc[most_segments_ticker]['PrimarySector'].values\n",
    "print(sector)\n",
    "print()\n",
    "sector_df = df.loc[df.PrimarySector==sector]\n",
    "print(sector_df.shape)\n",
    "print()\n",
    "print(df.PrimarySector.value_counts())\n",
    "print()\n",
    "sector_df=sector_df.sort_values('TotalRevenue')\n",
    "print(sector_df.head())\n",
    "print()\n",
    "mini_sector_df = sector_df.loc[sector_df.GeographicSegments>=4., ['TotalAssets','TotalRevenue']]\n",
    "print(mini_sector_df.shape)\n",
    "print('Number of companies excluded is ', len(sector_df)-len(mini_sector_df))\n",
    "print()\n",
    "print(mini_sector_df.describe())"
   ]
  },
  {
   "cell_type": "code",
   "execution_count": 30,
   "metadata": {
    "scrolled": true
   },
   "outputs": [
    {
     "data": {
      "text/plain": [
       "Name                  False\n",
       "TotalAssets           False\n",
       "TotalRevenue          False\n",
       "GeographicSegments     True\n",
       "PrimarySector         False\n",
       "dtype: bool"
      ]
     },
     "execution_count": 30,
     "metadata": {},
     "output_type": "execute_result"
    }
   ],
   "source": [
    "# Dealing with missing values\n",
    "df.isna().any() # identify which variables contain missing values"
   ]
  },
  {
   "cell_type": "code",
   "execution_count": 31,
   "metadata": {
    "scrolled": true
   },
   "outputs": [
    {
     "data": {
      "text/html": [
       "<div>\n",
       "<style scoped>\n",
       "    .dataframe tbody tr th:only-of-type {\n",
       "        vertical-align: middle;\n",
       "    }\n",
       "\n",
       "    .dataframe tbody tr th {\n",
       "        vertical-align: top;\n",
       "    }\n",
       "\n",
       "    .dataframe thead th {\n",
       "        text-align: right;\n",
       "    }\n",
       "</style>\n",
       "<table border=\"1\" class=\"dataframe\">\n",
       "  <thead>\n",
       "    <tr style=\"text-align: right;\">\n",
       "      <th></th>\n",
       "      <th>Name</th>\n",
       "      <th>GeographicSegments</th>\n",
       "    </tr>\n",
       "    <tr>\n",
       "      <th>Ticker</th>\n",
       "      <th></th>\n",
       "      <th></th>\n",
       "    </tr>\n",
       "  </thead>\n",
       "  <tbody>\n",
       "    <tr>\n",
       "      <th>TSX:CNQ</th>\n",
       "      <td>Canadian Natural Resources Limited (TSX:CNQ)</td>\n",
       "      <td>NaN</td>\n",
       "    </tr>\n",
       "    <tr>\n",
       "      <th>TSX:CSH.UN</th>\n",
       "      <td>Chartwell Retirement Residences (TSX:CSH.UN)</td>\n",
       "      <td>NaN</td>\n",
       "    </tr>\n",
       "    <tr>\n",
       "      <th>TSX:EMP.A</th>\n",
       "      <td>Empire Company Limited (TSX:EMP.A)</td>\n",
       "      <td>NaN</td>\n",
       "    </tr>\n",
       "    <tr>\n",
       "      <th>TSX:IAG</th>\n",
       "      <td>iA Financial Corporation Inc. (TSX:IAG)</td>\n",
       "      <td>NaN</td>\n",
       "    </tr>\n",
       "    <tr>\n",
       "      <th>TSX:IPL</th>\n",
       "      <td>Inter Pipeline Ltd. (TSX:IPL)</td>\n",
       "      <td>NaN</td>\n",
       "    </tr>\n",
       "    <tr>\n",
       "      <th>TSX:PAAS</th>\n",
       "      <td>Pan American Silver Corp. (TSX:PAAS)</td>\n",
       "      <td>NaN</td>\n",
       "    </tr>\n",
       "    <tr>\n",
       "      <th>TSX:PPL</th>\n",
       "      <td>Pembina Pipeline Corporation (TSX:PPL)</td>\n",
       "      <td>NaN</td>\n",
       "    </tr>\n",
       "    <tr>\n",
       "      <th>TSX:SLF</th>\n",
       "      <td>Sun Life Financial Inc. (TSX:SLF)</td>\n",
       "      <td>NaN</td>\n",
       "    </tr>\n",
       "  </tbody>\n",
       "</table>\n",
       "</div>"
      ],
      "text/plain": [
       "                                                    Name  GeographicSegments\n",
       "Ticker                                                                      \n",
       "TSX:CNQ     Canadian Natural Resources Limited (TSX:CNQ)                 NaN\n",
       "TSX:CSH.UN  Chartwell Retirement Residences (TSX:CSH.UN)                 NaN\n",
       "TSX:EMP.A             Empire Company Limited (TSX:EMP.A)                 NaN\n",
       "TSX:IAG          iA Financial Corporation Inc. (TSX:IAG)                 NaN\n",
       "TSX:IPL                    Inter Pipeline Ltd. (TSX:IPL)                 NaN\n",
       "TSX:PAAS            Pan American Silver Corp. (TSX:PAAS)                 NaN\n",
       "TSX:PPL           Pembina Pipeline Corporation (TSX:PPL)                 NaN\n",
       "TSX:SLF                Sun Life Financial Inc. (TSX:SLF)                 NaN"
      ]
     },
     "execution_count": 31,
     "metadata": {},
     "output_type": "execute_result"
    }
   ],
   "source": [
    "df.loc[df.GeographicSegments.isna(),['Name','GeographicSegments']]"
   ]
  },
  {
   "cell_type": "code",
   "execution_count": 32,
   "metadata": {
    "scrolled": true
   },
   "outputs": [
    {
     "data": {
      "text/plain": [
       "False"
      ]
     },
     "execution_count": 32,
     "metadata": {},
     "output_type": "execute_result"
    }
   ],
   "source": [
    "df.GeographicSegments=df.GeographicSegments.fillna(0) #df.GeographicSegments.fillna(0,inplace=True)\n",
    "df.GeographicSegments.isna().any() # check if we succeeded"
   ]
  },
  {
   "cell_type": "code",
   "execution_count": 33,
   "metadata": {},
   "outputs": [],
   "source": [
    "df.GeographicSegments = df.GeographicSegments.astype('int')"
   ]
  },
  {
   "cell_type": "code",
   "execution_count": 34,
   "metadata": {
    "scrolled": true
   },
   "outputs": [
    {
     "name": "stdout",
     "output_type": "stream",
     "text": [
      "           TotalAssets  TotalRevenue  GeographicSegments\n",
      "Ticker                                                  \n",
      "NYSE:AEM       10715.5        2990.0                   5\n",
      "TSX:AC         19197.0       18065.0                   5\n",
      "TSX:AGI         4455.5         889.4                   4\n",
      "TSX:AQN        12811.6        2247.9                   2\n",
      "TSX:ATD.B      30426.3       79562.8                   3\n"
     ]
    }
   ],
   "source": [
    "# Arithmetic & aggregation\n",
    "\n",
    "numeric_df = df.select_dtypes(include='number')\n",
    "print(numeric_df.head())"
   ]
  },
  {
   "cell_type": "code",
   "execution_count": 35,
   "metadata": {
    "scrolled": true
   },
   "outputs": [
    {
     "data": {
      "text/html": [
       "<div>\n",
       "<style scoped>\n",
       "    .dataframe tbody tr th:only-of-type {\n",
       "        vertical-align: middle;\n",
       "    }\n",
       "\n",
       "    .dataframe tbody tr th {\n",
       "        vertical-align: top;\n",
       "    }\n",
       "\n",
       "    .dataframe thead th {\n",
       "        text-align: right;\n",
       "    }\n",
       "</style>\n",
       "<table border=\"1\" class=\"dataframe\">\n",
       "  <thead>\n",
       "    <tr style=\"text-align: right;\">\n",
       "      <th></th>\n",
       "      <th>TotalAssets</th>\n",
       "      <th>TotalRevenue</th>\n",
       "      <th>GeographicSegments</th>\n",
       "    </tr>\n",
       "    <tr>\n",
       "      <th>Ticker</th>\n",
       "      <th></th>\n",
       "      <th></th>\n",
       "      <th></th>\n",
       "    </tr>\n",
       "  </thead>\n",
       "  <tbody>\n",
       "    <tr>\n",
       "      <th>NYSE:AEM</th>\n",
       "      <td>9.3</td>\n",
       "      <td>8.0</td>\n",
       "      <td>1.6</td>\n",
       "    </tr>\n",
       "    <tr>\n",
       "      <th>TSX:AC</th>\n",
       "      <td>9.9</td>\n",
       "      <td>9.8</td>\n",
       "      <td>1.6</td>\n",
       "    </tr>\n",
       "    <tr>\n",
       "      <th>TSX:AGI</th>\n",
       "      <td>8.4</td>\n",
       "      <td>6.8</td>\n",
       "      <td>1.4</td>\n",
       "    </tr>\n",
       "    <tr>\n",
       "      <th>TSX:AQN</th>\n",
       "      <td>9.5</td>\n",
       "      <td>7.7</td>\n",
       "      <td>0.7</td>\n",
       "    </tr>\n",
       "    <tr>\n",
       "      <th>TSX:ATD.B</th>\n",
       "      <td>10.3</td>\n",
       "      <td>11.3</td>\n",
       "      <td>1.1</td>\n",
       "    </tr>\n",
       "  </tbody>\n",
       "</table>\n",
       "</div>"
      ],
      "text/plain": [
       "           TotalAssets  TotalRevenue  GeographicSegments\n",
       "Ticker                                                  \n",
       "NYSE:AEM           9.3           8.0                 1.6\n",
       "TSX:AC             9.9           9.8                 1.6\n",
       "TSX:AGI            8.4           6.8                 1.4\n",
       "TSX:AQN            9.5           7.7                 0.7\n",
       "TSX:ATD.B         10.3          11.3                 1.1"
      ]
     },
     "execution_count": 35,
     "metadata": {},
     "output_type": "execute_result"
    }
   ],
   "source": [
    "numeric_df.apply(np.log).head().round(1) # applies function to each cell"
   ]
  },
  {
   "cell_type": "code",
   "execution_count": 36,
   "metadata": {
    "scrolled": true
   },
   "outputs": [
    {
     "data": {
      "text/plain": [
       "TotalAssets           10532718.0\n",
       "TotalRevenue           1535777.6\n",
       "GeographicSegments         597.0\n",
       "dtype: float64"
      ]
     },
     "execution_count": 36,
     "metadata": {},
     "output_type": "execute_result"
    }
   ],
   "source": [
    "numeric_df.sum() # defaults to summing over axis 0/axis='rows'"
   ]
  },
  {
   "cell_type": "code",
   "execution_count": 37,
   "metadata": {
    "scrolled": false
   },
   "outputs": [
    {
     "data": {
      "text/plain": [
       "Ticker\n",
       "NYSE:AEM      13710.5\n",
       "TSX:AC        37267.0\n",
       "TSX:AGI        5348.9\n",
       "TSX:AQN       15061.5\n",
       "TSX:ATD.B    109992.1\n",
       "dtype: float64"
      ]
     },
     "execution_count": 37,
     "metadata": {},
     "output_type": "execute_result"
    }
   ],
   "source": [
    "numeric_df.sum(axis='columns')[:5]"
   ]
  },
  {
   "cell_type": "code",
   "execution_count": 38,
   "metadata": {},
   "outputs": [
    {
     "data": {
      "text/plain": [
       "Ticker\n",
       "NYSE:AEM      13710.5\n",
       "TSX:AC        37267.0\n",
       "TSX:AGI        5348.9\n",
       "TSX:AQN       15061.5\n",
       "TSX:ATD.B    109992.1\n",
       "dtype: float64"
      ]
     },
     "execution_count": 38,
     "metadata": {},
     "output_type": "execute_result"
    }
   ],
   "source": [
    "numeric_df.sum(axis=1)[:5] # same as NumPy (and as above)"
   ]
  },
  {
   "cell_type": "code",
   "execution_count": 51,
   "metadata": {},
   "outputs": [
    {
     "name": "stdout",
     "output_type": "stream",
     "text": [
      "TotalAssets           10715.5\n",
      "TotalRevenue           2990.0\n",
      "GeographicSegments        5.0\n",
      "Name: NYSE:AEM, dtype: float64\n"
     ]
    },
    {
     "data": {
      "text/plain": [
       "13710.5"
      ]
     },
     "execution_count": 51,
     "metadata": {},
     "output_type": "execute_result"
    }
   ],
   "source": [
    "print(numeric_df.loc['NYSE:AEM'])\n",
    "10715.5+2990+5 # check pandas sum of numeric variables"
   ]
  },
  {
   "cell_type": "code",
   "execution_count": 40,
   "metadata": {
    "scrolled": true
   },
   "outputs": [
    {
     "name": "stdout",
     "output_type": "stream",
     "text": [
      "Ticker\n",
      "NYSE:AEM     21431.0\n",
      "TSX:AC       38394.0\n",
      "TSX:AGI       8911.0\n",
      "TSX:AQN      25623.2\n",
      "TSX:ATD.B    60852.6\n",
      "Name: TotalAssets, dtype: float64\n"
     ]
    }
   ],
   "source": [
    "a=df.TotalAssets*2\n",
    "print(a[:5])"
   ]
  },
  {
   "cell_type": "code",
   "execution_count": 41,
   "metadata": {},
   "outputs": [
    {
     "data": {
      "text/plain": [
       "Ticker\n",
       "NYSE:AEM     53577.5\n",
       "TSX:AC       95985.0\n",
       "TSX:AGI      17822.0\n",
       "TSX:AQN      25623.2\n",
       "TSX:ATD.B    91278.9\n",
       "dtype: float64"
      ]
     },
     "execution_count": 41,
     "metadata": {},
     "output_type": "execute_result"
    }
   ],
   "source": [
    "b=df.TotalAssets*df.GeographicSegments # elementwise multiplication\n",
    "b[:5]"
   ]
  },
  {
   "cell_type": "code",
   "execution_count": 42,
   "metadata": {},
   "outputs": [
    {
     "data": {
      "text/html": [
       "<div>\n",
       "<style scoped>\n",
       "    .dataframe tbody tr th:only-of-type {\n",
       "        vertical-align: middle;\n",
       "    }\n",
       "\n",
       "    .dataframe tbody tr th {\n",
       "        vertical-align: top;\n",
       "    }\n",
       "\n",
       "    .dataframe thead th {\n",
       "        text-align: right;\n",
       "    }\n",
       "</style>\n",
       "<table border=\"1\" class=\"dataframe\">\n",
       "  <thead>\n",
       "    <tr style=\"text-align: right;\">\n",
       "      <th></th>\n",
       "      <th>TotalAssets</th>\n",
       "      <th>TotalRevenue</th>\n",
       "      <th>GeographicSegments</th>\n",
       "    </tr>\n",
       "    <tr>\n",
       "      <th>PrimarySector</th>\n",
       "      <th></th>\n",
       "      <th></th>\n",
       "      <th></th>\n",
       "    </tr>\n",
       "  </thead>\n",
       "  <tbody>\n",
       "    <tr>\n",
       "      <th>Financials</th>\n",
       "      <td>271827.0</td>\n",
       "      <td>24231.1</td>\n",
       "      <td>3.0</td>\n",
       "    </tr>\n",
       "    <tr>\n",
       "      <th>Utilities</th>\n",
       "      <td>23415.8</td>\n",
       "      <td>4316.8</td>\n",
       "      <td>3.0</td>\n",
       "    </tr>\n",
       "    <tr>\n",
       "      <th>Communication Services</th>\n",
       "      <td>23171.0</td>\n",
       "      <td>9667.0</td>\n",
       "      <td>1.0</td>\n",
       "    </tr>\n",
       "    <tr>\n",
       "      <th>Energy</th>\n",
       "      <td>16199.5</td>\n",
       "      <td>7398.6</td>\n",
       "      <td>2.0</td>\n",
       "    </tr>\n",
       "    <tr>\n",
       "      <th>Real Estate</th>\n",
       "      <td>10453.1</td>\n",
       "      <td>1083.2</td>\n",
       "      <td>2.0</td>\n",
       "    </tr>\n",
       "    <tr>\n",
       "      <th>Consumer Staples</th>\n",
       "      <td>10403.9</td>\n",
       "      <td>19816.4</td>\n",
       "      <td>2.0</td>\n",
       "    </tr>\n",
       "    <tr>\n",
       "      <th>Industrials</th>\n",
       "      <td>7766.6</td>\n",
       "      <td>6996.0</td>\n",
       "      <td>4.0</td>\n",
       "    </tr>\n",
       "    <tr>\n",
       "      <th>Materials</th>\n",
       "      <td>7027.6</td>\n",
       "      <td>2454.1</td>\n",
       "      <td>5.0</td>\n",
       "    </tr>\n",
       "    <tr>\n",
       "      <th>Information Technology</th>\n",
       "      <td>4589.4</td>\n",
       "      <td>2608.5</td>\n",
       "      <td>5.5</td>\n",
       "    </tr>\n",
       "    <tr>\n",
       "      <th>Consumer Discretionary</th>\n",
       "      <td>4094.8</td>\n",
       "      <td>3964.0</td>\n",
       "      <td>6.0</td>\n",
       "    </tr>\n",
       "    <tr>\n",
       "      <th>Health Care</th>\n",
       "      <td>3318.8</td>\n",
       "      <td>226.3</td>\n",
       "      <td>2.0</td>\n",
       "    </tr>\n",
       "  </tbody>\n",
       "</table>\n",
       "</div>"
      ],
      "text/plain": [
       "                        TotalAssets  TotalRevenue  GeographicSegments\n",
       "PrimarySector                                                        \n",
       "Financials                 271827.0       24231.1                 3.0\n",
       "Utilities                   23415.8        4316.8                 3.0\n",
       "Communication Services      23171.0        9667.0                 1.0\n",
       "Energy                      16199.5        7398.6                 2.0\n",
       "Real Estate                 10453.1        1083.2                 2.0\n",
       "Consumer Staples            10403.9       19816.4                 2.0\n",
       "Industrials                  7766.6        6996.0                 4.0\n",
       "Materials                    7027.6        2454.1                 5.0\n",
       "Information Technology       4589.4        2608.5                 5.5\n",
       "Consumer Discretionary       4094.8        3964.0                 6.0\n",
       "Health Care                  3318.8         226.3                 2.0"
      ]
     },
     "execution_count": 42,
     "metadata": {},
     "output_type": "execute_result"
    }
   ],
   "source": [
    "# Groupby\n",
    "# References: \n",
    "# https://pandas.pydata.org/pandas-docs/stable/reference/api/pandas.DataFrame.groupby.html, \n",
    "# https://pandas.pydata.org/pandas-docs/stable/user_guide/groupby.html\n",
    "\n",
    "df.groupby(['PrimarySector']).median().round(1).sort_values('TotalAssets', ascending=False)"
   ]
  },
  {
   "cell_type": "code",
   "execution_count": 53,
   "metadata": {},
   "outputs": [
    {
     "data": {
      "text/html": [
       "<div>\n",
       "<style scoped>\n",
       "    .dataframe tbody tr th:only-of-type {\n",
       "        vertical-align: middle;\n",
       "    }\n",
       "\n",
       "    .dataframe tbody tr th {\n",
       "        vertical-align: top;\n",
       "    }\n",
       "\n",
       "    .dataframe thead th {\n",
       "        text-align: right;\n",
       "    }\n",
       "</style>\n",
       "<table border=\"1\" class=\"dataframe\">\n",
       "  <thead>\n",
       "    <tr style=\"text-align: right;\">\n",
       "      <th>PrimarySector</th>\n",
       "      <th>Communication Services</th>\n",
       "      <th>Consumer Discretionary</th>\n",
       "      <th>Consumer Staples</th>\n",
       "      <th>Energy</th>\n",
       "      <th>Financials</th>\n",
       "      <th>Health Care</th>\n",
       "      <th>Industrials</th>\n",
       "      <th>Information Technology</th>\n",
       "      <th>Materials</th>\n",
       "      <th>Real Estate</th>\n",
       "      <th>Utilities</th>\n",
       "    </tr>\n",
       "  </thead>\n",
       "  <tbody>\n",
       "    <tr>\n",
       "      <th>TotalAssets</th>\n",
       "      <td>25534.3</td>\n",
       "      <td>11894.1</td>\n",
       "      <td>17547.7</td>\n",
       "      <td>35740.5</td>\n",
       "      <td>396182.0</td>\n",
       "      <td>11711.8</td>\n",
       "      <td>14655.5</td>\n",
       "      <td>5902.0</td>\n",
       "      <td>13551.0</td>\n",
       "      <td>23424.5</td>\n",
       "      <td>25867.3</td>\n",
       "    </tr>\n",
       "    <tr>\n",
       "      <th>TotalRevenue</th>\n",
       "      <td>10750.4</td>\n",
       "      <td>10514.8</td>\n",
       "      <td>29310.0</td>\n",
       "      <td>13658.6</td>\n",
       "      <td>24718.1</td>\n",
       "      <td>2520.0</td>\n",
       "      <td>10309.5</td>\n",
       "      <td>3741.9</td>\n",
       "      <td>4859.9</td>\n",
       "      <td>2188.7</td>\n",
       "      <td>4208.4</td>\n",
       "    </tr>\n",
       "  </tbody>\n",
       "</table>\n",
       "</div>"
      ],
      "text/plain": [
       "PrimarySector  Communication Services  Consumer Discretionary  \\\n",
       "TotalAssets                   25534.3                 11894.1   \n",
       "TotalRevenue                  10750.4                 10514.8   \n",
       "\n",
       "PrimarySector  Consumer Staples   Energy  Financials  Health Care  \\\n",
       "TotalAssets             17547.7  35740.5    396182.0      11711.8   \n",
       "TotalRevenue            29310.0  13658.6     24718.1       2520.0   \n",
       "\n",
       "PrimarySector  Industrials  Information Technology  Materials  Real Estate  \\\n",
       "TotalAssets        14655.5                  5902.0    13551.0      23424.5   \n",
       "TotalRevenue       10309.5                  3741.9     4859.9       2188.7   \n",
       "\n",
       "PrimarySector  Utilities  \n",
       "TotalAssets      25867.3  \n",
       "TotalRevenue      4208.4  "
      ]
     },
     "execution_count": 53,
     "metadata": {},
     "output_type": "execute_result"
    }
   ],
   "source": [
    "# Pivot table\n",
    "df.pivot_table(values=['TotalAssets','TotalRevenue'],columns=['PrimarySector'],aggfunc=np.mean).round(1)"
   ]
  },
  {
   "cell_type": "code",
   "execution_count": 44,
   "metadata": {},
   "outputs": [
    {
     "data": {
      "text/html": [
       "<div>\n",
       "<style scoped>\n",
       "    .dataframe tbody tr th:only-of-type {\n",
       "        vertical-align: middle;\n",
       "    }\n",
       "\n",
       "    .dataframe tbody tr th {\n",
       "        vertical-align: top;\n",
       "    }\n",
       "\n",
       "    .dataframe thead th {\n",
       "        text-align: right;\n",
       "    }\n",
       "</style>\n",
       "<table border=\"1\" class=\"dataframe\">\n",
       "  <thead>\n",
       "    <tr style=\"text-align: right;\">\n",
       "      <th></th>\n",
       "      <th>Name</th>\n",
       "      <th>TotalAssets</th>\n",
       "      <th>TotalRevenue</th>\n",
       "      <th>GeographicSegments</th>\n",
       "      <th>PrimarySector</th>\n",
       "      <th>AssetsInBillions</th>\n",
       "    </tr>\n",
       "    <tr>\n",
       "      <th>Ticker</th>\n",
       "      <th></th>\n",
       "      <th></th>\n",
       "      <th></th>\n",
       "      <th></th>\n",
       "      <th></th>\n",
       "      <th></th>\n",
       "    </tr>\n",
       "  </thead>\n",
       "  <tbody>\n",
       "    <tr>\n",
       "      <th>NYSE:AEM</th>\n",
       "      <td>Agnico Eagle Mines Limited (NYSE:AEM)</td>\n",
       "      <td>10715.5</td>\n",
       "      <td>2990.0</td>\n",
       "      <td>5</td>\n",
       "      <td>Materials</td>\n",
       "      <td>11.0</td>\n",
       "    </tr>\n",
       "    <tr>\n",
       "      <th>TSX:AC</th>\n",
       "      <td>Air Canada (TSX:AC)</td>\n",
       "      <td>19197.0</td>\n",
       "      <td>18065.0</td>\n",
       "      <td>5</td>\n",
       "      <td>Industrials</td>\n",
       "      <td>19.0</td>\n",
       "    </tr>\n",
       "    <tr>\n",
       "      <th>TSX:AGI</th>\n",
       "      <td>Alamos Gold Inc. (TSX:AGI)</td>\n",
       "      <td>4455.5</td>\n",
       "      <td>889.4</td>\n",
       "      <td>4</td>\n",
       "      <td>Materials</td>\n",
       "      <td>4.0</td>\n",
       "    </tr>\n",
       "    <tr>\n",
       "      <th>TSX:AQN</th>\n",
       "      <td>Algonquin Power &amp; Utilities Corp. (TSX:AQN)</td>\n",
       "      <td>12811.6</td>\n",
       "      <td>2247.9</td>\n",
       "      <td>2</td>\n",
       "      <td>Utilities</td>\n",
       "      <td>13.0</td>\n",
       "    </tr>\n",
       "    <tr>\n",
       "      <th>TSX:ATD.B</th>\n",
       "      <td>Alimentation Couche-Tard Inc. (TSX:ATD.B)</td>\n",
       "      <td>30426.3</td>\n",
       "      <td>79562.8</td>\n",
       "      <td>3</td>\n",
       "      <td>Consumer Staples</td>\n",
       "      <td>30.0</td>\n",
       "    </tr>\n",
       "  </tbody>\n",
       "</table>\n",
       "</div>"
      ],
      "text/plain": [
       "                                                  Name  TotalAssets  \\\n",
       "Ticker                                                                \n",
       "NYSE:AEM         Agnico Eagle Mines Limited (NYSE:AEM)      10715.5   \n",
       "TSX:AC                             Air Canada (TSX:AC)      19197.0   \n",
       "TSX:AGI                     Alamos Gold Inc. (TSX:AGI)       4455.5   \n",
       "TSX:AQN    Algonquin Power & Utilities Corp. (TSX:AQN)      12811.6   \n",
       "TSX:ATD.B    Alimentation Couche-Tard Inc. (TSX:ATD.B)      30426.3   \n",
       "\n",
       "           TotalRevenue  GeographicSegments     PrimarySector  \\\n",
       "Ticker                                                          \n",
       "NYSE:AEM         2990.0                   5         Materials   \n",
       "TSX:AC          18065.0                   5       Industrials   \n",
       "TSX:AGI           889.4                   4         Materials   \n",
       "TSX:AQN          2247.9                   2         Utilities   \n",
       "TSX:ATD.B       79562.8                   3  Consumer Staples   \n",
       "\n",
       "           AssetsInBillions  \n",
       "Ticker                       \n",
       "NYSE:AEM               11.0  \n",
       "TSX:AC                 19.0  \n",
       "TSX:AGI                 4.0  \n",
       "TSX:AQN                13.0  \n",
       "TSX:ATD.B              30.0  "
      ]
     },
     "execution_count": 44,
     "metadata": {},
     "output_type": "execute_result"
    }
   ],
   "source": [
    "# Assigning new data\n",
    "df['AssetsInBillions']= np.round(df.TotalAssets/1000)\n",
    "df.head()"
   ]
  },
  {
   "cell_type": "code",
   "execution_count": 45,
   "metadata": {
    "scrolled": true
   },
   "outputs": [
    {
     "name": "stdout",
     "output_type": "stream",
     "text": [
      "8\n",
      "0\n"
     ]
    }
   ],
   "source": [
    "# If a company has the number of geographic segments listed as 0, change it to 1\n",
    "print(len(df.loc[df.GeographicSegments==0]))\n",
    "df.loc[df.GeographicSegments==0,'GeographicSegments']=1\n",
    "print(len(df.loc[df.GeographicSegments==0]))"
   ]
  },
  {
   "cell_type": "code",
   "execution_count": 47,
   "metadata": {},
   "outputs": [
    {
     "name": "stdout",
     "output_type": "stream",
     "text": [
      "3747.0\n",
      "3477.0\n"
     ]
    }
   ],
   "source": [
    "# Correct the total assets figure for TSX:RNW from 3747 to 3477\n",
    "print(df.loc['TSX:RNW','TotalAssets'])\n",
    "df.loc['TSX:RNW','TotalAssets'] = 3477.\n",
    "print(df.loc['TSX:RNW','TotalAssets'])"
   ]
  }
 ],
 "metadata": {
  "kernelspec": {
   "display_name": "Python 3",
   "language": "python",
   "name": "python3"
  },
  "language_info": {
   "codemirror_mode": {
    "name": "ipython",
    "version": 3
   },
   "file_extension": ".py",
   "mimetype": "text/x-python",
   "name": "python",
   "nbconvert_exporter": "python",
   "pygments_lexer": "ipython3",
   "version": "3.7.0"
  }
 },
 "nbformat": 4,
 "nbformat_minor": 2
}
