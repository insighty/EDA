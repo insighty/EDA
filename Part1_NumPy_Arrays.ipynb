{
 "cells": [
  {
   "cell_type": "code",
   "execution_count": 3,
   "metadata": {
    "scrolled": true
   },
   "outputs": [],
   "source": [
    "# References:\n",
    "# Quickstart tutorial: https://docs.scipy.org/doc/numpy/user/quickstart.html\n",
    "# Docs - Numpy Reference: https://docs.scipy.org/doc/numpy/reference/index.html\n",
    "# Stanford CS Class (Justin Johnson): http://cs231n.github.io/python-numpy-tutorial/\n",
    "# Datacamp cheat sheet: https://s3.amazonaws.com/assets.datacamp.com/blog_assets/Numpy_Python_Cheat_Sheet.pdf"
   ]
  },
  {
   "cell_type": "code",
   "execution_count": 4,
   "metadata": {},
   "outputs": [],
   "source": [
    "# Imports\n",
    "import random as rand\n",
    "import numpy as np"
   ]
  },
  {
   "cell_type": "code",
   "execution_count": 5,
   "metadata": {},
   "outputs": [
    {
     "name": "stdout",
     "output_type": "stream",
     "text": [
      "['Krista', 'Jose', 'Arun', 'Marek', 'Joe']\n",
      "[158, 165, 151, 189, 178]\n",
      "[29, 62, 25, 65, 59]\n"
     ]
    }
   ],
   "source": [
    "# Life without arrays\n",
    "rand.seed(22)\n",
    "names = ['Krista', 'Jose', 'Arun', 'Marek', 'Joe']\n",
    "heights = [rand.randint(150,200) for i in names]\n",
    "ages = [rand.randint(18,80) for i in names]\n",
    "print(names)\n",
    "print(heights)\n",
    "print(ages)"
   ]
  },
  {
   "cell_type": "code",
   "execution_count": 6,
   "metadata": {},
   "outputs": [
    {
     "name": "stdout",
     "output_type": "stream",
     "text": [
      "[29, 62, 25, 65, 59, 29, 62, 25, 65, 59]\n"
     ]
    },
    {
     "ename": "TypeError",
     "evalue": "can only concatenate list (not \"int\") to list",
     "output_type": "error",
     "traceback": [
      "\u001b[1;31m---------------------------------------------------------------------------\u001b[0m",
      "\u001b[1;31mTypeError\u001b[0m                                 Traceback (most recent call last)",
      "\u001b[1;32m<ipython-input-6-4ede582da30e>\u001b[0m in \u001b[0;36m<module>\u001b[1;34m()\u001b[0m\n\u001b[0;32m      1\u001b[0m \u001b[1;31m# Multiple each age, add 2 to each age\u001b[0m\u001b[1;33m\u001b[0m\u001b[1;33m\u001b[0m\u001b[0m\n\u001b[0;32m      2\u001b[0m \u001b[0mprint\u001b[0m\u001b[1;33m(\u001b[0m\u001b[0mages\u001b[0m\u001b[1;33m*\u001b[0m\u001b[1;36m2\u001b[0m\u001b[1;33m)\u001b[0m\u001b[1;33m\u001b[0m\u001b[0m\n\u001b[1;32m----> 3\u001b[1;33m \u001b[0mprint\u001b[0m\u001b[1;33m(\u001b[0m\u001b[0mages\u001b[0m\u001b[1;33m+\u001b[0m\u001b[1;36m2\u001b[0m\u001b[1;33m)\u001b[0m\u001b[1;33m\u001b[0m\u001b[0m\n\u001b[0m",
      "\u001b[1;31mTypeError\u001b[0m: can only concatenate list (not \"int\") to list"
     ]
    }
   ],
   "source": [
    "# Multiple each age, add 2 to each age\n",
    "print(ages*2)\n",
    "print(ages+2)"
   ]
  },
  {
   "cell_type": "code",
   "execution_count": 8,
   "metadata": {},
   "outputs": [
    {
     "name": "stdout",
     "output_type": "stream",
     "text": [
      "[58, 124, 50, 130, 118]\n",
      "[ 58 124  50 130 118]\n"
     ]
    }
   ],
   "source": [
    "# Multiply age by 2\n",
    "def elementwise_multiplication(my_list, var):\n",
    "    new = []\n",
    "    for element in my_list:\n",
    "        new.append(element*var)\n",
    "    return new\n",
    "\n",
    "age_by_two = elementwise_multiplication(ages, 2)\n",
    "print(age_by_two)   \n",
    "\n",
    "# With numpy\n",
    "print(np.array(ages)*2)"
   ]
  },
  {
   "cell_type": "code",
   "execution_count": 9,
   "metadata": {},
   "outputs": [],
   "source": [
    "# Consider how you would perform the following using python lists:\n",
    "    # Select only ages where height is above 160 cm\n",
    "    # Get Arun's information (age and height) only\n",
    "    # Sort by height"
   ]
  },
  {
   "cell_type": "code",
   "execution_count": 10,
   "metadata": {},
   "outputs": [
    {
     "name": "stdout",
     "output_type": "stream",
     "text": [
      "864 µs ± 36.1 µs per loop (mean ± std. dev. of 7 runs, 1000 loops each)\n",
      "8.11 µs ± 102 ns per loop (mean ± std. dev. of 7 runs, 100000 loops each)\n"
     ]
    }
   ],
   "source": [
    "# NumPy also facilitates faster operations when large datasets are involved because NumPy uses vectorized operations\n",
    "# No loops necessary\n",
    "\n",
    "basic_python = [i for i in range(10000)]\n",
    "numpy_fun = np.arange(10000)\n",
    "\n",
    "% timeit elementwise_multiplication(basic_python,500)\n",
    "% timeit numpy_fun*500"
   ]
  },
  {
   "cell_type": "code",
   "execution_count": 41,
   "metadata": {
    "scrolled": false
   },
   "outputs": [
    {
     "name": "stdout",
     "output_type": "stream",
     "text": [
      "[1 2 3]\n",
      "<class 'numpy.ndarray'>\n"
     ]
    }
   ],
   "source": [
    "# Create an array\n",
    "a = np.array([1, 2, 3])   # Create a rank 1 array\n",
    "print(a)\n",
    "print(type(a)) "
   ]
  },
  {
   "cell_type": "code",
   "execution_count": 42,
   "metadata": {},
   "outputs": [
    {
     "name": "stdout",
     "output_type": "stream",
     "text": [
      "1\n",
      "[100   2   3]\n"
     ]
    }
   ],
   "source": [
    "# List-like functionality\n",
    "print(a[0]) \n",
    "a[0] = 100\n",
    "print(a)"
   ]
  },
  {
   "cell_type": "code",
   "execution_count": 46,
   "metadata": {
    "scrolled": true
   },
   "outputs": [
    {
     "name": "stdout",
     "output_type": "stream",
     "text": [
      "(3,)\n",
      "3\n"
     ]
    }
   ],
   "source": [
    "print(a.shape)  # View the shape  \n",
    "print(len(a))"
   ]
  },
  {
   "cell_type": "code",
   "execution_count": 52,
   "metadata": {},
   "outputs": [
    {
     "name": "stdout",
     "output_type": "stream",
     "text": [
      "[[1 2 3]\n",
      " [4 5 6]]\n",
      "(2, 3)\n"
     ]
    }
   ],
   "source": [
    "# Multidimensional array\n",
    "m = np.array([[1,2,3], [4,5,6]])\n",
    "print(m)\n",
    "print(m.shape) # (rows, columns)"
   ]
  },
  {
   "cell_type": "code",
   "execution_count": 53,
   "metadata": {
    "scrolled": true
   },
   "outputs": [
    {
     "name": "stdout",
     "output_type": "stream",
     "text": [
      "[[0. 0.]\n",
      " [0. 0.]]\n"
     ]
    }
   ],
   "source": [
    "# Creating different types of multidimensional arrays\n",
    "a = np.zeros((2,2))   # Create an array of all zeros\n",
    "print(a)                   "
   ]
  },
  {
   "cell_type": "code",
   "execution_count": 54,
   "metadata": {},
   "outputs": [
    {
     "name": "stdout",
     "output_type": "stream",
     "text": [
      "[[1. 1.]\n",
      " [1. 1.]]\n",
      "[[7 7]\n",
      " [7 7]]\n"
     ]
    }
   ],
   "source": [
    "b = np.ones((2,2))    # Create an array of all ones\n",
    "print(b)              \n",
    "c = np.full((2,2), 7)  # Create a constant array\n",
    "print(c)          "
   ]
  },
  {
   "cell_type": "code",
   "execution_count": 55,
   "metadata": {},
   "outputs": [
    {
     "name": "stdout",
     "output_type": "stream",
     "text": [
      "[[1. 0.]\n",
      " [0. 1.]]\n",
      "[[0.0908199  0.2662186 ]\n",
      " [0.66192065 0.38726228]]\n"
     ]
    }
   ],
   "source": [
    "d = np.eye(2,2)         # Create a 2x2 identity matrix\n",
    "print(d)              \n",
    "e = np.random.random((2,2))  # Create an array filled with random values\n",
    "print(e)      "
   ]
  },
  {
   "cell_type": "code",
   "execution_count": 14,
   "metadata": {},
   "outputs": [
    {
     "name": "stdout",
     "output_type": "stream",
     "text": [
      "[0 1 2 3 4 5 6 7 8 9]\n",
      "[ 2  4  6  8 10]\n",
      "[22 22 22 22 22]\n"
     ]
    }
   ],
   "source": [
    "# Creating 1 dimensional arrays\n",
    "f = np.arange(10) # Creates 1D array - numbers 0 to 10\n",
    "print(f)\n",
    "g = np.arange(2,11,2) # (start, end, step)\n",
    "print(g)\n",
    "h = np.repeat(22,5) # Create 1D array of 22s \n",
    "print(h)"
   ]
  },
  {
   "cell_type": "code",
   "execution_count": 61,
   "metadata": {
    "scrolled": false
   },
   "outputs": [
    {
     "name": "stdout",
     "output_type": "stream",
     "text": [
      "[[ 1  2  3  4]\n",
      " [ 5  6  7  8]\n",
      " [ 9 10 11 12]]\n",
      "\n",
      "(3, 4)\n",
      "\n",
      "2\n",
      "\n",
      "12\n"
     ]
    }
   ],
   "source": [
    "# Viewing an array\n",
    "a = np.array([[1,2,3,4], [5,6,7,8], [9,10,11,12]])\n",
    "print(a)\n",
    "print()\n",
    "print(a.shape) #(rows, columns)\n",
    "print()\n",
    "print(a.ndim) # Dimensions \n",
    "print()\n",
    "print(a.size) # Product of shape"
   ]
  },
  {
   "cell_type": "code",
   "execution_count": 58,
   "metadata": {},
   "outputs": [
    {
     "name": "stdout",
     "output_type": "stream",
     "text": [
      "(2, 4, 1)\n",
      "3\n"
     ]
    }
   ],
   "source": [
    "# A three-dimensional array\n",
    "three_d = np.array([[[1],[2],[3],[4]],[[5],[6],[7],[8]]])\n",
    "print(three_d.shape)\n",
    "print(three_d.ndim)"
   ]
  },
  {
   "cell_type": "code",
   "execution_count": 62,
   "metadata": {
    "scrolled": true
   },
   "outputs": [
    {
     "name": "stdout",
     "output_type": "stream",
     "text": [
      "[[1 2]]\n",
      "\n"
     ]
    }
   ],
   "source": [
    "# Slicing\n",
    "# Get first two columns of first row\n",
    "print(a[:1, :2])\n",
    "print()"
   ]
  },
  {
   "cell_type": "code",
   "execution_count": 63,
   "metadata": {},
   "outputs": [
    {
     "name": "stdout",
     "output_type": "stream",
     "text": [
      "[[1 2]\n",
      " [5 6]]\n",
      "\n"
     ]
    }
   ],
   "source": [
    "# Get first two columns of first TWO rows\n",
    "print(a[:2, :2])\n",
    "print()"
   ]
  },
  {
   "cell_type": "code",
   "execution_count": 64,
   "metadata": {},
   "outputs": [
    {
     "name": "stdout",
     "output_type": "stream",
     "text": [
      "[ 4  8 12]\n"
     ]
    }
   ],
   "source": [
    "# Get last column \n",
    "print(a[:,-1])"
   ]
  },
  {
   "cell_type": "code",
   "execution_count": 65,
   "metadata": {
    "scrolled": true
   },
   "outputs": [
    {
     "name": "stdout",
     "output_type": "stream",
     "text": [
      "[1 2 3 4]\n"
     ]
    }
   ],
   "source": [
    "# Integer indexing\n",
    "print(a[0])"
   ]
  },
  {
   "cell_type": "code",
   "execution_count": 66,
   "metadata": {},
   "outputs": [
    {
     "name": "stdout",
     "output_type": "stream",
     "text": [
      "[[False False False False]\n",
      " [False False  True  True]\n",
      " [ True  True  True  True]]\n",
      "\n",
      "[ 7  8  9 10 11 12]\n",
      "\n",
      "[ 7  8  9 10 11 12]\n"
     ]
    }
   ],
   "source": [
    "# Boolean indexing\n",
    "bool_id=a>6\n",
    "print(bool_id)\n",
    "print()\n",
    "\n",
    "print(a[bool_id])\n",
    "print()\n",
    "print(a[a>6])"
   ]
  },
  {
   "cell_type": "code",
   "execution_count": 20,
   "metadata": {
    "scrolled": true
   },
   "outputs": [
    {
     "name": "stdout",
     "output_type": "stream",
     "text": [
      "int32\n",
      "float64\n",
      "int32\n",
      "<U1\n",
      "['1.0' 'a' '2']\n"
     ]
    }
   ],
   "source": [
    "# Datatypes \n",
    "print(a.dtype)\n",
    "\n",
    "print(np.array([1.,2.]).dtype)\n",
    "\n",
    "print(np.array([1.,2.],dtype='int32').dtype) # Force a certain type\n",
    "\n",
    "print(np.array(['a','b','c']).dtype)\n",
    "\n",
    "print(np.array([1.,'a', 2])) # Unklike lists, the elements of a NumPy array must be the same type"
   ]
  },
  {
   "cell_type": "code",
   "execution_count": 21,
   "metadata": {},
   "outputs": [
    {
     "name": "stdout",
     "output_type": "stream",
     "text": [
      "[[158 165 151 189 178]\n",
      " [ 29  62  25  65  59]]\n",
      "(2, 5)\n",
      "2\n",
      "[151  25]\n",
      "\n",
      "[62 65 59]\n",
      "\n",
      "int32\n",
      "[[158. 165. 151. 189. 178.]\n",
      " [ 29.  62.  25.  65.  59.]]\n"
     ]
    }
   ],
   "source": [
    "# Exercise:\n",
    "# Create an array using the heights and ages lists from the begining\n",
    "# Tell me the shape and dimensions\n",
    "# Select Arun's information only\n",
    "# Select only ages where height is above 160 cm\n",
    "# Print the current datatype\n",
    "# Convert the datatype to float (hint: astype())\n",
    "\n",
    "my_array = np.array([heights, ages])\n",
    "print(my_array)\n",
    "print(my_array.shape)\n",
    "print(my_array.ndim)\n",
    "arun_index = names.index('Arun')\n",
    "print(my_array[:,arun_index])\n",
    "print()\n",
    "\n",
    "print(my_array[1,my_array[0]>160])\n",
    "print()\n",
    "\n",
    "print(my_array.dtype)\n",
    "print(my_array.astype('float'))"
   ]
  },
  {
   "cell_type": "code",
   "execution_count": 22,
   "metadata": {},
   "outputs": [
    {
     "name": "stdout",
     "output_type": "stream",
     "text": [
      "[[ 4.  6.]\n",
      " [ 8. 10.]]\n",
      "[[1. 1.]\n",
      " [2. 2.]]\n",
      "\n",
      "[[3. 5.]\n",
      " [6. 8.]]\n",
      "[[3. 5.]\n",
      " [6. 8.]]\n",
      "\n",
      "[[ 5.  7.]\n",
      " [10. 12.]]\n"
     ]
    }
   ],
   "source": [
    "# Arithmetic operators \n",
    "A = np.array([[4,6],[8,10]], dtype=np.float64)\n",
    "B = np.array([[1,1],[2,2]], dtype=np.float64)\n",
    "\n",
    "print(A)\n",
    "print(B)\n",
    "print()\n",
    "\n",
    "print(A-B)  # Elementwise subtraction\n",
    "print(np.subtract(A,B)) \n",
    "print()\n",
    "\n",
    "print(A+B) # np.add()"
   ]
  },
  {
   "cell_type": "code",
   "execution_count": 23,
   "metadata": {
    "scrolled": false
   },
   "outputs": [
    {
     "name": "stdout",
     "output_type": "stream",
     "text": [
      "[[ 4.  6.]\n",
      " [16. 20.]]\n",
      "\n",
      "[[4. 6.]\n",
      " [4. 5.]]\n",
      "\n"
     ]
    }
   ],
   "source": [
    "print(A*B) # np.multiply() - elementwise\n",
    "print()\n",
    "\n",
    "print(A/B) #np.divide()\n",
    "print()"
   ]
  },
  {
   "cell_type": "code",
   "execution_count": 24,
   "metadata": {},
   "outputs": [
    {
     "name": "stdout",
     "output_type": "stream",
     "text": [
      "[[2. 3.]\n",
      " [4. 5.]]\n",
      "\n",
      "[[2.         2.44948974]\n",
      " [2.82842712 3.16227766]]\n",
      "\n",
      "[[1.38629436 1.79175947]\n",
      " [2.07944154 2.30258509]]\n",
      "\n",
      "[[ 4.  6.]\n",
      " [ 8. 10.]]\n",
      "\n",
      "[[-0.7568025  -0.2794155 ]\n",
      " [ 0.98935825 -0.54402111]]\n"
     ]
    }
   ],
   "source": [
    "print(A/2)\n",
    "print()\n",
    "\n",
    "print(np.sqrt(A))\n",
    "print()\n",
    "\n",
    "print(np.log(A))\n",
    "print()\n",
    "\n",
    "print(np.exp(np.log(A)))\n",
    "print()\n",
    "\n",
    "print(np.sin(A))"
   ]
  },
  {
   "cell_type": "code",
   "execution_count": 25,
   "metadata": {},
   "outputs": [
    {
     "name": "stdout",
     "output_type": "stream",
     "text": [
      "[[ 4.  6.]\n",
      " [ 8. 10.]]\n",
      "\n",
      "28.0\n",
      "28.0\n",
      "[12. 16.]\n",
      "\n",
      "7.0\n",
      "\n",
      "7.0\n",
      "\n",
      "4.02\n"
     ]
    }
   ],
   "source": [
    "# Aggregation functions\n",
    "print(A)\n",
    "print()\n",
    "\n",
    "print(A.sum())\n",
    "print(np.sum(A))\n",
    "print(np.sum(A, axis=0))\n",
    "print()\n",
    "\n",
    "print(np.mean(A))\n",
    "print()\n",
    "\n",
    "print(np.median(A))\n",
    "print()\n",
    "\n",
    "print(np.round(np.percentile(A,.25),2))"
   ]
  },
  {
   "cell_type": "code",
   "execution_count": 26,
   "metadata": {},
   "outputs": [
    {
     "name": "stdout",
     "output_type": "stream",
     "text": [
      "[[158 165 151 189 178]\n",
      " [ 29  62  25  65  59]]\n",
      "[168.2  48. ]\n",
      "[151  25]\n",
      "[12.28820573  5.        ]\n",
      "[5.06259503 5.10594547 5.01727984 5.24174702 5.18178355]\n"
     ]
    }
   ],
   "source": [
    "# Exercise:\n",
    "# Tell me the mean of both heights and ages in one line of code\n",
    "# Tell me the square root of Arun's age and height\n",
    "# Print the log of heights\n",
    "\n",
    "print(my_array)\n",
    "print(my_array.mean(axis=1))\n",
    "arun_info = my_array[:,arun_index]\n",
    "print(arun_info)\n",
    "print(np.sqrt(arun_info))\n",
    "print(np.log(my_array[0]))"
   ]
  },
  {
   "cell_type": "code",
   "execution_count": 27,
   "metadata": {},
   "outputs": [
    {
     "name": "stdout",
     "output_type": "stream",
     "text": [
      "22\n",
      "22\n"
     ]
    }
   ],
   "source": [
    "# Matrix multiplication\n",
    "a = np.array([1,2])\n",
    "b = np.array([2,10])\n",
    "print(np.dot(a,b)) # Dot product of two vectors\n",
    "print(a.dot(b))"
   ]
  },
  {
   "cell_type": "code",
   "execution_count": 28,
   "metadata": {
    "scrolled": true
   },
   "outputs": [
    {
     "name": "stdout",
     "output_type": "stream",
     "text": [
      "[[ 4.  6.]\n",
      " [ 8. 10.]]\n",
      "[[1. 1.]\n",
      " [2. 2.]]\n",
      "\n",
      "[[16. 16.]\n",
      " [28. 28.]]\n",
      "[[16. 16.]\n",
      " [28. 28.]]\n"
     ]
    }
   ],
   "source": [
    "print(A)\n",
    "print(B)\n",
    "print()\n",
    "print(A.dot(B)) \n",
    "print(A @ B)"
   ]
  },
  {
   "cell_type": "code",
   "execution_count": 29,
   "metadata": {},
   "outputs": [
    {
     "data": {
      "text/plain": [
       "array([5., 5.])"
      ]
     },
     "execution_count": 29,
     "metadata": {},
     "output_type": "execute_result"
    }
   ],
   "source": [
    "a.dot(B)"
   ]
  },
  {
   "cell_type": "code",
   "execution_count": 30,
   "metadata": {},
   "outputs": [],
   "source": [
    "# Exercise:\n",
    "# Verify the above by hand"
   ]
  },
  {
   "cell_type": "code",
   "execution_count": 31,
   "metadata": {
    "scrolled": false
   },
   "outputs": [
    {
     "data": {
      "text/plain": [
       "array([[ 4.,  8.],\n",
       "       [ 6., 10.]])"
      ]
     },
     "execution_count": 31,
     "metadata": {},
     "output_type": "execute_result"
    }
   ],
   "source": [
    "# Reshaping arrays\n",
    "A.T # Transpose"
   ]
  },
  {
   "cell_type": "code",
   "execution_count": 32,
   "metadata": {},
   "outputs": [
    {
     "data": {
      "text/plain": [
       "array([ 4.,  6.,  8., 10.])"
      ]
     },
     "execution_count": 32,
     "metadata": {},
     "output_type": "execute_result"
    }
   ],
   "source": [
    "A.ravel() # Flatten"
   ]
  },
  {
   "cell_type": "code",
   "execution_count": 33,
   "metadata": {
    "scrolled": false
   },
   "outputs": [
    {
     "data": {
      "text/plain": [
       "array([[ 4.],\n",
       "       [ 6.],\n",
       "       [ 8.],\n",
       "       [10.]])"
      ]
     },
     "execution_count": 33,
     "metadata": {},
     "output_type": "execute_result"
    }
   ],
   "source": [
    "# Create an array that looks like this: np.array([[1],[1],[1],[1]])\n",
    "A.reshape(4,1)"
   ]
  },
  {
   "cell_type": "code",
   "execution_count": 34,
   "metadata": {},
   "outputs": [
    {
     "data": {
      "text/plain": [
       "array([[ 4.,  6.,  8., 10.]])"
      ]
     },
     "execution_count": 34,
     "metadata": {},
     "output_type": "execute_result"
    }
   ],
   "source": [
    "A.reshape(1,4)"
   ]
  },
  {
   "cell_type": "code",
   "execution_count": 35,
   "metadata": {},
   "outputs": [
    {
     "name": "stdout",
     "output_type": "stream",
     "text": [
      "[[[ 4.]\n",
      "  [ 6.]]\n",
      "\n",
      " [[ 8.]\n",
      "  [10.]]]\n",
      "[[[ 4.]]\n",
      "\n",
      " [[ 6.]]\n",
      "\n",
      " [[ 8.]]\n",
      "\n",
      " [[10.]]]\n"
     ]
    }
   ],
   "source": [
    "#Create a three dimensional array\n",
    "print(A.reshape(2,2,1))\n",
    "print(A.reshape(4,1,1))"
   ]
  },
  {
   "cell_type": "code",
   "execution_count": 36,
   "metadata": {},
   "outputs": [
    {
     "data": {
      "text/plain": [
       "[[4.0, 6.0], [8.0, 10.0]]"
      ]
     },
     "execution_count": 36,
     "metadata": {},
     "output_type": "execute_result"
    }
   ],
   "source": [
    "A.tolist()"
   ]
  },
  {
   "cell_type": "code",
   "execution_count": 37,
   "metadata": {},
   "outputs": [
    {
     "name": "stdout",
     "output_type": "stream",
     "text": [
      "[1 3 0 4 2]\n",
      "[1 2 3 4 5]\n"
     ]
    }
   ],
   "source": [
    "# Sorting\n",
    "a=np.array([3,1,5,2,4])\n",
    "sort_i=np.argsort(a)\n",
    "print(sort_i)\n",
    "print(a[sort_i])"
   ]
  },
  {
   "cell_type": "code",
   "execution_count": 38,
   "metadata": {},
   "outputs": [
    {
     "name": "stdout",
     "output_type": "stream",
     "text": [
      "[[151 158 165 178 189]\n",
      " [ 25  29  62  59  65]]\n",
      "\n",
      "[[158  29]\n",
      " [165  62]\n",
      " [151  25]\n",
      " [189  65]\n",
      " [178  59]]\n",
      "\n",
      "[151  25]\n"
     ]
    }
   ],
   "source": [
    "# Exercise\n",
    "# Sort the height, age array by height\n",
    "# Create a new array that has the height, age pair for each person as rows i.e., [[height1, age1], [height2...\n",
    "# Select Arun's information from the new array\n",
    "print(my_array[:,np.argsort(my_array[0])])\n",
    "print()\n",
    "paired_array=my_array.T\n",
    "print(paired_array)\n",
    "print()\n",
    "print(paired_array[arun_index,:])"
   ]
  }
 ],
 "metadata": {
  "kernelspec": {
   "display_name": "Python 3",
   "language": "python",
   "name": "python3"
  },
  "language_info": {
   "codemirror_mode": {
    "name": "ipython",
    "version": 3
   },
   "file_extension": ".py",
   "mimetype": "text/x-python",
   "name": "python",
   "nbconvert_exporter": "python",
   "pygments_lexer": "ipython3",
   "version": "3.7.0"
  }
 },
 "nbformat": 4,
 "nbformat_minor": 2
}
