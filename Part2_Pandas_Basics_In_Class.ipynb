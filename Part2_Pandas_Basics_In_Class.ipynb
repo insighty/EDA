{
 "cells": [
  {
   "cell_type": "code",
   "execution_count": 2,
   "metadata": {},
   "outputs": [],
   "source": [
    "# References: \n",
    "# 10 minutes to Pandas: https://pandas.pydata.org/pandas-docs/stable/getting_started/10min.html\n",
    "# Docs - https://pandas.pydata.org/pandas-docs/stable/reference/index.html\n",
    "# Datacamp cheat sheet: http://datacamp-community-prod.s3.amazonaws.com/dbed353d-2757-4617-8206-8767ab379ab3"
   ]
  },
  {
   "cell_type": "code",
   "execution_count": 3,
   "metadata": {},
   "outputs": [
    {
     "data": {
      "text/plain": [
       "'0.25.0'"
      ]
     },
     "execution_count": 3,
     "metadata": {},
     "output_type": "execute_result"
    }
   ],
   "source": [
    "# Imports\n",
    "import pandas as pd\n",
    "import numpy as np\n",
    "#path = 'C:\\\\Users\\\\K\\\\AIDeepDiveMaterials\\\\' \n",
    "path = 'C:\\\\Users\\\\K\\\\AIDeepDiveMaterials\\\\' # Replace with the folder containing the materials for this class\n",
    "pd.__version__ "
   ]
  },
  {
   "cell_type": "code",
   "execution_count": 4,
   "metadata": {},
   "outputs": [],
   "source": [
    "# Pandas\n",
    "# Tabular and human-friendly (excel/SQL-like interface)\n",
    "# Homogeneous or heterogeneous data\n",
    "# Row and column labels!\n",
    "# Similarities to R's data.frame...but with more"
   ]
  },
  {
   "cell_type": "code",
   "execution_count": 5,
   "metadata": {},
   "outputs": [],
   "source": [
    "# Efficiency gains vs. base python\n",
    "\n",
    "#pandas_fun = pd.Series(np.arange(10000))\n",
    "\n",
    "#% timeit pandas_fun*500 # microseconds (us) vs. milliseconds (ms)```"
   ]
  },
  {
   "cell_type": "code",
   "execution_count": 6,
   "metadata": {
    "scrolled": false
   },
   "outputs": [
    {
     "name": "stdout",
     "output_type": "stream",
     "text": [
      "0    1.0\n",
      "1    2.0\n",
      "2    NaN\n",
      "3    5.0\n",
      "4    4.0\n",
      "dtype: float64\n",
      "<class 'pandas.core.series.Series'>\n"
     ]
    }
   ],
   "source": [
    "# Pandas Series & DataFrames (2 primary data structures)\n",
    "# https://pandas.pydata.org/pandas-docs/stable/getting_started/dsintro.html#dsintro\n",
    "\n",
    "my_series = pd.Series([1,2,np.nan,5,4])\n",
    "\n",
    "print(my_series)\n",
    "print(type(my_series))"
   ]
  },
  {
   "cell_type": "code",
   "execution_count": 7,
   "metadata": {},
   "outputs": [
    {
     "data": {
      "text/plain": [
       "array([ 1.,  2., nan,  5.,  4.])"
      ]
     },
     "execution_count": 7,
     "metadata": {},
     "output_type": "execute_result"
    }
   ],
   "source": [
    "my_series.values # converts to numpy array"
   ]
  },
  {
   "cell_type": "code",
   "execution_count": 8,
   "metadata": {
    "scrolled": true
   },
   "outputs": [
    {
     "name": "stdout",
     "output_type": "stream",
     "text": [
      "\n",
      "          A         B         C         D\n",
      "0  0.732648 -1.156832  0.365486 -1.159664\n",
      "1 -0.234164 -1.866204 -0.790839  0.903253\n",
      "2  1.076773  1.786251 -1.430559 -1.030840\n",
      "3  0.091828  1.934300  2.144404  0.176385\n",
      "4 -0.161901 -0.575755 -1.558379  0.605511\n",
      "5  0.964239 -1.216262 -0.422605  1.135774\n",
      "<class 'pandas.core.frame.DataFrame'>\n"
     ]
    }
   ],
   "source": [
    "# DataFrame \n",
    "\n",
    "my_df = pd.DataFrame(np.random.randn(6,4),columns=list('ABCD')) # created from a 2D numpy array, could use list of lists\n",
    "\n",
    "print()\n",
    "print(my_df)\n",
    "print(type(my_df))"
   ]
  },
  {
   "cell_type": "code",
   "execution_count": 9,
   "metadata": {
    "scrolled": true
   },
   "outputs": [
    {
     "data": {
      "text/plain": [
       "array([[ 0.73264818, -1.15683249,  0.36548564, -1.15966417],\n",
       "       [-0.23416434, -1.86620364, -0.79083889,  0.90325349],\n",
       "       [ 1.07677338,  1.78625123, -1.43055853, -1.03084003],\n",
       "       [ 0.09182831,  1.93430049,  2.14440388,  0.17638525],\n",
       "       [-0.16190125, -0.57575482, -1.55837914,  0.60551089],\n",
       "       [ 0.9642389 , -1.21626179, -0.42260484,  1.13577352]])"
      ]
     },
     "execution_count": 9,
     "metadata": {},
     "output_type": "execute_result"
    }
   ],
   "source": [
    "my_df.values # will convert to numpy array regardless of how created"
   ]
  },
  {
   "cell_type": "code",
   "execution_count": 10,
   "metadata": {},
   "outputs": [
    {
     "name": "stdout",
     "output_type": "stream",
     "text": [
      "0    0.732648\n",
      "1   -0.234164\n",
      "2    1.076773\n",
      "3    0.091828\n",
      "4   -0.161901\n",
      "5    0.964239\n",
      "Name: A, dtype: float64\n"
     ]
    },
    {
     "data": {
      "text/plain": [
       "pandas.core.series.Series"
      ]
     },
     "execution_count": 10,
     "metadata": {},
     "output_type": "execute_result"
    }
   ],
   "source": [
    "print(my_df['A'])\n",
    "type(my_df['A']) # an individual column of a dataframe is a pandas series"
   ]
  },
  {
   "cell_type": "code",
   "execution_count": 11,
   "metadata": {
    "scrolled": true
   },
   "outputs": [
    {
     "name": "stdout",
     "output_type": "stream",
     "text": [
      "RangeIndex(start=0, stop=5, step=1)\n"
     ]
    },
    {
     "data": {
      "text/plain": [
       "RangeIndex(start=0, stop=6, step=1)"
      ]
     },
     "execution_count": 11,
     "metadata": {},
     "output_type": "execute_result"
    }
   ],
   "source": [
    "# Index - row labels\n",
    "print(my_series.index)\n",
    "\n",
    "my_df.index"
   ]
  },
  {
   "cell_type": "code",
   "execution_count": 12,
   "metadata": {},
   "outputs": [
    {
     "name": "stdout",
     "output_type": "stream",
     "text": [
      "[0 1 2 3 4 5]\n"
     ]
    }
   ],
   "source": [
    "print(my_df.index.values)"
   ]
  },
  {
   "cell_type": "raw",
   "metadata": {},
   "source": []
  },
  {
   "cell_type": "code",
   "execution_count": 13,
   "metadata": {
    "scrolled": true
   },
   "outputs": [
    {
     "name": "stdout",
     "output_type": "stream",
     "text": [
      "A    1.0\n",
      "B    2.0\n",
      "C    NaN\n",
      "D    5.0\n",
      "E    4.0\n",
      "dtype: float64\n",
      "\n",
      "          A         B         C         D\n",
      "A -0.914360 -0.091910 -1.738797  2.503396\n",
      "B -0.112808 -0.303286  0.303880  1.032969\n",
      "C -0.377410  2.880770  0.871770  0.653901\n",
      "D  1.537640  0.588826 -0.147002  0.217592\n",
      "E  0.530197  1.105229 -2.137768 -0.246727\n",
      "F -0.866567 -0.196847 -0.226044  0.054202\n"
     ]
    }
   ],
   "source": [
    "# Indicating indices on creation\n",
    "my_series=pd.Series([1,2,np.nan,5,4], index=list('ABCDE'))\n",
    "print(my_series)\n",
    "\n",
    "my_df=pd.DataFrame(np.random.randn(6,4),columns=list('ABCD'), index=list('ABCDEF'))\n",
    "print()\n",
    "print(my_df)"
   ]
  },
  {
   "cell_type": "code",
   "execution_count": 14,
   "metadata": {
    "scrolled": true
   },
   "outputs": [
    {
     "data": {
      "text/plain": [
       "Index(['A', 'B', 'C', 'D'], dtype='object')"
      ]
     },
     "execution_count": 14,
     "metadata": {},
     "output_type": "execute_result"
    }
   ],
   "source": [
    "# Columns\n",
    "my_df.columns # [0,..,3] if automatically assigned"
   ]
  },
  {
   "cell_type": "code",
   "execution_count": 15,
   "metadata": {},
   "outputs": [],
   "source": [
    "my_series.name # returns none - unnamed series"
   ]
  },
  {
   "cell_type": "code",
   "execution_count": 16,
   "metadata": {},
   "outputs": [
    {
     "data": {
      "text/plain": [
       "'MyFavouriteSeries'"
      ]
     },
     "execution_count": 16,
     "metadata": {},
     "output_type": "execute_result"
    }
   ],
   "source": [
    "my_series.name='MyFavouriteSeries'\n",
    "my_series.name"
   ]
  },
  {
   "cell_type": "code",
   "execution_count": 17,
   "metadata": {},
   "outputs": [
    {
     "name": "stdout",
     "output_type": "stream",
     "text": [
      "{'A': array([-0.24920851,  0.50085561, -1.48515837,  0.29374407]), 'B': array([-0.5131129 ,  0.95392831,  0.33345521, -0.83164472]), 'C': array([ 0.65834035, -0.76329906, -0.72936957,  0.153754  ]), 'D': array([ 0.88668524, -0.02555665,  1.20627158, -0.99409099])}\n",
      "\n",
      "          A         B         C         D\n",
      "0 -0.249209 -0.513113  0.658340  0.886685\n",
      "1  0.500856  0.953928 -0.763299 -0.025557\n",
      "2 -1.485158  0.333455 -0.729370  1.206272\n",
      "3  0.293744 -0.831645  0.153754 -0.994091\n"
     ]
    }
   ],
   "source": [
    "# Alternative ways to create a DataFrame\n",
    "# Create a dataframe from a dictionary (or a json file)\n",
    "keys=list('ABCD')\n",
    "vals= np.random.randn(6,4)\n",
    "my_dict = dict(zip(keys, vals))\n",
    "print(my_dict)\n",
    "print()\n",
    "\n",
    "print(pd.DataFrame(my_dict))"
   ]
  },
  {
   "cell_type": "code",
   "execution_count": 18,
   "metadata": {
    "scrolled": true
   },
   "outputs": [],
   "source": [
    "# SQL database: https://pandas.pydata.org/pandas-docs/stable/reference/api/pandas.read_sql.html\n",
    "# Interfaces well with excel, accomodates multiple sheets: https://pandas.pydata.org/pandas-docs/stable/reference/api/pandas.read_excel.html"
   ]
  },
  {
   "cell_type": "code",
   "execution_count": 19,
   "metadata": {},
   "outputs": [],
   "source": [
    "# Read-in from csv\n",
    "# Reference: https://pandas.pydata.org/pandas-docs/stable/reference/api/pandas.read_csv.html\n",
    "df = pd.read_csv(path+'SPTSXComposite.csv') # path defined in cell 2"
   ]
  },
  {
   "cell_type": "code",
   "execution_count": 20,
   "metadata": {
    "scrolled": true
   },
   "outputs": [
    {
     "data": {
      "text/plain": [
       "(132, 6)"
      ]
     },
     "execution_count": 20,
     "metadata": {},
     "output_type": "execute_result"
    }
   ],
   "source": [
    "# Viewing DataFrames\n",
    "df.shape # (rows, columns)"
   ]
  },
  {
   "cell_type": "code",
   "execution_count": 21,
   "metadata": {},
   "outputs": [
    {
     "data": {
      "text/html": [
       "<div>\n",
       "<style scoped>\n",
       "    .dataframe tbody tr th:only-of-type {\n",
       "        vertical-align: middle;\n",
       "    }\n",
       "\n",
       "    .dataframe tbody tr th {\n",
       "        vertical-align: top;\n",
       "    }\n",
       "\n",
       "    .dataframe thead th {\n",
       "        text-align: right;\n",
       "    }\n",
       "</style>\n",
       "<table border=\"1\" class=\"dataframe\">\n",
       "  <thead>\n",
       "    <tr style=\"text-align: right;\">\n",
       "      <th></th>\n",
       "      <th>Name</th>\n",
       "      <th>Ticker</th>\n",
       "      <th>TotalAssets</th>\n",
       "      <th>TotalRevenue</th>\n",
       "      <th>GeographicSegments</th>\n",
       "      <th>PrimarySector</th>\n",
       "    </tr>\n",
       "  </thead>\n",
       "  <tbody>\n",
       "    <tr>\n",
       "      <th>0</th>\n",
       "      <td>Agnico Eagle Mines Limited (NYSE:AEM)</td>\n",
       "      <td>NYSE:AEM</td>\n",
       "      <td>10715.5</td>\n",
       "      <td>2990.0</td>\n",
       "      <td>5.0</td>\n",
       "      <td>Materials</td>\n",
       "    </tr>\n",
       "    <tr>\n",
       "      <th>1</th>\n",
       "      <td>Air Canada (TSX:AC)</td>\n",
       "      <td>TSX:AC</td>\n",
       "      <td>19197.0</td>\n",
       "      <td>18065.0</td>\n",
       "      <td>5.0</td>\n",
       "      <td>Industrials</td>\n",
       "    </tr>\n",
       "    <tr>\n",
       "      <th>2</th>\n",
       "      <td>Alamos Gold Inc. (TSX:AGI)</td>\n",
       "      <td>TSX:AGI</td>\n",
       "      <td>4455.5</td>\n",
       "      <td>889.4</td>\n",
       "      <td>4.0</td>\n",
       "      <td>Materials</td>\n",
       "    </tr>\n",
       "    <tr>\n",
       "      <th>3</th>\n",
       "      <td>Algonquin Power &amp; Utilities Corp. (TSX:AQN)</td>\n",
       "      <td>TSX:AQN</td>\n",
       "      <td>12811.6</td>\n",
       "      <td>2247.9</td>\n",
       "      <td>2.0</td>\n",
       "      <td>Utilities</td>\n",
       "    </tr>\n",
       "    <tr>\n",
       "      <th>4</th>\n",
       "      <td>Alimentation Couche-Tard Inc. (TSX:ATD.B)</td>\n",
       "      <td>TSX:ATD.B</td>\n",
       "      <td>30426.3</td>\n",
       "      <td>79562.8</td>\n",
       "      <td>3.0</td>\n",
       "      <td>Consumer Staples</td>\n",
       "    </tr>\n",
       "  </tbody>\n",
       "</table>\n",
       "</div>"
      ],
      "text/plain": [
       "                                          Name     Ticker  TotalAssets  \\\n",
       "0        Agnico Eagle Mines Limited (NYSE:AEM)   NYSE:AEM      10715.5   \n",
       "1                          Air Canada (TSX:AC)     TSX:AC      19197.0   \n",
       "2                   Alamos Gold Inc. (TSX:AGI)    TSX:AGI       4455.5   \n",
       "3  Algonquin Power & Utilities Corp. (TSX:AQN)    TSX:AQN      12811.6   \n",
       "4    Alimentation Couche-Tard Inc. (TSX:ATD.B)  TSX:ATD.B      30426.3   \n",
       "\n",
       "   TotalRevenue  GeographicSegments     PrimarySector  \n",
       "0        2990.0                 5.0         Materials  \n",
       "1       18065.0                 5.0       Industrials  \n",
       "2         889.4                 4.0         Materials  \n",
       "3        2247.9                 2.0         Utilities  \n",
       "4       79562.8                 3.0  Consumer Staples  "
      ]
     },
     "execution_count": 21,
     "metadata": {},
     "output_type": "execute_result"
    }
   ],
   "source": [
    "df.head() # View first 5 rows"
   ]
  },
  {
   "cell_type": "code",
   "execution_count": 22,
   "metadata": {
    "scrolled": false
   },
   "outputs": [
    {
     "data": {
      "text/html": [
       "<div>\n",
       "<style scoped>\n",
       "    .dataframe tbody tr th:only-of-type {\n",
       "        vertical-align: middle;\n",
       "    }\n",
       "\n",
       "    .dataframe tbody tr th {\n",
       "        vertical-align: top;\n",
       "    }\n",
       "\n",
       "    .dataframe thead th {\n",
       "        text-align: right;\n",
       "    }\n",
       "</style>\n",
       "<table border=\"1\" class=\"dataframe\">\n",
       "  <thead>\n",
       "    <tr style=\"text-align: right;\">\n",
       "      <th></th>\n",
       "      <th>Name</th>\n",
       "      <th>Ticker</th>\n",
       "      <th>TotalAssets</th>\n",
       "      <th>TotalRevenue</th>\n",
       "      <th>GeographicSegments</th>\n",
       "      <th>PrimarySector</th>\n",
       "    </tr>\n",
       "  </thead>\n",
       "  <tbody>\n",
       "    <tr>\n",
       "      <th>127</th>\n",
       "      <td>West Fraser Timber Co. Ltd. (TSX:WFT)</td>\n",
       "      <td>TSX:WFT</td>\n",
       "      <td>4791.0</td>\n",
       "      <td>6118.0</td>\n",
       "      <td>5.0</td>\n",
       "      <td>Materials</td>\n",
       "    </tr>\n",
       "    <tr>\n",
       "      <th>128</th>\n",
       "      <td>WestJet Airlines Ltd. (TSX:WJA)</td>\n",
       "      <td>TSX:WJA</td>\n",
       "      <td>6758.1</td>\n",
       "      <td>4728.4</td>\n",
       "      <td>4.0</td>\n",
       "      <td>Industrials</td>\n",
       "    </tr>\n",
       "    <tr>\n",
       "      <th>129</th>\n",
       "      <td>Wheaton Precious Metals Corp. (TSX:WPM)</td>\n",
       "      <td>TSX:WPM</td>\n",
       "      <td>8828.6</td>\n",
       "      <td>1083.5</td>\n",
       "      <td>9.0</td>\n",
       "      <td>Materials</td>\n",
       "    </tr>\n",
       "    <tr>\n",
       "      <th>130</th>\n",
       "      <td>WSP Global Inc. (TSX:WSP)</td>\n",
       "      <td>TSX:WSP</td>\n",
       "      <td>7766.6</td>\n",
       "      <td>7908.1</td>\n",
       "      <td>8.0</td>\n",
       "      <td>Industrials</td>\n",
       "    </tr>\n",
       "    <tr>\n",
       "      <th>131</th>\n",
       "      <td>Yamana Gold Inc. (TSX:YRI)</td>\n",
       "      <td>TSX:YRI</td>\n",
       "      <td>10933.9</td>\n",
       "      <td>2454.1</td>\n",
       "      <td>5.0</td>\n",
       "      <td>Materials</td>\n",
       "    </tr>\n",
       "  </tbody>\n",
       "</table>\n",
       "</div>"
      ],
      "text/plain": [
       "                                        Name   Ticker  TotalAssets  \\\n",
       "127    West Fraser Timber Co. Ltd. (TSX:WFT)  TSX:WFT       4791.0   \n",
       "128          WestJet Airlines Ltd. (TSX:WJA)  TSX:WJA       6758.1   \n",
       "129  Wheaton Precious Metals Corp. (TSX:WPM)  TSX:WPM       8828.6   \n",
       "130                WSP Global Inc. (TSX:WSP)  TSX:WSP       7766.6   \n",
       "131               Yamana Gold Inc. (TSX:YRI)  TSX:YRI      10933.9   \n",
       "\n",
       "     TotalRevenue  GeographicSegments PrimarySector  \n",
       "127        6118.0                 5.0     Materials  \n",
       "128        4728.4                 4.0   Industrials  \n",
       "129        1083.5                 9.0     Materials  \n",
       "130        7908.1                 8.0   Industrials  \n",
       "131        2454.1                 5.0     Materials  "
      ]
     },
     "execution_count": 22,
     "metadata": {},
     "output_type": "execute_result"
    }
   ],
   "source": [
    "df.tail() # Last 5"
   ]
  },
  {
   "cell_type": "code",
   "execution_count": 23,
   "metadata": {
    "scrolled": true
   },
   "outputs": [
    {
     "data": {
      "text/plain": [
       "Index(['Name', 'Ticker', 'TotalAssets', 'TotalRevenue', 'GeographicSegments',\n",
       "       'PrimarySector'],\n",
       "      dtype='object')"
      ]
     },
     "execution_count": 23,
     "metadata": {},
     "output_type": "execute_result"
    }
   ],
   "source": [
    "# Column names\n",
    "df.columns"
   ]
  },
  {
   "cell_type": "code",
   "execution_count": 24,
   "metadata": {
    "scrolled": true
   },
   "outputs": [
    {
     "data": {
      "text/plain": [
       "RangeIndex(start=0, stop=132, step=1)"
      ]
     },
     "execution_count": 24,
     "metadata": {},
     "output_type": "execute_result"
    }
   ],
   "source": [
    "# Current index\n",
    "df.index"
   ]
  },
  {
   "cell_type": "code",
   "execution_count": 25,
   "metadata": {},
   "outputs": [
    {
     "data": {
      "text/plain": [
       "array([0, 1, 2, 3, 4], dtype=int64)"
      ]
     },
     "execution_count": 25,
     "metadata": {},
     "output_type": "execute_result"
    }
   ],
   "source": [
    "# Aside - index.values = numpy array\n",
    "df.index.values[:5]"
   ]
  },
  {
   "cell_type": "code",
   "execution_count": 26,
   "metadata": {
    "scrolled": true
   },
   "outputs": [
    {
     "data": {
      "text/plain": [
       "True"
      ]
     },
     "execution_count": 26,
     "metadata": {},
     "output_type": "execute_result"
    }
   ],
   "source": [
    "# Set new index\n",
    "df.Ticker.is_unique    # Check series for uniqueness"
   ]
  },
  {
   "cell_type": "code",
   "execution_count": 27,
   "metadata": {
    "scrolled": true
   },
   "outputs": [
    {
     "name": "stdout",
     "output_type": "stream",
     "text": [
      "Index(['NYSE:AEM', 'TSX:AC', 'TSX:AGI', 'TSX:AQN', 'TSX:ATD.B', 'TSX:AP.UN',\n",
      "       'TSX:ALA', 'TSX:ACO.X', 'TSX:ACB', 'TSX:BTO',\n",
      "       ...\n",
      "       'TSX:TIH', 'TSX:TOU', 'TSX:RNW', 'TSX:VET', 'NYSE:WCN', 'TSX:WFT',\n",
      "       'TSX:WJA', 'TSX:WPM', 'TSX:WSP', 'TSX:YRI'],\n",
      "      dtype='object', name='Ticker', length=132)\n"
     ]
    }
   ],
   "source": [
    "df = df.set_index('Ticker')  # Set ticker as new index\n",
    "print(df.index)"
   ]
  },
  {
   "cell_type": "code",
   "execution_count": 28,
   "metadata": {
    "scrolled": true
   },
   "outputs": [
    {
     "data": {
      "text/html": [
       "<div>\n",
       "<style scoped>\n",
       "    .dataframe tbody tr th:only-of-type {\n",
       "        vertical-align: middle;\n",
       "    }\n",
       "\n",
       "    .dataframe tbody tr th {\n",
       "        vertical-align: top;\n",
       "    }\n",
       "\n",
       "    .dataframe thead th {\n",
       "        text-align: right;\n",
       "    }\n",
       "</style>\n",
       "<table border=\"1\" class=\"dataframe\">\n",
       "  <thead>\n",
       "    <tr style=\"text-align: right;\">\n",
       "      <th></th>\n",
       "      <th>Name</th>\n",
       "      <th>TotalAssets</th>\n",
       "      <th>TotalRevenue</th>\n",
       "      <th>GeographicSegments</th>\n",
       "      <th>PrimarySector</th>\n",
       "    </tr>\n",
       "    <tr>\n",
       "      <th>Ticker</th>\n",
       "      <th></th>\n",
       "      <th></th>\n",
       "      <th></th>\n",
       "      <th></th>\n",
       "      <th></th>\n",
       "    </tr>\n",
       "  </thead>\n",
       "  <tbody>\n",
       "    <tr>\n",
       "      <th>NYSE:AEM</th>\n",
       "      <td>Agnico Eagle Mines Limited (NYSE:AEM)</td>\n",
       "      <td>10715.5</td>\n",
       "      <td>2990.0</td>\n",
       "      <td>5.0</td>\n",
       "      <td>Materials</td>\n",
       "    </tr>\n",
       "    <tr>\n",
       "      <th>TSX:AC</th>\n",
       "      <td>Air Canada (TSX:AC)</td>\n",
       "      <td>19197.0</td>\n",
       "      <td>18065.0</td>\n",
       "      <td>5.0</td>\n",
       "      <td>Industrials</td>\n",
       "    </tr>\n",
       "    <tr>\n",
       "      <th>TSX:AGI</th>\n",
       "      <td>Alamos Gold Inc. (TSX:AGI)</td>\n",
       "      <td>4455.5</td>\n",
       "      <td>889.4</td>\n",
       "      <td>4.0</td>\n",
       "      <td>Materials</td>\n",
       "    </tr>\n",
       "    <tr>\n",
       "      <th>TSX:AQN</th>\n",
       "      <td>Algonquin Power &amp; Utilities Corp. (TSX:AQN)</td>\n",
       "      <td>12811.6</td>\n",
       "      <td>2247.9</td>\n",
       "      <td>2.0</td>\n",
       "      <td>Utilities</td>\n",
       "    </tr>\n",
       "    <tr>\n",
       "      <th>TSX:ATD.B</th>\n",
       "      <td>Alimentation Couche-Tard Inc. (TSX:ATD.B)</td>\n",
       "      <td>30426.3</td>\n",
       "      <td>79562.8</td>\n",
       "      <td>3.0</td>\n",
       "      <td>Consumer Staples</td>\n",
       "    </tr>\n",
       "  </tbody>\n",
       "</table>\n",
       "</div>"
      ],
      "text/plain": [
       "                                                  Name  TotalAssets  \\\n",
       "Ticker                                                                \n",
       "NYSE:AEM         Agnico Eagle Mines Limited (NYSE:AEM)      10715.5   \n",
       "TSX:AC                             Air Canada (TSX:AC)      19197.0   \n",
       "TSX:AGI                     Alamos Gold Inc. (TSX:AGI)       4455.5   \n",
       "TSX:AQN    Algonquin Power & Utilities Corp. (TSX:AQN)      12811.6   \n",
       "TSX:ATD.B    Alimentation Couche-Tard Inc. (TSX:ATD.B)      30426.3   \n",
       "\n",
       "           TotalRevenue  GeographicSegments     PrimarySector  \n",
       "Ticker                                                         \n",
       "NYSE:AEM         2990.0                 5.0         Materials  \n",
       "TSX:AC          18065.0                 5.0       Industrials  \n",
       "TSX:AGI           889.4                 4.0         Materials  \n",
       "TSX:AQN          2247.9                 2.0         Utilities  \n",
       "TSX:ATD.B       79562.8                 3.0  Consumer Staples  "
      ]
     },
     "execution_count": 28,
     "metadata": {},
     "output_type": "execute_result"
    }
   ],
   "source": [
    "df.head()"
   ]
  },
  {
   "cell_type": "code",
   "execution_count": 29,
   "metadata": {
    "scrolled": true
   },
   "outputs": [
    {
     "name": "stdout",
     "output_type": "stream",
     "text": [
      "                                           Name PrimarySector\n",
      "Ticker                                                       \n",
      "NYSE:AEM  Agnico Eagle Mines Limited (NYSE:AEM)     Materials\n",
      "TSX:AC                      Air Canada (TSX:AC)   Industrials\n",
      "TSX:AGI              Alamos Gold Inc. (TSX:AGI)     Materials\n"
     ]
    }
   ],
   "source": [
    "# Indicate the column name to use as the index when reading in the CSV (index_col=)\n",
    "# Limit the columns read in, this saves space (usecols=)\n",
    "\n",
    "print(pd.read_csv(path+'SPTSXComposite.csv',index_col='Ticker',usecols=['Name', 'PrimarySector','Ticker']).head(3))"
   ]
  },
  {
   "cell_type": "code",
   "execution_count": 30,
   "metadata": {
    "scrolled": true
   },
   "outputs": [
    {
     "data": {
      "text/plain": [
       "Name                   object\n",
       "TotalAssets           float64\n",
       "TotalRevenue          float64\n",
       "GeographicSegments    float64\n",
       "PrimarySector          object\n",
       "dtype: object"
      ]
     },
     "execution_count": 30,
     "metadata": {},
     "output_type": "execute_result"
    }
   ],
   "source": [
    "# Datatypes\n",
    "df.dtypes"
   ]
  },
  {
   "cell_type": "code",
   "execution_count": 31,
   "metadata": {
    "scrolled": true
   },
   "outputs": [
    {
     "data": {
      "text/plain": [
       "Name                    object\n",
       "TotalAssets            float32\n",
       "TotalRevenue           float32\n",
       "GeographicSegments     float64\n",
       "PrimarySector         category\n",
       "dtype: object"
      ]
     },
     "execution_count": 31,
     "metadata": {},
     "output_type": "execute_result"
    }
   ],
   "source": [
    "# Converting types\n",
    "df = df.astype({'PrimarySector':'category', 'TotalAssets':'float32', 'TotalRevenue':'float32'})\n",
    "# {Column_name: datatype,...}\n",
    "df.dtypes"
   ]
  },
  {
   "cell_type": "code",
   "execution_count": 32,
   "metadata": {
    "scrolled": true
   },
   "outputs": [],
   "source": [
    "# Exercise\n",
    "# Important: Create a copy of \"df\" and assign it a different variable name (hint: think NumPy) \n",
    "\n",
    "new_df = df.copy()\n",
    "\n",
    "# Perform the following steps using this new dataframe...\n"
   ]
  },
  {
   "cell_type": "code",
   "execution_count": 33,
   "metadata": {},
   "outputs": [
    {
     "name": "stdout",
     "output_type": "stream",
     "text": [
      "Name                    object\n",
      "TotalAssets              int32\n",
      "TotalRevenue           float32\n",
      "GeographicSegments     float64\n",
      "PrimarySector         category\n",
      "dtype: object\n",
      "Name                    object\n",
      "TotalAssets              int32\n",
      "TotalRevenue           float32\n",
      "GeographicSegments     float64\n",
      "PrimarySector         category\n",
      "dtype: object\n"
     ]
    }
   ],
   "source": [
    "# Change the type of \"TotalAssets\" to int\n",
    "\n",
    "new_df = new_df.astype({'TotalAssets':'int'})\n",
    "print(new_df.dtypes)\n",
    "    \n",
    "new_df.TotalAssets = new_df.TotalAssets.astype('int')  # alternative approach when you only need to change the dtype of one column\n",
    "\n",
    "# Check that it worked \n",
    "print(new_df.dtypes)\n"
   ]
  },
  {
   "cell_type": "code",
   "execution_count": 34,
   "metadata": {},
   "outputs": [],
   "source": [
    "# Make \"Name\" the index instead of \"Ticker\"\n",
    "new_df = new_df.set_index('Name') # Note - set_index replaces and drops the current ticker\n",
    "\n",
    "# In order to avoid replacing and removing \"Ticker\", do the following INSTEAD:\n",
    "#new_df = new_df.reindex(df.Name) "
   ]
  },
  {
   "cell_type": "code",
   "execution_count": 35,
   "metadata": {},
   "outputs": [],
   "source": [
    "# Set the columns of the new dataframe equal to list('ABCDE')\n",
    "new_df.columns = list('ABCD')"
   ]
  },
  {
   "cell_type": "code",
   "execution_count": 36,
   "metadata": {},
   "outputs": [
    {
     "data": {
      "text/html": [
       "<div>\n",
       "<style scoped>\n",
       "    .dataframe tbody tr th:only-of-type {\n",
       "        vertical-align: middle;\n",
       "    }\n",
       "\n",
       "    .dataframe tbody tr th {\n",
       "        vertical-align: top;\n",
       "    }\n",
       "\n",
       "    .dataframe thead th {\n",
       "        text-align: right;\n",
       "    }\n",
       "</style>\n",
       "<table border=\"1\" class=\"dataframe\">\n",
       "  <thead>\n",
       "    <tr style=\"text-align: right;\">\n",
       "      <th></th>\n",
       "      <th>A</th>\n",
       "      <th>B</th>\n",
       "      <th>C</th>\n",
       "      <th>D</th>\n",
       "    </tr>\n",
       "    <tr>\n",
       "      <th>Name</th>\n",
       "      <th></th>\n",
       "      <th></th>\n",
       "      <th></th>\n",
       "      <th></th>\n",
       "    </tr>\n",
       "  </thead>\n",
       "  <tbody>\n",
       "    <tr>\n",
       "      <th>Agnico Eagle Mines Limited (NYSE:AEM)</th>\n",
       "      <td>10715</td>\n",
       "      <td>2990.000000</td>\n",
       "      <td>5.0</td>\n",
       "      <td>Materials</td>\n",
       "    </tr>\n",
       "    <tr>\n",
       "      <th>Air Canada (TSX:AC)</th>\n",
       "      <td>19197</td>\n",
       "      <td>18065.000000</td>\n",
       "      <td>5.0</td>\n",
       "      <td>Industrials</td>\n",
       "    </tr>\n",
       "    <tr>\n",
       "      <th>Alamos Gold Inc. (TSX:AGI)</th>\n",
       "      <td>4455</td>\n",
       "      <td>889.400024</td>\n",
       "      <td>4.0</td>\n",
       "      <td>Materials</td>\n",
       "    </tr>\n",
       "    <tr>\n",
       "      <th>Algonquin Power &amp; Utilities Corp. (TSX:AQN)</th>\n",
       "      <td>12811</td>\n",
       "      <td>2247.899902</td>\n",
       "      <td>2.0</td>\n",
       "      <td>Utilities</td>\n",
       "    </tr>\n",
       "    <tr>\n",
       "      <th>Alimentation Couche-Tard Inc. (TSX:ATD.B)</th>\n",
       "      <td>30426</td>\n",
       "      <td>79562.796875</td>\n",
       "      <td>3.0</td>\n",
       "      <td>Consumer Staples</td>\n",
       "    </tr>\n",
       "  </tbody>\n",
       "</table>\n",
       "</div>"
      ],
      "text/plain": [
       "                                                 A             B    C  \\\n",
       "Name                                                                    \n",
       "Agnico Eagle Mines Limited (NYSE:AEM)        10715   2990.000000  5.0   \n",
       "Air Canada (TSX:AC)                          19197  18065.000000  5.0   \n",
       "Alamos Gold Inc. (TSX:AGI)                    4455    889.400024  4.0   \n",
       "Algonquin Power & Utilities Corp. (TSX:AQN)  12811   2247.899902  2.0   \n",
       "Alimentation Couche-Tard Inc. (TSX:ATD.B)    30426  79562.796875  3.0   \n",
       "\n",
       "                                                            D  \n",
       "Name                                                           \n",
       "Agnico Eagle Mines Limited (NYSE:AEM)               Materials  \n",
       "Air Canada (TSX:AC)                               Industrials  \n",
       "Alamos Gold Inc. (TSX:AGI)                          Materials  \n",
       "Algonquin Power & Utilities Corp. (TSX:AQN)         Utilities  \n",
       "Alimentation Couche-Tard Inc. (TSX:ATD.B)    Consumer Staples  "
      ]
     },
     "execution_count": 36,
     "metadata": {},
     "output_type": "execute_result"
    }
   ],
   "source": [
    "# Check the top 5 rows and all of the column names\n",
    "new_df.head()"
   ]
  },
  {
   "cell_type": "code",
   "execution_count": 37,
   "metadata": {
    "scrolled": true
   },
   "outputs": [
    {
     "data": {
      "text/html": [
       "<div>\n",
       "<style scoped>\n",
       "    .dataframe tbody tr th:only-of-type {\n",
       "        vertical-align: middle;\n",
       "    }\n",
       "\n",
       "    .dataframe tbody tr th {\n",
       "        vertical-align: top;\n",
       "    }\n",
       "\n",
       "    .dataframe thead th {\n",
       "        text-align: right;\n",
       "    }\n",
       "</style>\n",
       "<table border=\"1\" class=\"dataframe\">\n",
       "  <thead>\n",
       "    <tr style=\"text-align: right;\">\n",
       "      <th></th>\n",
       "      <th>TotalAssets</th>\n",
       "      <th>TotalRevenue</th>\n",
       "      <th>GeographicSegments</th>\n",
       "    </tr>\n",
       "  </thead>\n",
       "  <tbody>\n",
       "    <tr>\n",
       "      <th>count</th>\n",
       "      <td>132.0</td>\n",
       "      <td>132.0</td>\n",
       "      <td>124.0</td>\n",
       "    </tr>\n",
       "    <tr>\n",
       "      <th>mean</th>\n",
       "      <td>79793.3</td>\n",
       "      <td>11634.7</td>\n",
       "      <td>4.8</td>\n",
       "    </tr>\n",
       "    <tr>\n",
       "      <th>std</th>\n",
       "      <td>218163.2</td>\n",
       "      <td>15739.7</td>\n",
       "      <td>4.2</td>\n",
       "    </tr>\n",
       "    <tr>\n",
       "      <th>min</th>\n",
       "      <td>261.1</td>\n",
       "      <td>15.7</td>\n",
       "      <td>1.0</td>\n",
       "    </tr>\n",
       "    <tr>\n",
       "      <th>25%</th>\n",
       "      <td>5077.7</td>\n",
       "      <td>1683.9</td>\n",
       "      <td>2.0</td>\n",
       "    </tr>\n",
       "    <tr>\n",
       "      <th>50%</th>\n",
       "      <td>11690.3</td>\n",
       "      <td>5005.6</td>\n",
       "      <td>3.5</td>\n",
       "    </tr>\n",
       "    <tr>\n",
       "      <th>75%</th>\n",
       "      <td>35186.8</td>\n",
       "      <td>14151.5</td>\n",
       "      <td>6.0</td>\n",
       "    </tr>\n",
       "    <tr>\n",
       "      <th>max</th>\n",
       "      <td>1334903.0</td>\n",
       "      <td>79975.7</td>\n",
       "      <td>24.0</td>\n",
       "    </tr>\n",
       "  </tbody>\n",
       "</table>\n",
       "</div>"
      ],
      "text/plain": [
       "       TotalAssets  TotalRevenue  GeographicSegments\n",
       "count        132.0         132.0               124.0\n",
       "mean       79793.3       11634.7                 4.8\n",
       "std       218163.2       15739.7                 4.2\n",
       "min          261.1          15.7                 1.0\n",
       "25%         5077.7        1683.9                 2.0\n",
       "50%        11690.3        5005.6                 3.5\n",
       "75%        35186.8       14151.5                 6.0\n",
       "max      1334903.0       79975.7                24.0"
      ]
     },
     "execution_count": 37,
     "metadata": {},
     "output_type": "execute_result"
    }
   ],
   "source": [
    "# Describe and summarize\n",
    "df.describe().round(1) # automatically selects numeric columns, ignores nans"
   ]
  },
  {
   "cell_type": "code",
   "execution_count": 38,
   "metadata": {
    "scrolled": true
   },
   "outputs": [
    {
     "data": {
      "text/plain": [
       "count            132\n",
       "unique            11\n",
       "top       Financials\n",
       "freq              21\n",
       "Name: PrimarySector, dtype: object"
      ]
     },
     "execution_count": 38,
     "metadata": {},
     "output_type": "execute_result"
    }
   ],
   "source": [
    "# The describe method is also implemented for pandas series\n",
    "# See what happens when you ask pandas to describe a categorical variable (same result for any object type series)\n",
    "df.PrimarySector.describe()"
   ]
  },
  {
   "cell_type": "code",
   "execution_count": 39,
   "metadata": {},
   "outputs": [
    {
     "data": {
      "text/plain": [
       "Financials                21\n",
       "Materials                 19\n",
       "Energy                    18\n",
       "Industrials               17\n",
       "Utilities                 12\n",
       "Real Estate               11\n",
       "Consumer Discretionary     9\n",
       "Consumer Staples           8\n",
       "Information Technology     6\n",
       "Communication Services     6\n",
       "Health Care                5\n",
       "Name: PrimarySector, dtype: int64"
      ]
     },
     "execution_count": 39,
     "metadata": {},
     "output_type": "execute_result"
    }
   ],
   "source": [
    "df.PrimarySector.value_counts()"
   ]
  },
  {
   "cell_type": "code",
   "execution_count": 40,
   "metadata": {},
   "outputs": [
    {
     "name": "stdout",
     "output_type": "stream",
     "text": [
      "Name                  Air Canada (TSX:AC)\n",
      "TotalAssets                         19197\n",
      "TotalRevenue                        18065\n",
      "GeographicSegments                      5\n",
      "PrimarySector                 Industrials\n",
      "Name: TSX:AC, dtype: object\n",
      "\n",
      "Name                  Yamana Gold Inc. (TSX:YRI)\n",
      "TotalAssets                              10933.9\n",
      "TotalRevenue                              2454.1\n",
      "GeographicSegments                             5\n",
      "PrimarySector                          Materials\n",
      "Name: TSX:YRI, dtype: object\n",
      "\n",
      "Ticker\n",
      "NYSE:AEM     10715.500000\n",
      "TSX:AC       19197.000000\n",
      "TSX:AGI       4455.500000\n",
      "TSX:AQN      12811.599609\n",
      "TSX:ATD.B    30426.300781\n",
      "Name: TotalAssets, dtype: float32\n"
     ]
    }
   ],
   "source": [
    "# Integer position based indexing - \"iloc\"\n",
    "# Reference: https://pandas.pydata.org/pandas-docs/stable/reference/api/pandas.DataFrame.iloc.html\n",
    "\n",
    "print(df.iloc[1]) # first row\n",
    "print()\n",
    "print(df.iloc[-1]) # last row\n",
    "print()\n",
    "print(df.iloc[:5,1]) # first five rows of first column"
   ]
  },
  {
   "cell_type": "code",
   "execution_count": 41,
   "metadata": {
    "scrolled": false
   },
   "outputs": [
    {
     "name": "stdout",
     "output_type": "stream",
     "text": [
      "Name                  Royal Bank of Canada (TSX:RY)\n",
      "TotalAssets                             1.33473e+06\n",
      "TotalRevenue                                  41269\n",
      "GeographicSegments                                3\n",
      "PrimarySector                            Financials\n",
      "Name: TSX:RY, dtype: object\n",
      "\n",
      "3.0\n"
     ]
    }
   ],
   "source": [
    "# Label based indexing\n",
    "# Reference:https://pandas.pydata.org/pandas-docs/stable/reference/api/pandas.DataFrame.loc.html\n",
    "\n",
    "print(df.loc['TSX:RY']) #get row with info on RBC\n",
    "print()\n",
    "print(df.loc['TSX:RY','GeographicSegments']) # get number of geographic segments at RBC"
   ]
  },
  {
   "cell_type": "code",
   "execution_count": 42,
   "metadata": {
    "scrolled": true
   },
   "outputs": [
    {
     "data": {
      "text/plain": [
       "TotalRevenue               41269\n",
       "GeographicSegments             3\n",
       "PrimarySector         Financials\n",
       "Name: TSX:RY, dtype: object"
      ]
     },
     "execution_count": 42,
     "metadata": {},
     "output_type": "execute_result"
    }
   ],
   "source": [
    "df.loc['TSX:RY','TotalRevenue':'PrimarySector']"
   ]
  },
  {
   "cell_type": "code",
   "execution_count": 43,
   "metadata": {
    "scrolled": true
   },
   "outputs": [
    {
     "name": "stdout",
     "output_type": "stream",
     "text": [
      "Ticker\n",
      "NYSE:AEM    Agnico Eagle Mines Limited (NYSE:AEM)\n",
      "TSX:AC                        Air Canada (TSX:AC)\n",
      "TSX:AGI                Alamos Gold Inc. (TSX:AGI)\n",
      "Name: Name, dtype: object\n",
      "Ticker\n",
      "NYSE:AEM    Agnico Eagle Mines Limited (NYSE:AEM)\n",
      "TSX:AC                        Air Canada (TSX:AC)\n",
      "TSX:AGI                Alamos Gold Inc. (TSX:AGI)\n",
      "Name: Name, dtype: object\n",
      "Ticker\n",
      "NYSE:AEM    Agnico Eagle Mines Limited (NYSE:AEM)\n",
      "TSX:AC                        Air Canada (TSX:AC)\n",
      "TSX:AGI                Alamos Gold Inc. (TSX:AGI)\n",
      "Name: Name, dtype: object\n"
     ]
    }
   ],
   "source": [
    "# Select a column - three ways to do the same thing\n",
    "print(df.Name[:3])\n",
    "print(df['Name'][:3])\n",
    "print(df.loc[:,'Name'][:3])"
   ]
  },
  {
   "cell_type": "code",
   "execution_count": 44,
   "metadata": {
    "scrolled": true
   },
   "outputs": [
    {
     "name": "stdout",
     "output_type": "stream",
     "text": [
      "                                           Name PrimarySector\n",
      "Ticker                                                       \n",
      "NYSE:AEM  Agnico Eagle Mines Limited (NYSE:AEM)     Materials\n",
      "TSX:AC                      Air Canada (TSX:AC)   Industrials\n",
      "TSX:AGI              Alamos Gold Inc. (TSX:AGI)     Materials\n",
      "\n",
      "          TotalAssets  TotalRevenue\n",
      "Ticker                             \n",
      "NYSE:AEM      10715.5   2990.000000\n",
      "TSX:AC        19197.0  18065.000000\n",
      "TSX:AGI        4455.5    889.400024\n"
     ]
    }
   ],
   "source": [
    "# Select multiple columns\n",
    "print(df[['Name','PrimarySector']].head(3))\n",
    "print()\n",
    "print(df.filter(like='Total').head(3))"
   ]
  },
  {
   "cell_type": "code",
   "execution_count": 45,
   "metadata": {
    "scrolled": true
   },
   "outputs": [
    {
     "data": {
      "text/html": [
       "<div>\n",
       "<style scoped>\n",
       "    .dataframe tbody tr th:only-of-type {\n",
       "        vertical-align: middle;\n",
       "    }\n",
       "\n",
       "    .dataframe tbody tr th {\n",
       "        vertical-align: top;\n",
       "    }\n",
       "\n",
       "    .dataframe thead th {\n",
       "        text-align: right;\n",
       "    }\n",
       "</style>\n",
       "<table border=\"1\" class=\"dataframe\">\n",
       "  <thead>\n",
       "    <tr style=\"text-align: right;\">\n",
       "      <th></th>\n",
       "      <th>Name</th>\n",
       "      <th>PrimarySector</th>\n",
       "    </tr>\n",
       "    <tr>\n",
       "      <th>Ticker</th>\n",
       "      <th></th>\n",
       "      <th></th>\n",
       "    </tr>\n",
       "  </thead>\n",
       "  <tbody>\n",
       "    <tr>\n",
       "      <th>TSX:CCO</th>\n",
       "      <td>Cameco Corporation (TSX:CCO)</td>\n",
       "      <td>Energy</td>\n",
       "    </tr>\n",
       "    <tr>\n",
       "      <th>TSX:GOOS</th>\n",
       "      <td>Canada Goose Holdings Inc. (TSX:GOOS)</td>\n",
       "      <td>Consumer Discretionary</td>\n",
       "    </tr>\n",
       "  </tbody>\n",
       "</table>\n",
       "</div>"
      ],
      "text/plain": [
       "                                           Name           PrimarySector\n",
       "Ticker                                                                 \n",
       "TSX:CCO            Cameco Corporation (TSX:CCO)                  Energy\n",
       "TSX:GOOS  Canada Goose Holdings Inc. (TSX:GOOS)  Consumer Discretionary"
      ]
     },
     "execution_count": 45,
     "metadata": {},
     "output_type": "execute_result"
    }
   ],
   "source": [
    "# Exercise:\n",
    "# Get info for the following tickers: 'TSX:RY', 'TSX:BMO', 'TSX:TD'\n",
    "tickers = ['TSX:RY', 'TSX:BMO', 'TSX:TD']\n",
    "df.loc[tickers,:]\n",
    "\n",
    "# Get the 25th and 26th rows and the Name & PrimarySector columns\n",
    "\n",
    "\n",
    "df.iloc[24:26][['Name','PrimarySector']]\n",
    "df[['Name','PrimarySector']].iloc[24:26]\n",
    "df.iloc[24:26].loc[:,['Name','PrimarySector']]\n",
    "\n",
    "df.iloc[24:26][['Name','PrimarySector']]\n",
    "df[['Name','PrimarySector']].iloc[24:26]"
   ]
  },
  {
   "cell_type": "code",
   "execution_count": 46,
   "metadata": {},
   "outputs": [
    {
     "data": {
      "text/plain": [
       "count    1.320000e+02\n",
       "mean     7.979331e+04\n",
       "std      2.181632e+05\n",
       "min      2.611000e+02\n",
       "25%      5.077725e+03\n",
       "50%      1.169030e+04\n",
       "75%      3.518675e+04\n",
       "max      1.334903e+06\n",
       "Name: TotalAssets, dtype: float64"
      ]
     },
     "execution_count": 46,
     "metadata": {},
     "output_type": "execute_result"
    }
   ],
   "source": [
    "df.TotalAssets.describe()"
   ]
  },
  {
   "cell_type": "code",
   "execution_count": 47,
   "metadata": {
    "scrolled": false
   },
   "outputs": [
    {
     "data": {
      "text/html": [
       "<div>\n",
       "<style scoped>\n",
       "    .dataframe tbody tr th:only-of-type {\n",
       "        vertical-align: middle;\n",
       "    }\n",
       "\n",
       "    .dataframe tbody tr th {\n",
       "        vertical-align: top;\n",
       "    }\n",
       "\n",
       "    .dataframe thead th {\n",
       "        text-align: right;\n",
       "    }\n",
       "</style>\n",
       "<table border=\"1\" class=\"dataframe\">\n",
       "  <thead>\n",
       "    <tr style=\"text-align: right;\">\n",
       "      <th></th>\n",
       "      <th>Name</th>\n",
       "      <th>TotalAssets</th>\n",
       "      <th>TotalRevenue</th>\n",
       "      <th>GeographicSegments</th>\n",
       "      <th>PrimarySector</th>\n",
       "    </tr>\n",
       "    <tr>\n",
       "      <th>Ticker</th>\n",
       "      <th></th>\n",
       "      <th></th>\n",
       "      <th></th>\n",
       "      <th></th>\n",
       "      <th></th>\n",
       "    </tr>\n",
       "  </thead>\n",
       "  <tbody>\n",
       "    <tr>\n",
       "      <th>TSX:CRON</th>\n",
       "      <td>Cronos Group Inc. (TSX:CRON)</td>\n",
       "      <td>261.100006</td>\n",
       "      <td>15.700000</td>\n",
       "      <td>2.0</td>\n",
       "      <td>Health Care</td>\n",
       "    </tr>\n",
       "    <tr>\n",
       "      <th>TSX:GOOS</th>\n",
       "      <td>Canada Goose Holdings Inc. (TSX:GOOS)</td>\n",
       "      <td>725.400024</td>\n",
       "      <td>830.500000</td>\n",
       "      <td>3.0</td>\n",
       "      <td>Consumer Discretionary</td>\n",
       "    </tr>\n",
       "    <tr>\n",
       "      <th>TSX:DSG</th>\n",
       "      <td>The Descartes Systems Group Inc (TSX:DSG)</td>\n",
       "      <td>858.900024</td>\n",
       "      <td>361.700012</td>\n",
       "      <td>4.0</td>\n",
       "      <td>Information Technology</td>\n",
       "    </tr>\n",
       "    <tr>\n",
       "      <th>TSX:BYD.UN</th>\n",
       "      <td>Boyd Group Income Fund (TSX:BYD.UN)</td>\n",
       "      <td>1233.500000</td>\n",
       "      <td>1864.599976</td>\n",
       "      <td>2.0</td>\n",
       "      <td>Industrials</td>\n",
       "    </tr>\n",
       "    <tr>\n",
       "      <th>TSX:FSV</th>\n",
       "      <td>FirstService Corporation (TSX:FSV)</td>\n",
       "      <td>1374.699951</td>\n",
       "      <td>2635.600098</td>\n",
       "      <td>2.0</td>\n",
       "      <td>Real Estate</td>\n",
       "    </tr>\n",
       "  </tbody>\n",
       "</table>\n",
       "</div>"
      ],
      "text/plain": [
       "                                                 Name  TotalAssets  \\\n",
       "Ticker                                                               \n",
       "TSX:CRON                 Cronos Group Inc. (TSX:CRON)   261.100006   \n",
       "TSX:GOOS        Canada Goose Holdings Inc. (TSX:GOOS)   725.400024   \n",
       "TSX:DSG     The Descartes Systems Group Inc (TSX:DSG)   858.900024   \n",
       "TSX:BYD.UN        Boyd Group Income Fund (TSX:BYD.UN)  1233.500000   \n",
       "TSX:FSV            FirstService Corporation (TSX:FSV)  1374.699951   \n",
       "\n",
       "            TotalRevenue  GeographicSegments           PrimarySector  \n",
       "Ticker                                                                \n",
       "TSX:CRON       15.700000                 2.0             Health Care  \n",
       "TSX:GOOS      830.500000                 3.0  Consumer Discretionary  \n",
       "TSX:DSG       361.700012                 4.0  Information Technology  \n",
       "TSX:BYD.UN   1864.599976                 2.0             Industrials  \n",
       "TSX:FSV      2635.600098                 2.0             Real Estate  "
      ]
     },
     "execution_count": 47,
     "metadata": {},
     "output_type": "execute_result"
    }
   ],
   "source": [
    "# Sorting\n",
    "df.sort_values('TotalAssets').head()"
   ]
  },
  {
   "cell_type": "code",
   "execution_count": 48,
   "metadata": {},
   "outputs": [
    {
     "name": "stdout",
     "output_type": "stream",
     "text": [
      "                                                   Name  TotalRevenue\n",
      "Ticker                                                               \n",
      "TSX:BAM.A  Brookfield Asset Management Inc. (TSX:BAM.A)  79975.703125\n",
      "TSX:ATD.B     Alimentation Couche-Tard Inc. (TSX:ATD.B)  79562.796875\n",
      "TSX:MG                Magna International Inc. (TSX:MG)  55710.101562\n",
      "                                          Name  TotalRevenue\n",
      "Ticker                                                      \n",
      "TSX:CRON          Cronos Group Inc. (TSX:CRON)     15.700000\n",
      "TSX:ACB         Aurora Cannabis Inc. (TSX:ACB)     55.200001\n",
      "TSX:WEED  Canopy Growth Corporation (TSX:WEED)    226.300003\n"
     ]
    }
   ],
   "source": [
    "print(df.nlargest(3,'TotalRevenue')[['Name','TotalRevenue']])\n",
    "print(df.nsmallest(3,'TotalRevenue')[['Name','TotalRevenue']])"
   ]
  },
  {
   "cell_type": "code",
   "execution_count": 49,
   "metadata": {},
   "outputs": [
    {
     "data": {
      "text/plain": [
       "Ticker\n",
       "NYSE:AEM      True\n",
       "TSX:AC        True\n",
       "TSX:AGI      False\n",
       "TSX:AQN       True\n",
       "TSX:ATD.B     True\n",
       "Name: TotalAssets, dtype: bool"
      ]
     },
     "execution_count": 49,
     "metadata": {},
     "output_type": "execute_result"
    }
   ],
   "source": [
    "# Boolean indexing\n",
    "bool_series=df.TotalAssets>9000\n",
    "bool_series[:5]"
   ]
  },
  {
   "cell_type": "code",
   "execution_count": 50,
   "metadata": {
    "scrolled": true
   },
   "outputs": [
    {
     "data": {
      "text/html": [
       "<div>\n",
       "<style scoped>\n",
       "    .dataframe tbody tr th:only-of-type {\n",
       "        vertical-align: middle;\n",
       "    }\n",
       "\n",
       "    .dataframe tbody tr th {\n",
       "        vertical-align: top;\n",
       "    }\n",
       "\n",
       "    .dataframe thead th {\n",
       "        text-align: right;\n",
       "    }\n",
       "</style>\n",
       "<table border=\"1\" class=\"dataframe\">\n",
       "  <thead>\n",
       "    <tr style=\"text-align: right;\">\n",
       "      <th></th>\n",
       "      <th>Name</th>\n",
       "      <th>TotalAssets</th>\n",
       "    </tr>\n",
       "    <tr>\n",
       "      <th>Ticker</th>\n",
       "      <th></th>\n",
       "      <th></th>\n",
       "    </tr>\n",
       "  </thead>\n",
       "  <tbody>\n",
       "    <tr>\n",
       "      <th>NYSE:AEM</th>\n",
       "      <td>Agnico Eagle Mines Limited (NYSE:AEM)</td>\n",
       "      <td>10715.500000</td>\n",
       "    </tr>\n",
       "    <tr>\n",
       "      <th>TSX:AC</th>\n",
       "      <td>Air Canada (TSX:AC)</td>\n",
       "      <td>19197.000000</td>\n",
       "    </tr>\n",
       "    <tr>\n",
       "      <th>TSX:AQN</th>\n",
       "      <td>Algonquin Power &amp; Utilities Corp. (TSX:AQN)</td>\n",
       "      <td>12811.599609</td>\n",
       "    </tr>\n",
       "    <tr>\n",
       "      <th>TSX:ATD.B</th>\n",
       "      <td>Alimentation Couche-Tard Inc. (TSX:ATD.B)</td>\n",
       "      <td>30426.300781</td>\n",
       "    </tr>\n",
       "    <tr>\n",
       "      <th>TSX:ALA</th>\n",
       "      <td>AltaGas Ltd. (TSX:ALA)</td>\n",
       "      <td>23487.699219</td>\n",
       "    </tr>\n",
       "  </tbody>\n",
       "</table>\n",
       "</div>"
      ],
      "text/plain": [
       "                                                  Name   TotalAssets\n",
       "Ticker                                                              \n",
       "NYSE:AEM         Agnico Eagle Mines Limited (NYSE:AEM)  10715.500000\n",
       "TSX:AC                             Air Canada (TSX:AC)  19197.000000\n",
       "TSX:AQN    Algonquin Power & Utilities Corp. (TSX:AQN)  12811.599609\n",
       "TSX:ATD.B    Alimentation Couche-Tard Inc. (TSX:ATD.B)  30426.300781\n",
       "TSX:ALA                         AltaGas Ltd. (TSX:ALA)  23487.699219"
      ]
     },
     "execution_count": 50,
     "metadata": {},
     "output_type": "execute_result"
    }
   ],
   "source": [
    "# Slicing based on conditions\n",
    "df.loc[df.TotalAssets>9000,['Name','TotalAssets']].head()"
   ]
  },
  {
   "cell_type": "code",
   "execution_count": 51,
   "metadata": {
    "scrolled": false
   },
   "outputs": [
    {
     "name": "stdout",
     "output_type": "stream",
     "text": [
      "Ticker\n",
      "TSX:FM    First Quantum Minerals Ltd. (TSX:FM)\n",
      "Name: Name, dtype: object\n",
      "Index(['TSX:FM'], dtype='object', name='Ticker')\n"
     ]
    }
   ],
   "source": [
    "# Exercise\n",
    "# 1. Get the ticker and name ONLY for the company that has the most geographic segments\n",
    "most_segments = df.nlargest(1, 'GeographicSegments')\n",
    "print(most_segments.Name)\n",
    "most_segments_ticker = most_segments.index\n",
    "print(most_segments_ticker)\n",
    "\n"
   ]
  },
  {
   "cell_type": "code",
   "execution_count": 52,
   "metadata": {
    "scrolled": false
   },
   "outputs": [
    {
     "name": "stdout",
     "output_type": "stream",
     "text": [
      "Ticker\n",
      "TSX:FM    Materials\n",
      "Name: PrimarySector, dtype: category\n",
      "Categories (11, object): [Communication Services, Consumer Discretionary, Consumer Staples, Energy, ..., Information Technology, Materials, Real Estate, Utilities]\n"
     ]
    }
   ],
   "source": [
    "# 2. Use the index of the company found in step 1 to get its primary sector \n",
    "\n",
    "print(most_segments.PrimarySector)\n",
    "\n",
    "m = df.loc[most_segments_ticker,'PrimarySector'].values"
   ]
  },
  {
   "cell_type": "code",
   "execution_count": 53,
   "metadata": {},
   "outputs": [
    {
     "data": {
      "text/plain": [
       "(19, 5)"
      ]
     },
     "execution_count": 53,
     "metadata": {},
     "output_type": "execute_result"
    }
   ],
   "source": [
    "# 3. Create a new dataframe containing only companies in the same sector as the company in question\n",
    "# 4. What is the shape of this new dataframe? \n",
    "\n",
    "materials = df.loc[df.PrimarySector=='Materials']\n",
    "materials.shape"
   ]
  },
  {
   "cell_type": "code",
   "execution_count": 54,
   "metadata": {
    "scrolled": true
   },
   "outputs": [
    {
     "data": {
      "text/plain": [
       "Financials                21\n",
       "Materials                 19\n",
       "Energy                    18\n",
       "Industrials               17\n",
       "Utilities                 12\n",
       "Real Estate               11\n",
       "Consumer Discretionary     9\n",
       "Consumer Staples           8\n",
       "Information Technology     6\n",
       "Communication Services     6\n",
       "Health Care                5\n",
       "Name: PrimarySector, dtype: int64"
      ]
     },
     "execution_count": 54,
     "metadata": {},
     "output_type": "execute_result"
    }
   ],
   "source": [
    "# 5. Does the shape match the information shown by df.PrimarySector.value_counts()?\n",
    "\n",
    "df.PrimarySector.value_counts()"
   ]
  },
  {
   "cell_type": "code",
   "execution_count": 55,
   "metadata": {
    "scrolled": true
   },
   "outputs": [
    {
     "data": {
      "text/html": [
       "<div>\n",
       "<style scoped>\n",
       "    .dataframe tbody tr th:only-of-type {\n",
       "        vertical-align: middle;\n",
       "    }\n",
       "\n",
       "    .dataframe tbody tr th {\n",
       "        vertical-align: top;\n",
       "    }\n",
       "\n",
       "    .dataframe thead th {\n",
       "        text-align: right;\n",
       "    }\n",
       "</style>\n",
       "<table border=\"1\" class=\"dataframe\">\n",
       "  <thead>\n",
       "    <tr style=\"text-align: right;\">\n",
       "      <th></th>\n",
       "      <th>Name</th>\n",
       "      <th>TotalAssets</th>\n",
       "      <th>TotalRevenue</th>\n",
       "      <th>GeographicSegments</th>\n",
       "      <th>PrimarySector</th>\n",
       "    </tr>\n",
       "    <tr>\n",
       "      <th>Ticker</th>\n",
       "      <th></th>\n",
       "      <th></th>\n",
       "      <th></th>\n",
       "      <th></th>\n",
       "      <th></th>\n",
       "    </tr>\n",
       "  </thead>\n",
       "  <tbody>\n",
       "    <tr>\n",
       "      <th>TSX:FNV</th>\n",
       "      <td>Franco-Nevada Corporation (TSX:FNV)</td>\n",
       "      <td>6729.600098</td>\n",
       "      <td>888.200012</td>\n",
       "      <td>7.0</td>\n",
       "      <td>Materials</td>\n",
       "    </tr>\n",
       "    <tr>\n",
       "      <th>TSX:AGI</th>\n",
       "      <td>Alamos Gold Inc. (TSX:AGI)</td>\n",
       "      <td>4455.500000</td>\n",
       "      <td>889.400024</td>\n",
       "      <td>4.0</td>\n",
       "      <td>Materials</td>\n",
       "    </tr>\n",
       "    <tr>\n",
       "      <th>TSX:DGC</th>\n",
       "      <td>Detour Gold Corporation (TSX:DGC)</td>\n",
       "      <td>3367.699951</td>\n",
       "      <td>1058.900024</td>\n",
       "      <td>1.0</td>\n",
       "      <td>Materials</td>\n",
       "    </tr>\n",
       "  </tbody>\n",
       "</table>\n",
       "</div>"
      ],
      "text/plain": [
       "                                        Name  TotalAssets  TotalRevenue  \\\n",
       "Ticker                                                                    \n",
       "TSX:FNV  Franco-Nevada Corporation (TSX:FNV)  6729.600098    888.200012   \n",
       "TSX:AGI           Alamos Gold Inc. (TSX:AGI)  4455.500000    889.400024   \n",
       "TSX:DGC    Detour Gold Corporation (TSX:DGC)  3367.699951   1058.900024   \n",
       "\n",
       "         GeographicSegments PrimarySector  \n",
       "Ticker                                     \n",
       "TSX:FNV                 7.0     Materials  \n",
       "TSX:AGI                 4.0     Materials  \n",
       "TSX:DGC                 1.0     Materials  "
      ]
     },
     "execution_count": 55,
     "metadata": {},
     "output_type": "execute_result"
    }
   ],
   "source": [
    "# 6. Sort the dataframe created in step 3 by total revenue (in place) and view the top 5 companies\n",
    "\n",
    "materials = materials.sort_values('TotalRevenue')\n",
    "materials.head(3)"
   ]
  },
  {
   "cell_type": "code",
   "execution_count": 56,
   "metadata": {},
   "outputs": [],
   "source": [
    "# 7. Create a third dataframe from the sorted dataframe (step 6) with ..\n",
    "#only two columns: \"TotalAssets\" and \"TotalRevenue\"\n",
    "# and exclude companies with less than 4 geographic segments\n",
    "\n",
    "#mini_sector_df = materials.loc[materials.GeographicSegments>=4., ['TotalAssets','TotalRevenue']]\n",
    "\n"
   ]
  },
  {
   "cell_type": "code",
   "execution_count": 58,
   "metadata": {},
   "outputs": [
    {
     "data": {
      "text/plain": [
       "\"print(mini_sector_df.shape)\\nprint('Number of companies excluded is ', len(sector_df)-len(mini_sector_df))\\nprint()\\n\""
      ]
     },
     "execution_count": 58,
     "metadata": {},
     "output_type": "execute_result"
    }
   ],
   "source": [
    "# 8. How many companies were excluded? \n",
    "\n",
    "'''print(mini_sector_df.shape)\n",
    "print('Number of companies excluded is ', len(sector_df)-len(mini_sector_df))\n",
    "print()\n",
    "'''"
   ]
  },
  {
   "cell_type": "code",
   "execution_count": null,
   "metadata": {},
   "outputs": [],
   "source": [
    "# 9. Print the summary statistics (count, mean, std etc.) of the dataframe created in step 7.\n",
    "\n",
    "print(mini_sector_df.describe())"
   ]
  },
  {
   "cell_type": "code",
   "execution_count": null,
   "metadata": {
    "scrolled": true
   },
   "outputs": [],
   "source": [
    "# Dealing with missing values\n",
    "df.isna().any() # identify which variables contain missing values"
   ]
  },
  {
   "cell_type": "code",
   "execution_count": null,
   "metadata": {
    "scrolled": true
   },
   "outputs": [],
   "source": [
    "df.loc[df.GeographicSegments.isna(),['Name','GeographicSegments']]"
   ]
  },
  {
   "cell_type": "code",
   "execution_count": null,
   "metadata": {
    "scrolled": true
   },
   "outputs": [],
   "source": [
    "df.GeographicSegments = df.GeographicSegments.fillna(0) \n",
    "\n",
    "df.GeographicSegments.isna().any() # check if we succeeded"
   ]
  },
  {
   "cell_type": "code",
   "execution_count": null,
   "metadata": {},
   "outputs": [],
   "source": [
    "df.GeographicSegments = df.GeographicSegments.astype('int')"
   ]
  },
  {
   "cell_type": "code",
   "execution_count": null,
   "metadata": {
    "scrolled": true
   },
   "outputs": [],
   "source": [
    "# Arithmetic & aggregation\n",
    "\n",
    "numeric_df = df.select_dtypes(include='number')\n",
    "print(numeric_df.head())"
   ]
  },
  {
   "cell_type": "code",
   "execution_count": null,
   "metadata": {
    "scrolled": true
   },
   "outputs": [],
   "source": [
    "numeric_df.apply(np.log).head().round(1) # applies function to each cell"
   ]
  },
  {
   "cell_type": "code",
   "execution_count": null,
   "metadata": {
    "scrolled": true
   },
   "outputs": [],
   "source": [
    "numeric_df.sum() # defaults to summing over axis=0/axis='rows'"
   ]
  },
  {
   "cell_type": "code",
   "execution_count": null,
   "metadata": {
    "scrolled": false
   },
   "outputs": [],
   "source": [
    "numeric_df.sum(axis='columns')[:5]"
   ]
  },
  {
   "cell_type": "code",
   "execution_count": null,
   "metadata": {},
   "outputs": [],
   "source": [
    "numeric_df.sum(axis=1)[:5] # same as NumPy (and as above)"
   ]
  },
  {
   "cell_type": "code",
   "execution_count": null,
   "metadata": {},
   "outputs": [],
   "source": [
    "print(numeric_df.loc['NYSE:AEM'])\n",
    "10715.5+2990+5 # check pandas sum of numeric variables"
   ]
  },
  {
   "cell_type": "code",
   "execution_count": null,
   "metadata": {
    "scrolled": true
   },
   "outputs": [],
   "source": [
    "a=df.TotalAssets*2\n",
    "print(a[:5])"
   ]
  },
  {
   "cell_type": "code",
   "execution_count": null,
   "metadata": {
    "scrolled": false
   },
   "outputs": [],
   "source": [
    "b=df.TotalAssets*df.GeographicSegments # elementwise multiplication\n",
    "b[:5]"
   ]
  },
  {
   "cell_type": "code",
   "execution_count": null,
   "metadata": {},
   "outputs": [],
   "source": [
    "pd.DataFrame([[1,1],[2,2]]) @ pd.DataFrame([[1,1],[2,2]]) # Refer to NumPy materials for more"
   ]
  },
  {
   "cell_type": "code",
   "execution_count": null,
   "metadata": {},
   "outputs": [],
   "source": [
    "# Groupby\n",
    "# References: \n",
    "# https://pandas.pydata.org/pandas-docs/stable/reference/api/pandas.DataFrame.groupby.html, \n",
    "# https://pandas.pydata.org/pandas-docs/stable/user_guide/groupby.html\n",
    "\n",
    "group = df.groupby(['PrimarySector']).median().round(1).sort_values('TotalAssets', ascending=False)\n",
    "print(type(df.groupby(['PrimarySector'])))\n",
    "print(type(group))\n",
    "group"
   ]
  },
  {
   "cell_type": "code",
   "execution_count": null,
   "metadata": {
    "scrolled": true
   },
   "outputs": [],
   "source": [
    "# Pivot table\n",
    "pivot_df = df.pivot_table(values=['TotalAssets','TotalRevenue'],index=['PrimarySector'],aggfunc=np.mean).round(1).sort_values('TotalAssets', ascending=False)\n",
    "print(type(pivot_df))\n",
    "pivot_df"
   ]
  },
  {
   "cell_type": "code",
   "execution_count": null,
   "metadata": {
    "scrolled": true
   },
   "outputs": [],
   "source": [
    "df.pivot_table(values=['TotalAssets','TotalRevenue'],columns=['PrimarySector'],aggfunc=np.mean).round(1)"
   ]
  },
  {
   "cell_type": "code",
   "execution_count": 59,
   "metadata": {
    "scrolled": false
   },
   "outputs": [
    {
     "data": {
      "text/html": [
       "<div>\n",
       "<style scoped>\n",
       "    .dataframe tbody tr th:only-of-type {\n",
       "        vertical-align: middle;\n",
       "    }\n",
       "\n",
       "    .dataframe tbody tr th {\n",
       "        vertical-align: top;\n",
       "    }\n",
       "\n",
       "    .dataframe thead th {\n",
       "        text-align: right;\n",
       "    }\n",
       "</style>\n",
       "<table border=\"1\" class=\"dataframe\">\n",
       "  <thead>\n",
       "    <tr style=\"text-align: right;\">\n",
       "      <th>PrimarySector</th>\n",
       "      <th>Communication Services</th>\n",
       "      <th>Consumer Discretionary</th>\n",
       "      <th>Consumer Staples</th>\n",
       "      <th>Energy</th>\n",
       "      <th>Financials</th>\n",
       "      <th>Health Care</th>\n",
       "      <th>Industrials</th>\n",
       "      <th>Information Technology</th>\n",
       "      <th>Materials</th>\n",
       "      <th>Real Estate</th>\n",
       "      <th>Utilities</th>\n",
       "    </tr>\n",
       "  </thead>\n",
       "  <tbody>\n",
       "    <tr>\n",
       "      <th>TotalAssets</th>\n",
       "      <td>23171.0</td>\n",
       "      <td>4094.800049</td>\n",
       "      <td>10403.900391</td>\n",
       "      <td>16199.5</td>\n",
       "      <td>271827.0</td>\n",
       "      <td>3318.800049</td>\n",
       "      <td>7766.600098</td>\n",
       "      <td>4589.399902</td>\n",
       "      <td>7027.600098</td>\n",
       "      <td>10453.099609</td>\n",
       "      <td>23415.800781</td>\n",
       "    </tr>\n",
       "  </tbody>\n",
       "</table>\n",
       "</div>"
      ],
      "text/plain": [
       "PrimarySector  Communication Services  Consumer Discretionary  \\\n",
       "TotalAssets                   23171.0             4094.800049   \n",
       "\n",
       "PrimarySector  Consumer Staples   Energy  Financials  Health Care  \\\n",
       "TotalAssets        10403.900391  16199.5    271827.0  3318.800049   \n",
       "\n",
       "PrimarySector  Industrials  Information Technology    Materials   Real Estate  \\\n",
       "TotalAssets    7766.600098             4589.399902  7027.600098  10453.099609   \n",
       "\n",
       "PrimarySector     Utilities  \n",
       "TotalAssets    23415.800781  "
      ]
     },
     "execution_count": 59,
     "metadata": {},
     "output_type": "execute_result"
    }
   ],
   "source": [
    "# Exercise\n",
    "# Get the median value total assets value for each sector in the dataset, use either groupby or pivot_table\n",
    "\n",
    "\n",
    "df.pivot_table(values=['TotalAssets'],columns=['PrimarySector'],aggfunc=np.median).round(1)"
   ]
  },
  {
   "cell_type": "code",
   "execution_count": 66,
   "metadata": {
    "scrolled": true
   },
   "outputs": [
    {
     "data": {
      "text/plain": [
       "PrimarySector\n",
       "Communication Services     23171.000000\n",
       "Consumer Discretionary      4094.800049\n",
       "Consumer Staples           10403.900391\n",
       "Energy                     16199.500000\n",
       "Financials                271827.000000\n",
       "Health Care                 3318.800049\n",
       "Industrials                 7766.600098\n",
       "Information Technology      4589.399902\n",
       "Materials                   7027.600098\n",
       "Real Estate                10453.099609\n",
       "Utilities                  23415.849609\n",
       "Name: TotalAssets, dtype: float32"
      ]
     },
     "execution_count": 66,
     "metadata": {},
     "output_type": "execute_result"
    }
   ],
   "source": [
    "df.groupby(['PrimarySector'])['TotalAssets'].median()"
   ]
  },
  {
   "cell_type": "code",
   "execution_count": 70,
   "metadata": {},
   "outputs": [
    {
     "data": {
      "text/plain": [
       "pandas.core.groupby.generic.DataFrameGroupBy"
      ]
     },
     "execution_count": 70,
     "metadata": {},
     "output_type": "execute_result"
    }
   ],
   "source": [
    "df_group = df.groupby(['PrimarySector'])\n",
    "type(df_group)"
   ]
  },
  {
   "cell_type": "code",
   "execution_count": 64,
   "metadata": {},
   "outputs": [
    {
     "data": {
      "text/html": [
       "<div>\n",
       "<style scoped>\n",
       "    .dataframe tbody tr th:only-of-type {\n",
       "        vertical-align: middle;\n",
       "    }\n",
       "\n",
       "    .dataframe tbody tr th {\n",
       "        vertical-align: top;\n",
       "    }\n",
       "\n",
       "    .dataframe thead th {\n",
       "        text-align: right;\n",
       "    }\n",
       "</style>\n",
       "<table border=\"1\" class=\"dataframe\">\n",
       "  <thead>\n",
       "    <tr style=\"text-align: right;\">\n",
       "      <th></th>\n",
       "      <th>TotalAssets</th>\n",
       "    </tr>\n",
       "    <tr>\n",
       "      <th>PrimarySector</th>\n",
       "      <th></th>\n",
       "    </tr>\n",
       "  </thead>\n",
       "  <tbody>\n",
       "    <tr>\n",
       "      <th>Communication Services</th>\n",
       "      <td>23171.000000</td>\n",
       "    </tr>\n",
       "    <tr>\n",
       "      <th>Consumer Discretionary</th>\n",
       "      <td>4094.800049</td>\n",
       "    </tr>\n",
       "    <tr>\n",
       "      <th>Consumer Staples</th>\n",
       "      <td>10403.900391</td>\n",
       "    </tr>\n",
       "    <tr>\n",
       "      <th>Energy</th>\n",
       "      <td>16199.500000</td>\n",
       "    </tr>\n",
       "    <tr>\n",
       "      <th>Financials</th>\n",
       "      <td>271827.000000</td>\n",
       "    </tr>\n",
       "    <tr>\n",
       "      <th>Health Care</th>\n",
       "      <td>3318.800049</td>\n",
       "    </tr>\n",
       "    <tr>\n",
       "      <th>Industrials</th>\n",
       "      <td>7766.600098</td>\n",
       "    </tr>\n",
       "    <tr>\n",
       "      <th>Information Technology</th>\n",
       "      <td>4589.399902</td>\n",
       "    </tr>\n",
       "    <tr>\n",
       "      <th>Materials</th>\n",
       "      <td>7027.600098</td>\n",
       "    </tr>\n",
       "    <tr>\n",
       "      <th>Real Estate</th>\n",
       "      <td>10453.099609</td>\n",
       "    </tr>\n",
       "    <tr>\n",
       "      <th>Utilities</th>\n",
       "      <td>23415.849609</td>\n",
       "    </tr>\n",
       "  </tbody>\n",
       "</table>\n",
       "</div>"
      ],
      "text/plain": [
       "                          TotalAssets\n",
       "PrimarySector                        \n",
       "Communication Services   23171.000000\n",
       "Consumer Discretionary    4094.800049\n",
       "Consumer Staples         10403.900391\n",
       "Energy                   16199.500000\n",
       "Financials              271827.000000\n",
       "Health Care               3318.800049\n",
       "Industrials               7766.600098\n",
       "Information Technology    4589.399902\n",
       "Materials                 7027.600098\n",
       "Real Estate              10453.099609\n",
       "Utilities                23415.849609"
      ]
     },
     "execution_count": 64,
     "metadata": {},
     "output_type": "execute_result"
    }
   ],
   "source": [
    "df[['PrimarySector','TotalAssets']].groupby(['PrimarySector']).median()"
   ]
  },
  {
   "cell_type": "code",
   "execution_count": 82,
   "metadata": {},
   "outputs": [
    {
     "data": {
      "text/html": [
       "<div>\n",
       "<style scoped>\n",
       "    .dataframe tbody tr th:only-of-type {\n",
       "        vertical-align: middle;\n",
       "    }\n",
       "\n",
       "    .dataframe tbody tr th {\n",
       "        vertical-align: top;\n",
       "    }\n",
       "\n",
       "    .dataframe thead th {\n",
       "        text-align: right;\n",
       "    }\n",
       "</style>\n",
       "<table border=\"1\" class=\"dataframe\">\n",
       "  <thead>\n",
       "    <tr style=\"text-align: right;\">\n",
       "      <th></th>\n",
       "      <th>Name</th>\n",
       "      <th>TotalAssets</th>\n",
       "      <th>TotalRevenue</th>\n",
       "      <th>GeographicSegments</th>\n",
       "      <th>PrimarySector</th>\n",
       "      <th>AssetsInBillions</th>\n",
       "    </tr>\n",
       "    <tr>\n",
       "      <th>Ticker</th>\n",
       "      <th></th>\n",
       "      <th></th>\n",
       "      <th></th>\n",
       "      <th></th>\n",
       "      <th></th>\n",
       "      <th></th>\n",
       "    </tr>\n",
       "  </thead>\n",
       "  <tbody>\n",
       "    <tr>\n",
       "      <th>NYSE:AEM</th>\n",
       "      <td>Agnico Eagle Mines Limited (NYSE:AEM)</td>\n",
       "      <td>10715.500000</td>\n",
       "      <td>2990.000000</td>\n",
       "      <td>5</td>\n",
       "      <td>Materials</td>\n",
       "      <td>11.0</td>\n",
       "    </tr>\n",
       "    <tr>\n",
       "      <th>TSX:AC</th>\n",
       "      <td>Air Canada (TSX:AC)</td>\n",
       "      <td>19197.000000</td>\n",
       "      <td>18065.000000</td>\n",
       "      <td>5</td>\n",
       "      <td>Industrials</td>\n",
       "      <td>19.0</td>\n",
       "    </tr>\n",
       "    <tr>\n",
       "      <th>TSX:AGI</th>\n",
       "      <td>Alamos Gold Inc. (TSX:AGI)</td>\n",
       "      <td>4455.500000</td>\n",
       "      <td>889.400024</td>\n",
       "      <td>4</td>\n",
       "      <td>Materials</td>\n",
       "      <td>4.0</td>\n",
       "    </tr>\n",
       "    <tr>\n",
       "      <th>TSX:AQN</th>\n",
       "      <td>Algonquin Power &amp; Utilities Corp. (TSX:AQN)</td>\n",
       "      <td>12811.599609</td>\n",
       "      <td>2247.899902</td>\n",
       "      <td>2</td>\n",
       "      <td>Utilities</td>\n",
       "      <td>13.0</td>\n",
       "    </tr>\n",
       "    <tr>\n",
       "      <th>TSX:ATD.B</th>\n",
       "      <td>Alimentation Couche-Tard Inc. (TSX:ATD.B)</td>\n",
       "      <td>30426.300781</td>\n",
       "      <td>79562.796875</td>\n",
       "      <td>3</td>\n",
       "      <td>Consumer Staples</td>\n",
       "      <td>30.0</td>\n",
       "    </tr>\n",
       "  </tbody>\n",
       "</table>\n",
       "</div>"
      ],
      "text/plain": [
       "                                                  Name   TotalAssets  \\\n",
       "Ticker                                                                 \n",
       "NYSE:AEM         Agnico Eagle Mines Limited (NYSE:AEM)  10715.500000   \n",
       "TSX:AC                             Air Canada (TSX:AC)  19197.000000   \n",
       "TSX:AGI                     Alamos Gold Inc. (TSX:AGI)   4455.500000   \n",
       "TSX:AQN    Algonquin Power & Utilities Corp. (TSX:AQN)  12811.599609   \n",
       "TSX:ATD.B    Alimentation Couche-Tard Inc. (TSX:ATD.B)  30426.300781   \n",
       "\n",
       "           TotalRevenue  GeographicSegments     PrimarySector  \\\n",
       "Ticker                                                          \n",
       "NYSE:AEM    2990.000000                   5         Materials   \n",
       "TSX:AC     18065.000000                   5       Industrials   \n",
       "TSX:AGI      889.400024                   4         Materials   \n",
       "TSX:AQN     2247.899902                   2         Utilities   \n",
       "TSX:ATD.B  79562.796875                   3  Consumer Staples   \n",
       "\n",
       "           AssetsInBillions  \n",
       "Ticker                       \n",
       "NYSE:AEM               11.0  \n",
       "TSX:AC                 19.0  \n",
       "TSX:AGI                 4.0  \n",
       "TSX:AQN                13.0  \n",
       "TSX:ATD.B              30.0  "
      ]
     },
     "execution_count": 82,
     "metadata": {},
     "output_type": "execute_result"
    }
   ],
   "source": [
    "# Assigning new data\n",
    "df['AssetsInBillions'] = np.round(df.TotalAssets/1000) # create a new column\n",
    "df.head()"
   ]
  },
  {
   "cell_type": "code",
   "execution_count": 83,
   "metadata": {
    "scrolled": true
   },
   "outputs": [
    {
     "name": "stdout",
     "output_type": "stream",
     "text": [
      "8\n",
      "0\n"
     ]
    }
   ],
   "source": [
    "# If a company has the number of geographic segments listed as 0, change it to it's median\n",
    "\n",
    "print(len(df.loc[df.GeographicSegments==0]))\n",
    "df.loc[df.GeographicSegments==0,'GeographicSegments'] = df.GeographicSegments.median()\n",
    "print(len(df.loc[df.GeographicSegments==0]))"
   ]
  },
  {
   "cell_type": "code",
   "execution_count": 72,
   "metadata": {},
   "outputs": [
    {
     "name": "stdout",
     "output_type": "stream",
     "text": [
      "3477.0\n"
     ]
    }
   ],
   "source": [
    "# Exercise:\n",
    "# Correct the total assets figure for TSX:RNW from 3747 to 3477\n",
    "\n",
    "df.loc['TSX:RNW','TotalAssets'] = 3477\n",
    "print(df.loc['TSX:RNW','TotalAssets']"
   ]
  },
  {
   "cell_type": "code",
   "execution_count": 85,
   "metadata": {
    "scrolled": true
   },
   "outputs": [
    {
     "data": {
      "text/plain": [
       "array([False, False, False, False, False, False, False, False, False,\n",
       "       False, False, False, False, False, False, False, False, False,\n",
       "       False, False, False, False, False, False, False, False, False,\n",
       "       False, False, False, False, False, False, False, False, False,\n",
       "       False, False, False, False, False, False, False, False, False,\n",
       "       False, False, False, False, False, False, False, False, False,\n",
       "       False, False, False, False, False, False, False, False, False,\n",
       "       False, False, False, False, False, False, False, False, False,\n",
       "       False, False, False, False, False, False, False, False, False,\n",
       "       False, False, False, False, False, False, False, False, False,\n",
       "       False, False, False, False, False, False, False, False, False,\n",
       "       False, False, False, False, False, False, False, False, False,\n",
       "       False, False, False, False, False, False, False, False, False,\n",
       "       False, False, False, False, False, False, False,  True, False,\n",
       "       False, False, False, False, False, False])"
      ]
     },
     "execution_count": 85,
     "metadata": {},
     "output_type": "execute_result"
    }
   ],
   "source": [
    "df.index=='TSX:RNW'"
   ]
  },
  {
   "cell_type": "code",
   "execution_count": 84,
   "metadata": {},
   "outputs": [
    {
     "data": {
      "text/plain": [
       "Index(['NYSE:AEM', 'TSX:AC', 'TSX:AGI', 'TSX:AQN', 'TSX:ATD.B', 'TSX:AP.UN',\n",
       "       'TSX:ALA', 'TSX:ACO.X', 'TSX:ACB', 'TSX:BTO',\n",
       "       ...\n",
       "       'TSX:TIH', 'TSX:TOU', 'TSX:RNW', 'TSX:VET', 'NYSE:WCN', 'TSX:WFT',\n",
       "       'TSX:WJA', 'TSX:WPM', 'TSX:WSP', 'TSX:YRI'],\n",
       "      dtype='object', name='Ticker', length=132)"
      ]
     },
     "execution_count": 84,
     "metadata": {},
     "output_type": "execute_result"
    }
   ],
   "source": [
    "df.index"
   ]
  },
  {
   "cell_type": "code",
   "execution_count": 76,
   "metadata": {},
   "outputs": [
    {
     "data": {
      "text/plain": [
       "3477.0"
      ]
     },
     "execution_count": 76,
     "metadata": {},
     "output_type": "execute_result"
    }
   ],
   "source": [
    "df.loc['TSX:RNW'].iloc[1]"
   ]
  },
  {
   "cell_type": "code",
   "execution_count": 79,
   "metadata": {},
   "outputs": [
    {
     "name": "stdout",
     "output_type": "stream",
     "text": [
      "                                                  Name   TotalAssets  \\\n",
      "Ticker                                                                 \n",
      "NYSE:AEM         Agnico Eagle Mines Limited (NYSE:AEM)  10715.500000   \n",
      "TSX:AC                             Air Canada (TSX:AC)  19197.000000   \n",
      "TSX:AGI                     Alamos Gold Inc. (TSX:AGI)   4455.500000   \n",
      "TSX:AQN    Algonquin Power & Utilities Corp. (TSX:AQN)  12811.599609   \n",
      "TSX:ATD.B    Alimentation Couche-Tard Inc. (TSX:ATD.B)  30426.300781   \n",
      "\n",
      "           TotalRevenue  GeographicSegments     PrimarySector  AverageRevenue  \n",
      "Ticker                                                                         \n",
      "NYSE:AEM    2990.000000                 5.0         Materials      598.000000  \n",
      "TSX:AC     18065.000000                 5.0       Industrials     3613.000000  \n",
      "TSX:AGI      889.400024                 4.0         Materials      222.350006  \n",
      "TSX:AQN     2247.899902                 2.0         Utilities     1123.949951  \n",
      "TSX:ATD.B  79562.796875                 3.0  Consumer Staples    26520.932292  \n"
     ]
    }
   ],
   "source": [
    "# Create a new column that gives the average revenue per geographic segment (Revenue/Segment)\n",
    "\n",
    "df['AverageRevenue'] = df.TotalRevenue/df.GeographicSegments\n",
    "\n",
    "print(df.head())\n"
   ]
  },
  {
   "cell_type": "code",
   "execution_count": 81,
   "metadata": {},
   "outputs": [
    {
     "name": "stdout",
     "output_type": "stream",
     "text": [
      "2990.0\n",
      "<class 'float'>\n",
      "18065.0\n",
      "<class 'float'>\n",
      "889.4000244140625\n",
      "<class 'float'>\n",
      "2247.89990234375\n",
      "<class 'float'>\n",
      "79562.796875\n",
      "<class 'float'>\n",
      "436.3999938964844\n",
      "<class 'float'>\n",
      "4256.7001953125\n",
      "<class 'float'>\n",
      "4888.0\n",
      "<class 'float'>\n",
      "55.20000076293945\n",
      "<class 'float'>\n",
      "1671.5999755859375\n",
      "<class 'float'>\n",
      "22375.0\n",
      "<class 'float'>\n",
      "9883.400390625\n",
      "<class 'float'>\n",
      "11434.7998046875\n",
      "<class 'float'>\n",
      "23468.0\n",
      "<class 'float'>\n",
      "1190.300048828125\n",
      "<class 'float'>\n",
      "22154.69921875\n",
      "<class 'float'>\n",
      "1864.5999755859375\n",
      "<class 'float'>\n",
      "79975.703125\n",
      "<class 'float'>\n",
      "50717.19921875\n",
      "<class 'float'>\n",
      "6347.7998046875\n",
      "<class 'float'>\n",
      "11170.099609375\n",
      "<class 'float'>\n",
      "4069.10009765625\n",
      "<class 'float'>\n",
      "5243.7998046875\n",
      "<class 'float'>\n",
      "3304.10009765625\n",
      "<class 'float'>\n",
      "2091.699951171875\n",
      "<class 'float'>\n",
      "830.5\n",
      "<class 'float'>\n",
      "688.5999755859375\n",
      "<class 'float'>\n",
      "16964.0\n",
      "<class 'float'>\n",
      "14321.0\n",
      "<class 'float'>\n",
      "21027.0\n",
      "<class 'float'>\n",
      "7316.0\n",
      "<class 'float'>\n",
      "13031.5\n",
      "<class 'float'>\n",
      "4377.0\n",
      "<class 'float'>\n",
      "226.3000030517578\n",
      "<class 'float'>\n",
      "1249.0\n",
      "<class 'float'>\n",
      "5161.5\n",
      "<class 'float'>\n",
      "20844.0\n",
      "<class 'float'>\n",
      "11506.7998046875\n",
      "<class 'float'>\n",
      "868.0999755859375\n",
      "<class 'float'>\n",
      "1173.300048828125\n",
      "<class 'float'>\n",
      "2236.39990234375\n",
      "<class 'float'>\n",
      "2423.5\n",
      "<class 'float'>\n",
      "3855.39990234375\n",
      "<class 'float'>\n",
      "4175.60009765625\n",
      "<class 'float'>\n",
      "15.699999809265137\n",
      "<class 'float'>\n",
      "1058.9000244140625\n",
      "<class 'float'>\n",
      "3548.5\n",
      "<class 'float'>\n",
      "822.5\n",
      "<class 'float'>\n",
      "6524.0\n",
      "<class 'float'>\n",
      "25249.30078125\n",
      "<class 'float'>\n",
      "46378.0\n",
      "<class 'float'>\n",
      "7446.2998046875\n",
      "<class 'float'>\n",
      "24231.099609375\n",
      "<class 'float'>\n",
      "6996.0\n",
      "<class 'float'>\n",
      "784.4000244140625\n",
      "<class 'float'>\n",
      "5411.7998046875\n",
      "<class 'float'>\n",
      "2635.60009765625\n",
      "<class 'float'>\n",
      "8390.0\n",
      "<class 'float'>\n",
      "888.2000122070312\n",
      "<class 'float'>\n",
      "870.5999755859375\n",
      "<class 'float'>\n",
      "48568.0\n",
      "<class 'float'>\n",
      "6846.60009765625\n",
      "<class 'float'>\n",
      "3964.0\n",
      "<class 'float'>\n",
      "246.5\n",
      "<class 'float'>\n",
      "44036.0\n",
      "<class 'float'>\n",
      "1083.199951171875\n",
      "<class 'float'>\n",
      "22252.0\n",
      "<class 'float'>\n",
      "6150.0\n",
      "<class 'float'>\n",
      "9912.0\n",
      "<class 'float'>\n",
      "3414.300048828125\n",
      "<class 'float'>\n",
      "33297.0\n",
      "<class 'float'>\n",
      "10590.0\n",
      "<class 'float'>\n",
      "2592.89990234375\n",
      "<class 'float'>\n",
      "4465.2001953125\n",
      "<class 'float'>\n",
      "4383.7001953125\n",
      "<class 'float'>\n",
      "1249.800048828125\n",
      "<class 'float'>\n",
      "46693.0\n",
      "<class 'float'>\n",
      "2354.60009765625\n",
      "<class 'float'>\n",
      "55710.1015625\n",
      "<class 'float'>\n",
      "37428.0\n",
      "<class 'float'>\n",
      "3495.5\n",
      "<class 'float'>\n",
      "5365.2001953125\n",
      "<class 'float'>\n",
      "14383.400390625\n",
      "<class 'float'>\n",
      "6839.0\n",
      "<class 'float'>\n",
      "1555.5999755859375\n",
      "<class 'float'>\n",
      "25615.099609375\n",
      "<class 'float'>\n",
      "32455.599609375\n",
      "<class 'float'>\n",
      "3752.5\n",
      "<class 'float'>\n",
      "1070.5\n",
      "<class 'float'>\n",
      "1136.5999755859375\n",
      "<class 'float'>\n",
      "14442.0\n",
      "<class 'float'>\n",
      "7351.0\n",
      "<class 'float'>\n",
      "48102.0\n",
      "<class 'float'>\n",
      "47029.0\n",
      "<class 'float'>\n",
      "249.39999389648438\n",
      "<class 'float'>\n",
      "3025.800048828125\n",
      "<class 'float'>\n",
      "4181.0\n",
      "<class 'float'>\n",
      "7309.7998046875\n",
      "<class 'float'>\n",
      "1190.800048828125\n",
      "<class 'float'>\n",
      "1596.5\n",
      "<class 'float'>\n",
      "15096.0\n",
      "<class 'float'>\n",
      "41269.0\n",
      "<class 'float'>\n",
      "13501.900390625\n",
      "<class 'float'>\n",
      "5239.0\n",
      "<class 'float'>\n",
      "1464.5\n",
      "<class 'float'>\n",
      "811.0999755859375\n",
      "<class 'float'>\n",
      "10084.0\n",
      "<class 'float'>\n",
      "2226.300048828125\n",
      "<class 'float'>\n",
      "3355.199951171875\n",
      "<class 'float'>\n",
      "2123.89990234375\n",
      "<class 'float'>\n",
      "26997.0\n",
      "<class 'float'>\n",
      "38542.0\n",
      "<class 'float'>\n",
      "13679.0\n",
      "<class 'float'>\n",
      "12564.0\n",
      "<class 'float'>\n",
      "14095.0\n",
      "<class 'float'>\n",
      "5123.2001953125\n",
      "<class 'float'>\n",
      "26164.0\n",
      "<class 'float'>\n",
      "361.70001220703125\n",
      "<class 'float'>\n",
      "2769.0\n",
      "<class 'float'>\n",
      "36354.0\n",
      "<class 'float'>\n",
      "7506.2998046875\n",
      "<class 'float'>\n",
      "1014.7999877929688\n",
      "<class 'float'>\n",
      "3504.199951171875\n",
      "<class 'float'>\n",
      "1688.0\n",
      "<class 'float'>\n",
      "446.0\n",
      "<class 'float'>\n",
      "1526.0\n",
      "<class 'float'>\n",
      "6717.5\n",
      "<class 'float'>\n",
      "6118.0\n",
      "<class 'float'>\n",
      "4728.39990234375\n",
      "<class 'float'>\n",
      "1083.5\n",
      "<class 'float'>\n",
      "7908.10009765625\n",
      "<class 'float'>\n",
      "2454.10009765625\n",
      "<class 'float'>\n"
     ]
    }
   ],
   "source": [
    "for element in df.TotalRevenue:\n",
    "    print(element)\n",
    "    print(type(element))"
   ]
  },
  {
   "cell_type": "code",
   "execution_count": 82,
   "metadata": {},
   "outputs": [
    {
     "data": {
      "text/html": [
       "<div>\n",
       "<style scoped>\n",
       "    .dataframe tbody tr th:only-of-type {\n",
       "        vertical-align: middle;\n",
       "    }\n",
       "\n",
       "    .dataframe tbody tr th {\n",
       "        vertical-align: top;\n",
       "    }\n",
       "\n",
       "    .dataframe thead th {\n",
       "        text-align: right;\n",
       "    }\n",
       "</style>\n",
       "<table border=\"1\" class=\"dataframe\">\n",
       "  <thead>\n",
       "    <tr style=\"text-align: right;\">\n",
       "      <th></th>\n",
       "      <th>Name</th>\n",
       "      <th>TotalAssets</th>\n",
       "      <th>TotalRevenue</th>\n",
       "      <th>GeographicSegments</th>\n",
       "      <th>PrimarySector</th>\n",
       "      <th>AverageRevenue</th>\n",
       "    </tr>\n",
       "    <tr>\n",
       "      <th>Ticker</th>\n",
       "      <th></th>\n",
       "      <th></th>\n",
       "      <th></th>\n",
       "      <th></th>\n",
       "      <th></th>\n",
       "      <th></th>\n",
       "    </tr>\n",
       "  </thead>\n",
       "  <tbody>\n",
       "    <tr>\n",
       "      <th>TSX:AC</th>\n",
       "      <td>Air Canada (TSX:AC)</td>\n",
       "      <td>1.919700e+04</td>\n",
       "      <td>18065.000000</td>\n",
       "      <td>5.0</td>\n",
       "      <td>Industrials</td>\n",
       "      <td>3613.000000</td>\n",
       "    </tr>\n",
       "    <tr>\n",
       "      <th>TSX:ATD.B</th>\n",
       "      <td>Alimentation Couche-Tard Inc. (TSX:ATD.B)</td>\n",
       "      <td>3.042630e+04</td>\n",
       "      <td>79562.796875</td>\n",
       "      <td>3.0</td>\n",
       "      <td>Consumer Staples</td>\n",
       "      <td>26520.932292</td>\n",
       "    </tr>\n",
       "    <tr>\n",
       "      <th>TSX:BMO</th>\n",
       "      <td>Bank of Montreal (TSX:BMO)</td>\n",
       "      <td>7.740480e+05</td>\n",
       "      <td>22375.000000</td>\n",
       "      <td>3.0</td>\n",
       "      <td>Financials</td>\n",
       "      <td>7458.333333</td>\n",
       "    </tr>\n",
       "    <tr>\n",
       "      <th>NYSE:BHC</th>\n",
       "      <td>Bausch Health Companies Inc. (NYSE:BHC)</td>\n",
       "      <td>4.433660e+04</td>\n",
       "      <td>11434.799805</td>\n",
       "      <td>17.0</td>\n",
       "      <td>Health Care</td>\n",
       "      <td>672.635283</td>\n",
       "    </tr>\n",
       "    <tr>\n",
       "      <th>TSX:BCE</th>\n",
       "      <td>BCE Inc. (TSX:BCE)</td>\n",
       "      <td>5.710000e+04</td>\n",
       "      <td>23468.000000</td>\n",
       "      <td>1.0</td>\n",
       "      <td>Communication Services</td>\n",
       "      <td>23468.000000</td>\n",
       "    </tr>\n",
       "    <tr>\n",
       "      <th>TSX:BBD.B</th>\n",
       "      <td>Bombardier Inc. (TSX:BBD.B)</td>\n",
       "      <td>3.405620e+04</td>\n",
       "      <td>22154.699219</td>\n",
       "      <td>13.0</td>\n",
       "      <td>Industrials</td>\n",
       "      <td>1704.207632</td>\n",
       "    </tr>\n",
       "    <tr>\n",
       "      <th>TSX:BAM.A</th>\n",
       "      <td>Brookfield Asset Management Inc. (TSX:BAM.A)</td>\n",
       "      <td>3.497057e+05</td>\n",
       "      <td>79975.703125</td>\n",
       "      <td>9.0</td>\n",
       "      <td>Financials</td>\n",
       "      <td>8886.189236</td>\n",
       "    </tr>\n",
       "    <tr>\n",
       "      <th>NYSE:BBU</th>\n",
       "      <td>Brookfield Business Partners L.P. (NYSE:BBU)</td>\n",
       "      <td>3.727650e+04</td>\n",
       "      <td>50717.199219</td>\n",
       "      <td>8.0</td>\n",
       "      <td>Industrials</td>\n",
       "      <td>6339.649902</td>\n",
       "    </tr>\n",
       "    <tr>\n",
       "      <th>NasdaqGS:BPY</th>\n",
       "      <td>Brookfield Property Partners L.P. (NasdaqGS:BPY)</td>\n",
       "      <td>1.671834e+05</td>\n",
       "      <td>11170.099609</td>\n",
       "      <td>9.0</td>\n",
       "      <td>Real Estate</td>\n",
       "      <td>1241.122179</td>\n",
       "    </tr>\n",
       "    <tr>\n",
       "      <th>TSX:CM</th>\n",
       "      <td>Canadian Imperial Bank of Commerce (TSX:CM)</td>\n",
       "      <td>5.970990e+05</td>\n",
       "      <td>16964.000000</td>\n",
       "      <td>4.0</td>\n",
       "      <td>Financials</td>\n",
       "      <td>4241.000000</td>\n",
       "    </tr>\n",
       "    <tr>\n",
       "      <th>TSX:CNR</th>\n",
       "      <td>Canadian National Railway Company (TSX:CNR)</td>\n",
       "      <td>4.121400e+04</td>\n",
       "      <td>14321.000000</td>\n",
       "      <td>2.0</td>\n",
       "      <td>Industrials</td>\n",
       "      <td>7160.500000</td>\n",
       "    </tr>\n",
       "    <tr>\n",
       "      <th>TSX:CNQ</th>\n",
       "      <td>Canadian Natural Resources Limited (TSX:CNQ)</td>\n",
       "      <td>7.155900e+04</td>\n",
       "      <td>21027.000000</td>\n",
       "      <td>NaN</td>\n",
       "      <td>Energy</td>\n",
       "      <td>NaN</td>\n",
       "    </tr>\n",
       "    <tr>\n",
       "      <th>TSX:CTC.A</th>\n",
       "      <td>Canadian Tire Corporation, Limited (TSX:CTC.A)</td>\n",
       "      <td>1.728680e+04</td>\n",
       "      <td>13031.500000</td>\n",
       "      <td>2.0</td>\n",
       "      <td>Consumer Discretionary</td>\n",
       "      <td>6515.750000</td>\n",
       "    </tr>\n",
       "    <tr>\n",
       "      <th>TSX:CVE</th>\n",
       "      <td>Cenovus Energy Inc. (TSX:CVE)</td>\n",
       "      <td>3.517400e+04</td>\n",
       "      <td>20844.000000</td>\n",
       "      <td>2.0</td>\n",
       "      <td>Energy</td>\n",
       "      <td>10422.000000</td>\n",
       "    </tr>\n",
       "    <tr>\n",
       "      <th>TSX:GIB.A</th>\n",
       "      <td>CGI Inc. (TSX:GIB.A)</td>\n",
       "      <td>1.191910e+04</td>\n",
       "      <td>11506.799805</td>\n",
       "      <td>12.0</td>\n",
       "      <td>Information Technology</td>\n",
       "      <td>958.899984</td>\n",
       "    </tr>\n",
       "    <tr>\n",
       "      <th>TSX:EMP.A</th>\n",
       "      <td>Empire Company Limited (TSX:EMP.A)</td>\n",
       "      <td>9.602400e+03</td>\n",
       "      <td>25249.300781</td>\n",
       "      <td>NaN</td>\n",
       "      <td>Consumer Staples</td>\n",
       "      <td>NaN</td>\n",
       "    </tr>\n",
       "    <tr>\n",
       "      <th>TSX:ENB</th>\n",
       "      <td>Enbridge Inc. (TSX:ENB)</td>\n",
       "      <td>1.669050e+05</td>\n",
       "      <td>46378.000000</td>\n",
       "      <td>2.0</td>\n",
       "      <td>Energy</td>\n",
       "      <td>23189.000000</td>\n",
       "    </tr>\n",
       "    <tr>\n",
       "      <th>TSX:FFH</th>\n",
       "      <td>Fairfax Financial Holdings Limited (TSX:FFH)</td>\n",
       "      <td>8.783830e+04</td>\n",
       "      <td>24231.099609</td>\n",
       "      <td>8.0</td>\n",
       "      <td>Financials</td>\n",
       "      <td>3028.887451</td>\n",
       "    </tr>\n",
       "    <tr>\n",
       "      <th>TSX:WN</th>\n",
       "      <td>George Weston Limited (TSX:WN)</td>\n",
       "      <td>4.381400e+04</td>\n",
       "      <td>48568.000000</td>\n",
       "      <td>2.0</td>\n",
       "      <td>Consumer Staples</td>\n",
       "      <td>24284.000000</td>\n",
       "    </tr>\n",
       "    <tr>\n",
       "      <th>TSX:GWO</th>\n",
       "      <td>Great-West Lifeco Inc. (TSX:GWO)</td>\n",
       "      <td>4.276890e+05</td>\n",
       "      <td>44036.000000</td>\n",
       "      <td>4.0</td>\n",
       "      <td>Financials</td>\n",
       "      <td>11009.000000</td>\n",
       "    </tr>\n",
       "    <tr>\n",
       "      <th>TSX:HSE</th>\n",
       "      <td>Husky Energy Inc. (TSX:HSE)</td>\n",
       "      <td>3.522500e+04</td>\n",
       "      <td>22252.000000</td>\n",
       "      <td>8.0</td>\n",
       "      <td>Energy</td>\n",
       "      <td>2781.500000</td>\n",
       "    </tr>\n",
       "    <tr>\n",
       "      <th>TSX:IMO</th>\n",
       "      <td>Imperial Oil Limited (TSX:IMO)</td>\n",
       "      <td>4.145600e+04</td>\n",
       "      <td>33297.000000</td>\n",
       "      <td>2.0</td>\n",
       "      <td>Energy</td>\n",
       "      <td>16648.500000</td>\n",
       "    </tr>\n",
       "    <tr>\n",
       "      <th>TSX:IFC</th>\n",
       "      <td>Intact Financial Corporation (TSX:IFC)</td>\n",
       "      <td>2.846100e+04</td>\n",
       "      <td>10590.000000</td>\n",
       "      <td>2.0</td>\n",
       "      <td>Financials</td>\n",
       "      <td>5295.000000</td>\n",
       "    </tr>\n",
       "    <tr>\n",
       "      <th>TSX:L</th>\n",
       "      <td>Loblaw Companies Limited (TSX:L)</td>\n",
       "      <td>3.015300e+04</td>\n",
       "      <td>46693.000000</td>\n",
       "      <td>1.0</td>\n",
       "      <td>Consumer Staples</td>\n",
       "      <td>46693.000000</td>\n",
       "    </tr>\n",
       "    <tr>\n",
       "      <th>TSX:MG</th>\n",
       "      <td>Magna International Inc. (TSX:MG)</td>\n",
       "      <td>3.540300e+04</td>\n",
       "      <td>55710.101562</td>\n",
       "      <td>20.0</td>\n",
       "      <td>Consumer Discretionary</td>\n",
       "      <td>2785.505078</td>\n",
       "    </tr>\n",
       "    <tr>\n",
       "      <th>TSX:MFC</th>\n",
       "      <td>Manulife Financial Corporation (TSX:MFC)</td>\n",
       "      <td>7.502710e+05</td>\n",
       "      <td>37428.000000</td>\n",
       "      <td>4.0</td>\n",
       "      <td>Financials</td>\n",
       "      <td>9357.000000</td>\n",
       "    </tr>\n",
       "    <tr>\n",
       "      <th>TSX:MRU</th>\n",
       "      <td>Metro Inc. (TSX:MRU)</td>\n",
       "      <td>1.092220e+04</td>\n",
       "      <td>14383.400391</td>\n",
       "      <td>1.0</td>\n",
       "      <td>Consumer Staples</td>\n",
       "      <td>14383.400391</td>\n",
       "    </tr>\n",
       "    <tr>\n",
       "      <th>TSX:NTR</th>\n",
       "      <td>Nutrien Ltd. (TSX:NTR)</td>\n",
       "      <td>6.208930e+04</td>\n",
       "      <td>25615.099609</td>\n",
       "      <td>5.0</td>\n",
       "      <td>Materials</td>\n",
       "      <td>5123.019922</td>\n",
       "    </tr>\n",
       "    <tr>\n",
       "      <th>TSX:ONEX</th>\n",
       "      <td>Onex Corporation (TSX:ONEX)</td>\n",
       "      <td>6.197330e+04</td>\n",
       "      <td>32455.599609</td>\n",
       "      <td>5.0</td>\n",
       "      <td>Financials</td>\n",
       "      <td>6491.119922</td>\n",
       "    </tr>\n",
       "    <tr>\n",
       "      <th>TSX:PKI</th>\n",
       "      <td>Parkland Fuel Corporation (TSX:PKI)</td>\n",
       "      <td>5.661000e+03</td>\n",
       "      <td>14442.000000</td>\n",
       "      <td>2.0</td>\n",
       "      <td>Energy</td>\n",
       "      <td>7221.000000</td>\n",
       "    </tr>\n",
       "    <tr>\n",
       "      <th>TSX:POW</th>\n",
       "      <td>Power Corporation of Canada (TSX:POW)</td>\n",
       "      <td>4.523030e+05</td>\n",
       "      <td>48102.000000</td>\n",
       "      <td>4.0</td>\n",
       "      <td>Financials</td>\n",
       "      <td>12025.500000</td>\n",
       "    </tr>\n",
       "    <tr>\n",
       "      <th>TSX:PWF</th>\n",
       "      <td>Power Financial Corporation (TSX:PWF)</td>\n",
       "      <td>4.470550e+05</td>\n",
       "      <td>47029.000000</td>\n",
       "      <td>4.0</td>\n",
       "      <td>Financials</td>\n",
       "      <td>11757.250000</td>\n",
       "    </tr>\n",
       "    <tr>\n",
       "      <th>TSX:RCI.B</th>\n",
       "      <td>Rogers Communications Inc. (TSX:RCI.B)</td>\n",
       "      <td>3.191800e+04</td>\n",
       "      <td>15096.000000</td>\n",
       "      <td>1.0</td>\n",
       "      <td>Communication Services</td>\n",
       "      <td>15096.000000</td>\n",
       "    </tr>\n",
       "    <tr>\n",
       "      <th>TSX:RY</th>\n",
       "      <td>Royal Bank of Canada (TSX:RY)</td>\n",
       "      <td>1.334734e+06</td>\n",
       "      <td>41269.000000</td>\n",
       "      <td>3.0</td>\n",
       "      <td>Financials</td>\n",
       "      <td>13756.333333</td>\n",
       "    </tr>\n",
       "    <tr>\n",
       "      <th>TSX:SAP</th>\n",
       "      <td>Saputo Inc. (TSX:SAP)</td>\n",
       "      <td>9.885600e+03</td>\n",
       "      <td>13501.900391</td>\n",
       "      <td>5.0</td>\n",
       "      <td>Consumer Staples</td>\n",
       "      <td>2700.380078</td>\n",
       "    </tr>\n",
       "    <tr>\n",
       "      <th>TSX:SNC</th>\n",
       "      <td>SNC-Lavalin Group Inc. (TSX:SNC)</td>\n",
       "      <td>1.293970e+04</td>\n",
       "      <td>10084.000000</td>\n",
       "      <td>11.0</td>\n",
       "      <td>Industrials</td>\n",
       "      <td>916.727273</td>\n",
       "    </tr>\n",
       "    <tr>\n",
       "      <th>TSX:SLF</th>\n",
       "      <td>Sun Life Financial Inc. (TSX:SLF)</td>\n",
       "      <td>2.718270e+05</td>\n",
       "      <td>26997.000000</td>\n",
       "      <td>NaN</td>\n",
       "      <td>Financials</td>\n",
       "      <td>NaN</td>\n",
       "    </tr>\n",
       "    <tr>\n",
       "      <th>TSX:SU</th>\n",
       "      <td>Suncor Energy Inc. (TSX:SU)</td>\n",
       "      <td>8.957900e+04</td>\n",
       "      <td>38542.000000</td>\n",
       "      <td>3.0</td>\n",
       "      <td>Energy</td>\n",
       "      <td>12847.333333</td>\n",
       "    </tr>\n",
       "    <tr>\n",
       "      <th>TSX:TRP</th>\n",
       "      <td>TC Energy Corporation (TSX:TRP)</td>\n",
       "      <td>9.892000e+04</td>\n",
       "      <td>13679.000000</td>\n",
       "      <td>3.0</td>\n",
       "      <td>Energy</td>\n",
       "      <td>4559.666667</td>\n",
       "    </tr>\n",
       "    <tr>\n",
       "      <th>TSX:TECK.B</th>\n",
       "      <td>Teck Resources Limited (TSX:TECK.B)</td>\n",
       "      <td>3.962600e+04</td>\n",
       "      <td>12564.000000</td>\n",
       "      <td>15.0</td>\n",
       "      <td>Materials</td>\n",
       "      <td>837.600000</td>\n",
       "    </tr>\n",
       "    <tr>\n",
       "      <th>TSX:T</th>\n",
       "      <td>TELUS Corporation (TSX:T)</td>\n",
       "      <td>3.306500e+04</td>\n",
       "      <td>14095.000000</td>\n",
       "      <td>1.0</td>\n",
       "      <td>Communication Services</td>\n",
       "      <td>14095.000000</td>\n",
       "    </tr>\n",
       "    <tr>\n",
       "      <th>TSX:BNS</th>\n",
       "      <td>The Bank of Nova Scotia (TSX:BNS)</td>\n",
       "      <td>9.984930e+05</td>\n",
       "      <td>26164.000000</td>\n",
       "      <td>8.0</td>\n",
       "      <td>Financials</td>\n",
       "      <td>3270.500000</td>\n",
       "    </tr>\n",
       "    <tr>\n",
       "      <th>TSX:TD</th>\n",
       "      <td>The Toronto-Dominion Bank (TSX:TD)</td>\n",
       "      <td>1.334903e+06</td>\n",
       "      <td>36354.000000</td>\n",
       "      <td>3.0</td>\n",
       "      <td>Financials</td>\n",
       "      <td>12118.000000</td>\n",
       "    </tr>\n",
       "  </tbody>\n",
       "</table>\n",
       "</div>"
      ],
      "text/plain": [
       "                                                          Name   TotalAssets  \\\n",
       "Ticker                                                                         \n",
       "TSX:AC                                     Air Canada (TSX:AC)  1.919700e+04   \n",
       "TSX:ATD.B            Alimentation Couche-Tard Inc. (TSX:ATD.B)  3.042630e+04   \n",
       "TSX:BMO                             Bank of Montreal (TSX:BMO)  7.740480e+05   \n",
       "NYSE:BHC               Bausch Health Companies Inc. (NYSE:BHC)  4.433660e+04   \n",
       "TSX:BCE                                     BCE Inc. (TSX:BCE)  5.710000e+04   \n",
       "TSX:BBD.B                          Bombardier Inc. (TSX:BBD.B)  3.405620e+04   \n",
       "TSX:BAM.A         Brookfield Asset Management Inc. (TSX:BAM.A)  3.497057e+05   \n",
       "NYSE:BBU          Brookfield Business Partners L.P. (NYSE:BBU)  3.727650e+04   \n",
       "NasdaqGS:BPY  Brookfield Property Partners L.P. (NasdaqGS:BPY)  1.671834e+05   \n",
       "TSX:CM             Canadian Imperial Bank of Commerce (TSX:CM)  5.970990e+05   \n",
       "TSX:CNR            Canadian National Railway Company (TSX:CNR)  4.121400e+04   \n",
       "TSX:CNQ           Canadian Natural Resources Limited (TSX:CNQ)  7.155900e+04   \n",
       "TSX:CTC.A       Canadian Tire Corporation, Limited (TSX:CTC.A)  1.728680e+04   \n",
       "TSX:CVE                          Cenovus Energy Inc. (TSX:CVE)  3.517400e+04   \n",
       "TSX:GIB.A                                 CGI Inc. (TSX:GIB.A)  1.191910e+04   \n",
       "TSX:EMP.A                   Empire Company Limited (TSX:EMP.A)  9.602400e+03   \n",
       "TSX:ENB                                Enbridge Inc. (TSX:ENB)  1.669050e+05   \n",
       "TSX:FFH           Fairfax Financial Holdings Limited (TSX:FFH)  8.783830e+04   \n",
       "TSX:WN                          George Weston Limited (TSX:WN)  4.381400e+04   \n",
       "TSX:GWO                       Great-West Lifeco Inc. (TSX:GWO)  4.276890e+05   \n",
       "TSX:HSE                            Husky Energy Inc. (TSX:HSE)  3.522500e+04   \n",
       "TSX:IMO                         Imperial Oil Limited (TSX:IMO)  4.145600e+04   \n",
       "TSX:IFC                 Intact Financial Corporation (TSX:IFC)  2.846100e+04   \n",
       "TSX:L                         Loblaw Companies Limited (TSX:L)  3.015300e+04   \n",
       "TSX:MG                       Magna International Inc. (TSX:MG)  3.540300e+04   \n",
       "TSX:MFC               Manulife Financial Corporation (TSX:MFC)  7.502710e+05   \n",
       "TSX:MRU                                   Metro Inc. (TSX:MRU)  1.092220e+04   \n",
       "TSX:NTR                                 Nutrien Ltd. (TSX:NTR)  6.208930e+04   \n",
       "TSX:ONEX                           Onex Corporation (TSX:ONEX)  6.197330e+04   \n",
       "TSX:PKI                    Parkland Fuel Corporation (TSX:PKI)  5.661000e+03   \n",
       "TSX:POW                  Power Corporation of Canada (TSX:POW)  4.523030e+05   \n",
       "TSX:PWF                  Power Financial Corporation (TSX:PWF)  4.470550e+05   \n",
       "TSX:RCI.B               Rogers Communications Inc. (TSX:RCI.B)  3.191800e+04   \n",
       "TSX:RY                           Royal Bank of Canada (TSX:RY)  1.334734e+06   \n",
       "TSX:SAP                                  Saputo Inc. (TSX:SAP)  9.885600e+03   \n",
       "TSX:SNC                       SNC-Lavalin Group Inc. (TSX:SNC)  1.293970e+04   \n",
       "TSX:SLF                      Sun Life Financial Inc. (TSX:SLF)  2.718270e+05   \n",
       "TSX:SU                             Suncor Energy Inc. (TSX:SU)  8.957900e+04   \n",
       "TSX:TRP                        TC Energy Corporation (TSX:TRP)  9.892000e+04   \n",
       "TSX:TECK.B                 Teck Resources Limited (TSX:TECK.B)  3.962600e+04   \n",
       "TSX:T                                TELUS Corporation (TSX:T)  3.306500e+04   \n",
       "TSX:BNS                      The Bank of Nova Scotia (TSX:BNS)  9.984930e+05   \n",
       "TSX:TD                      The Toronto-Dominion Bank (TSX:TD)  1.334903e+06   \n",
       "\n",
       "              TotalRevenue  GeographicSegments           PrimarySector  \\\n",
       "Ticker                                                                   \n",
       "TSX:AC        18065.000000                 5.0             Industrials   \n",
       "TSX:ATD.B     79562.796875                 3.0        Consumer Staples   \n",
       "TSX:BMO       22375.000000                 3.0              Financials   \n",
       "NYSE:BHC      11434.799805                17.0             Health Care   \n",
       "TSX:BCE       23468.000000                 1.0  Communication Services   \n",
       "TSX:BBD.B     22154.699219                13.0             Industrials   \n",
       "TSX:BAM.A     79975.703125                 9.0              Financials   \n",
       "NYSE:BBU      50717.199219                 8.0             Industrials   \n",
       "NasdaqGS:BPY  11170.099609                 9.0             Real Estate   \n",
       "TSX:CM        16964.000000                 4.0              Financials   \n",
       "TSX:CNR       14321.000000                 2.0             Industrials   \n",
       "TSX:CNQ       21027.000000                 NaN                  Energy   \n",
       "TSX:CTC.A     13031.500000                 2.0  Consumer Discretionary   \n",
       "TSX:CVE       20844.000000                 2.0                  Energy   \n",
       "TSX:GIB.A     11506.799805                12.0  Information Technology   \n",
       "TSX:EMP.A     25249.300781                 NaN        Consumer Staples   \n",
       "TSX:ENB       46378.000000                 2.0                  Energy   \n",
       "TSX:FFH       24231.099609                 8.0              Financials   \n",
       "TSX:WN        48568.000000                 2.0        Consumer Staples   \n",
       "TSX:GWO       44036.000000                 4.0              Financials   \n",
       "TSX:HSE       22252.000000                 8.0                  Energy   \n",
       "TSX:IMO       33297.000000                 2.0                  Energy   \n",
       "TSX:IFC       10590.000000                 2.0              Financials   \n",
       "TSX:L         46693.000000                 1.0        Consumer Staples   \n",
       "TSX:MG        55710.101562                20.0  Consumer Discretionary   \n",
       "TSX:MFC       37428.000000                 4.0              Financials   \n",
       "TSX:MRU       14383.400391                 1.0        Consumer Staples   \n",
       "TSX:NTR       25615.099609                 5.0               Materials   \n",
       "TSX:ONEX      32455.599609                 5.0              Financials   \n",
       "TSX:PKI       14442.000000                 2.0                  Energy   \n",
       "TSX:POW       48102.000000                 4.0              Financials   \n",
       "TSX:PWF       47029.000000                 4.0              Financials   \n",
       "TSX:RCI.B     15096.000000                 1.0  Communication Services   \n",
       "TSX:RY        41269.000000                 3.0              Financials   \n",
       "TSX:SAP       13501.900391                 5.0        Consumer Staples   \n",
       "TSX:SNC       10084.000000                11.0             Industrials   \n",
       "TSX:SLF       26997.000000                 NaN              Financials   \n",
       "TSX:SU        38542.000000                 3.0                  Energy   \n",
       "TSX:TRP       13679.000000                 3.0                  Energy   \n",
       "TSX:TECK.B    12564.000000                15.0               Materials   \n",
       "TSX:T         14095.000000                 1.0  Communication Services   \n",
       "TSX:BNS       26164.000000                 8.0              Financials   \n",
       "TSX:TD        36354.000000                 3.0              Financials   \n",
       "\n",
       "              AverageRevenue  \n",
       "Ticker                        \n",
       "TSX:AC           3613.000000  \n",
       "TSX:ATD.B       26520.932292  \n",
       "TSX:BMO          7458.333333  \n",
       "NYSE:BHC          672.635283  \n",
       "TSX:BCE         23468.000000  \n",
       "TSX:BBD.B        1704.207632  \n",
       "TSX:BAM.A        8886.189236  \n",
       "NYSE:BBU         6339.649902  \n",
       "NasdaqGS:BPY     1241.122179  \n",
       "TSX:CM           4241.000000  \n",
       "TSX:CNR          7160.500000  \n",
       "TSX:CNQ                  NaN  \n",
       "TSX:CTC.A        6515.750000  \n",
       "TSX:CVE         10422.000000  \n",
       "TSX:GIB.A         958.899984  \n",
       "TSX:EMP.A                NaN  \n",
       "TSX:ENB         23189.000000  \n",
       "TSX:FFH          3028.887451  \n",
       "TSX:WN          24284.000000  \n",
       "TSX:GWO         11009.000000  \n",
       "TSX:HSE          2781.500000  \n",
       "TSX:IMO         16648.500000  \n",
       "TSX:IFC          5295.000000  \n",
       "TSX:L           46693.000000  \n",
       "TSX:MG           2785.505078  \n",
       "TSX:MFC          9357.000000  \n",
       "TSX:MRU         14383.400391  \n",
       "TSX:NTR          5123.019922  \n",
       "TSX:ONEX         6491.119922  \n",
       "TSX:PKI          7221.000000  \n",
       "TSX:POW         12025.500000  \n",
       "TSX:PWF         11757.250000  \n",
       "TSX:RCI.B       15096.000000  \n",
       "TSX:RY          13756.333333  \n",
       "TSX:SAP          2700.380078  \n",
       "TSX:SNC           916.727273  \n",
       "TSX:SLF                  NaN  \n",
       "TSX:SU          12847.333333  \n",
       "TSX:TRP          4559.666667  \n",
       "TSX:TECK.B        837.600000  \n",
       "TSX:T           14095.000000  \n",
       "TSX:BNS          3270.500000  \n",
       "TSX:TD          12118.000000  "
      ]
     },
     "execution_count": 82,
     "metadata": {},
     "output_type": "execute_result"
    }
   ],
   "source": [
    "df.loc[df.TotalRevenue>10000]"
   ]
  },
  {
   "cell_type": "code",
   "execution_count": null,
   "metadata": {},
   "outputs": [],
   "source": []
  }
 ],
 "metadata": {
  "kernelspec": {
   "display_name": "Python 3",
   "language": "python",
   "name": "python3"
  },
  "language_info": {
   "codemirror_mode": {
    "name": "ipython",
    "version": 3
   },
   "file_extension": ".py",
   "mimetype": "text/x-python",
   "name": "python",
   "nbconvert_exporter": "python",
   "pygments_lexer": "ipython3",
   "version": "3.7.0"
  }
 },
 "nbformat": 4,
 "nbformat_minor": 2
}
