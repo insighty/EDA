{
 "cells": [
  {
   "cell_type": "code",
   "execution_count": 1,
   "metadata": {},
   "outputs": [],
   "source": [
    "# References:\n",
    "# User Guide - Merge, join, and concatenate: https://pandas.pydata.org/pandas-docs/stable/user_guide/merging.html\n",
    "# Data Schools top pandas tricks: https://nbviewer.jupyter.org/github/justmarkham/pandas-videos/blob/master/top_25_pandas_tricks.ipynb\n",
    "# Matplotlib basics: https://matplotlib.org/tutorials/introductory/pyplot.html#sphx-glr-tutorials-introductory-pyplot-py"
   ]
  },
  {
   "cell_type": "code",
   "execution_count": 2,
   "metadata": {},
   "outputs": [],
   "source": [
    "import pandas as pd\n",
    "import numpy as np\n",
    "import matplotlib.pyplot as plt\n",
    "#path = 'C:\\\\Users\\\\K\\\\AIDeepDiveMaterials\\\\'\n",
    "path = 'Q:\\\\My Documents\\\\TeachingMaterials\\\\'"
   ]
  },
  {
   "cell_type": "code",
   "execution_count": 3,
   "metadata": {
    "scrolled": true
   },
   "outputs": [
    {
     "name": "stdout",
     "output_type": "stream",
     "text": [
      "(132, 5)\n"
     ]
    },
    {
     "data": {
      "text/html": [
       "<div>\n",
       "<style scoped>\n",
       "    .dataframe tbody tr th:only-of-type {\n",
       "        vertical-align: middle;\n",
       "    }\n",
       "\n",
       "    .dataframe tbody tr th {\n",
       "        vertical-align: top;\n",
       "    }\n",
       "\n",
       "    .dataframe thead th {\n",
       "        text-align: right;\n",
       "    }\n",
       "</style>\n",
       "<table border=\"1\" class=\"dataframe\">\n",
       "  <thead>\n",
       "    <tr style=\"text-align: right;\">\n",
       "      <th></th>\n",
       "      <th>Name</th>\n",
       "      <th>TotalAssets</th>\n",
       "      <th>TotalRevenue</th>\n",
       "      <th>GeographicSegments</th>\n",
       "      <th>PrimarySector</th>\n",
       "    </tr>\n",
       "    <tr>\n",
       "      <th>Ticker</th>\n",
       "      <th></th>\n",
       "      <th></th>\n",
       "      <th></th>\n",
       "      <th></th>\n",
       "      <th></th>\n",
       "    </tr>\n",
       "  </thead>\n",
       "  <tbody>\n",
       "    <tr>\n",
       "      <th>NYSE:AEM</th>\n",
       "      <td>Agnico Eagle Mines Limited (NYSE:AEM)</td>\n",
       "      <td>10715.5</td>\n",
       "      <td>2990.0</td>\n",
       "      <td>5.0</td>\n",
       "      <td>Materials</td>\n",
       "    </tr>\n",
       "    <tr>\n",
       "      <th>TSX:AC</th>\n",
       "      <td>Air Canada (TSX:AC)</td>\n",
       "      <td>19197.0</td>\n",
       "      <td>18065.0</td>\n",
       "      <td>5.0</td>\n",
       "      <td>Industrials</td>\n",
       "    </tr>\n",
       "    <tr>\n",
       "      <th>TSX:AGI</th>\n",
       "      <td>Alamos Gold Inc. (TSX:AGI)</td>\n",
       "      <td>4455.5</td>\n",
       "      <td>889.4</td>\n",
       "      <td>4.0</td>\n",
       "      <td>Materials</td>\n",
       "    </tr>\n",
       "    <tr>\n",
       "      <th>TSX:AQN</th>\n",
       "      <td>Algonquin Power &amp; Utilities Corp. (TSX:AQN)</td>\n",
       "      <td>12811.6</td>\n",
       "      <td>2247.9</td>\n",
       "      <td>2.0</td>\n",
       "      <td>Utilities</td>\n",
       "    </tr>\n",
       "    <tr>\n",
       "      <th>TSX:ATD.B</th>\n",
       "      <td>Alimentation Couche-Tard Inc. (TSX:ATD.B)</td>\n",
       "      <td>30426.3</td>\n",
       "      <td>79562.8</td>\n",
       "      <td>3.0</td>\n",
       "      <td>Consumer Staples</td>\n",
       "    </tr>\n",
       "  </tbody>\n",
       "</table>\n",
       "</div>"
      ],
      "text/plain": [
       "                                                  Name  TotalAssets  \\\n",
       "Ticker                                                                \n",
       "NYSE:AEM         Agnico Eagle Mines Limited (NYSE:AEM)      10715.5   \n",
       "TSX:AC                             Air Canada (TSX:AC)      19197.0   \n",
       "TSX:AGI                     Alamos Gold Inc. (TSX:AGI)       4455.5   \n",
       "TSX:AQN    Algonquin Power & Utilities Corp. (TSX:AQN)      12811.6   \n",
       "TSX:ATD.B    Alimentation Couche-Tard Inc. (TSX:ATD.B)      30426.3   \n",
       "\n",
       "           TotalRevenue  GeographicSegments     PrimarySector  \n",
       "Ticker                                                         \n",
       "NYSE:AEM         2990.0                 5.0         Materials  \n",
       "TSX:AC          18065.0                 5.0       Industrials  \n",
       "TSX:AGI           889.4                 4.0         Materials  \n",
       "TSX:AQN          2247.9                 2.0         Utilities  \n",
       "TSX:ATD.B       79562.8                 3.0  Consumer Staples  "
      ]
     },
     "execution_count": 3,
     "metadata": {},
     "output_type": "execute_result"
    }
   ],
   "source": [
    "df1 = pd.read_csv(path+'SPTSXComposite.csv', index_col='Ticker')\n",
    "print(df1.shape)\n",
    "df1.head()"
   ]
  },
  {
   "cell_type": "code",
   "execution_count": 4,
   "metadata": {
    "scrolled": true
   },
   "outputs": [
    {
     "data": {
      "text/html": [
       "<div>\n",
       "<style scoped>\n",
       "    .dataframe tbody tr th:only-of-type {\n",
       "        vertical-align: middle;\n",
       "    }\n",
       "\n",
       "    .dataframe tbody tr th {\n",
       "        vertical-align: top;\n",
       "    }\n",
       "\n",
       "    .dataframe thead th {\n",
       "        text-align: right;\n",
       "    }\n",
       "</style>\n",
       "<table border=\"1\" class=\"dataframe\">\n",
       "  <thead>\n",
       "    <tr style=\"text-align: right;\">\n",
       "      <th></th>\n",
       "      <th>Ticker</th>\n",
       "      <th>Name</th>\n",
       "      <th>MarketCapitalization</th>\n",
       "      <th>NumberEmployees</th>\n",
       "    </tr>\n",
       "  </thead>\n",
       "  <tbody>\n",
       "    <tr>\n",
       "      <th>0</th>\n",
       "      <td>NYSE:AEM</td>\n",
       "      <td>Agnico Eagle Mines Limited (NYSE:AEM)</td>\n",
       "      <td>15892.5</td>\n",
       "      <td>5990.0</td>\n",
       "    </tr>\n",
       "    <tr>\n",
       "      <th>1</th>\n",
       "      <td>TSX:AC</td>\n",
       "      <td>Air Canada (TSX:AC)</td>\n",
       "      <td>11338.6</td>\n",
       "      <td>32600.0</td>\n",
       "    </tr>\n",
       "    <tr>\n",
       "      <th>2</th>\n",
       "      <td>TSX:AGI</td>\n",
       "      <td>Alamos Gold Inc. (TSX:AGI)</td>\n",
       "      <td>3151.9</td>\n",
       "      <td>1700.0</td>\n",
       "    </tr>\n",
       "    <tr>\n",
       "      <th>3</th>\n",
       "      <td>TSX:AQN</td>\n",
       "      <td>Algonquin Power &amp; Utilities Corp. (TSX:AQN)</td>\n",
       "      <td>8000.0</td>\n",
       "      <td>2277.0</td>\n",
       "    </tr>\n",
       "    <tr>\n",
       "      <th>4</th>\n",
       "      <td>TSX:ATD.B</td>\n",
       "      <td>Alimentation Couche-Tard Inc. (TSX:ATD.B)</td>\n",
       "      <td>47281.4</td>\n",
       "      <td>133000.0</td>\n",
       "    </tr>\n",
       "  </tbody>\n",
       "</table>\n",
       "</div>"
      ],
      "text/plain": [
       "      Ticker                                         Name  \\\n",
       "0   NYSE:AEM        Agnico Eagle Mines Limited (NYSE:AEM)   \n",
       "1     TSX:AC                          Air Canada (TSX:AC)   \n",
       "2    TSX:AGI                   Alamos Gold Inc. (TSX:AGI)   \n",
       "3    TSX:AQN  Algonquin Power & Utilities Corp. (TSX:AQN)   \n",
       "4  TSX:ATD.B    Alimentation Couche-Tard Inc. (TSX:ATD.B)   \n",
       "\n",
       "   MarketCapitalization  NumberEmployees  \n",
       "0               15892.5           5990.0  \n",
       "1               11338.6          32600.0  \n",
       "2                3151.9           1700.0  \n",
       "3                8000.0           2277.0  \n",
       "4               47281.4         133000.0  "
      ]
     },
     "execution_count": 4,
     "metadata": {},
     "output_type": "execute_result"
    }
   ],
   "source": [
    "df2 = pd.read_csv(path+'SPTSXCap_Employees.csv')\n",
    "df2.head()"
   ]
  },
  {
   "cell_type": "code",
   "execution_count": 5,
   "metadata": {},
   "outputs": [
    {
     "name": "stdout",
     "output_type": "stream",
     "text": [
      "(142, 4)\n"
     ]
    }
   ],
   "source": [
    "print(df2.shape)"
   ]
  },
  {
   "cell_type": "code",
   "execution_count": 6,
   "metadata": {},
   "outputs": [],
   "source": [
    "# Drop columns, rows, duplicates"
   ]
  },
  {
   "cell_type": "code",
   "execution_count": 7,
   "metadata": {
    "scrolled": true
   },
   "outputs": [
    {
     "data": {
      "text/plain": [
       "0    False\n",
       "1    False\n",
       "2    False\n",
       "3    False\n",
       "4    False\n",
       "dtype: bool"
      ]
     },
     "execution_count": 7,
     "metadata": {},
     "output_type": "execute_result"
    }
   ],
   "source": [
    "df2.duplicated()[:5]"
   ]
  },
  {
   "cell_type": "code",
   "execution_count": 8,
   "metadata": {
    "scrolled": true
   },
   "outputs": [
    {
     "data": {
      "text/html": [
       "<div>\n",
       "<style scoped>\n",
       "    .dataframe tbody tr th:only-of-type {\n",
       "        vertical-align: middle;\n",
       "    }\n",
       "\n",
       "    .dataframe tbody tr th {\n",
       "        vertical-align: top;\n",
       "    }\n",
       "\n",
       "    .dataframe thead th {\n",
       "        text-align: right;\n",
       "    }\n",
       "</style>\n",
       "<table border=\"1\" class=\"dataframe\">\n",
       "  <thead>\n",
       "    <tr style=\"text-align: right;\">\n",
       "      <th></th>\n",
       "      <th>Ticker</th>\n",
       "      <th>Name</th>\n",
       "      <th>MarketCapitalization</th>\n",
       "      <th>NumberEmployees</th>\n",
       "    </tr>\n",
       "  </thead>\n",
       "  <tbody>\n",
       "    <tr>\n",
       "      <th>132</th>\n",
       "      <td>TSX:ACB</td>\n",
       "      <td>Aurora Cannabis Inc. (TSX:ACB)</td>\n",
       "      <td>8958.5</td>\n",
       "      <td>967.0</td>\n",
       "    </tr>\n",
       "    <tr>\n",
       "      <th>133</th>\n",
       "      <td>TSX:BTO</td>\n",
       "      <td>B2Gold Corp. (TSX:BTO)</td>\n",
       "      <td>4105.6</td>\n",
       "      <td>3168.0</td>\n",
       "    </tr>\n",
       "    <tr>\n",
       "      <th>134</th>\n",
       "      <td>NasdaqGS:OTEX</td>\n",
       "      <td>Open Text Corporation (NasdaqGS:OTEX)</td>\n",
       "      <td>14905.9</td>\n",
       "      <td>13100.0</td>\n",
       "    </tr>\n",
       "    <tr>\n",
       "      <th>135</th>\n",
       "      <td>TSX:PAAS</td>\n",
       "      <td>Pan American Silver Corp. (TSX:PAAS)</td>\n",
       "      <td>3565.0</td>\n",
       "      <td>4530.0</td>\n",
       "    </tr>\n",
       "    <tr>\n",
       "      <th>136</th>\n",
       "      <td>TSX:PXT</td>\n",
       "      <td>Parex Resources Inc. (TSX:PXT)</td>\n",
       "      <td>3129.7</td>\n",
       "      <td>279.0</td>\n",
       "    </tr>\n",
       "    <tr>\n",
       "      <th>137</th>\n",
       "      <td>TSX:TSGI</td>\n",
       "      <td>The Stars Group Inc. (TSX:TSGI)</td>\n",
       "      <td>6113.9</td>\n",
       "      <td>4516.0</td>\n",
       "    </tr>\n",
       "    <tr>\n",
       "      <th>138</th>\n",
       "      <td>TSX:TD</td>\n",
       "      <td>The Toronto-Dominion Bank (TSX:TD)</td>\n",
       "      <td>139949.9</td>\n",
       "      <td>87999.0</td>\n",
       "    </tr>\n",
       "    <tr>\n",
       "      <th>139</th>\n",
       "      <td>TSX:EMA</td>\n",
       "      <td>Emera Incorporated (TSX:EMA)</td>\n",
       "      <td>12873.1</td>\n",
       "      <td>7523.0</td>\n",
       "    </tr>\n",
       "    <tr>\n",
       "      <th>140</th>\n",
       "      <td>TSX:EMP.A</td>\n",
       "      <td>Empire Company Limited (TSX:EMP.A)</td>\n",
       "      <td>9112.5</td>\n",
       "      <td>123000.0</td>\n",
       "    </tr>\n",
       "    <tr>\n",
       "      <th>141</th>\n",
       "      <td>TSX:GOOS</td>\n",
       "      <td>Canada Goose Holdings Inc. (TSX:GOOS)</td>\n",
       "      <td>6254.2</td>\n",
       "      <td>3932.0</td>\n",
       "    </tr>\n",
       "  </tbody>\n",
       "</table>\n",
       "</div>"
      ],
      "text/plain": [
       "            Ticker                                   Name  \\\n",
       "132        TSX:ACB         Aurora Cannabis Inc. (TSX:ACB)   \n",
       "133        TSX:BTO                 B2Gold Corp. (TSX:BTO)   \n",
       "134  NasdaqGS:OTEX  Open Text Corporation (NasdaqGS:OTEX)   \n",
       "135       TSX:PAAS   Pan American Silver Corp. (TSX:PAAS)   \n",
       "136        TSX:PXT         Parex Resources Inc. (TSX:PXT)   \n",
       "137       TSX:TSGI        The Stars Group Inc. (TSX:TSGI)   \n",
       "138         TSX:TD     The Toronto-Dominion Bank (TSX:TD)   \n",
       "139        TSX:EMA           Emera Incorporated (TSX:EMA)   \n",
       "140      TSX:EMP.A     Empire Company Limited (TSX:EMP.A)   \n",
       "141       TSX:GOOS  Canada Goose Holdings Inc. (TSX:GOOS)   \n",
       "\n",
       "     MarketCapitalization  NumberEmployees  \n",
       "132                8958.5            967.0  \n",
       "133                4105.6           3168.0  \n",
       "134               14905.9          13100.0  \n",
       "135                3565.0           4530.0  \n",
       "136                3129.7            279.0  \n",
       "137                6113.9           4516.0  \n",
       "138              139949.9          87999.0  \n",
       "139               12873.1           7523.0  \n",
       "140                9112.5         123000.0  \n",
       "141                6254.2           3932.0  "
      ]
     },
     "execution_count": 8,
     "metadata": {},
     "output_type": "execute_result"
    }
   ],
   "source": [
    "df2.loc[df2.duplicated()]"
   ]
  },
  {
   "cell_type": "code",
   "execution_count": 9,
   "metadata": {
    "scrolled": false
   },
   "outputs": [
    {
     "name": "stdout",
     "output_type": "stream",
     "text": [
      "(132, 4)\n"
     ]
    }
   ],
   "source": [
    "df2 = df2.drop_duplicates(keep='first')\n",
    "print(df2.shape)"
   ]
  },
  {
   "cell_type": "code",
   "execution_count": 10,
   "metadata": {},
   "outputs": [],
   "source": [
    "# Exercise: \n",
    "# 1. Determine the current the current index labels for both dataframes\n"
   ]
  },
  {
   "cell_type": "code",
   "execution_count": 11,
   "metadata": {},
   "outputs": [],
   "source": [
    "# 2. Set the indices to 'Ticker', if not already"
   ]
  },
  {
   "cell_type": "code",
   "execution_count": 12,
   "metadata": {
    "scrolled": true
   },
   "outputs": [
    {
     "name": "stdout",
     "output_type": "stream",
     "text": [
      "(132, 4)\n"
     ]
    },
    {
     "data": {
      "text/html": [
       "<div>\n",
       "<style scoped>\n",
       "    .dataframe tbody tr th:only-of-type {\n",
       "        vertical-align: middle;\n",
       "    }\n",
       "\n",
       "    .dataframe tbody tr th {\n",
       "        vertical-align: top;\n",
       "    }\n",
       "\n",
       "    .dataframe thead th {\n",
       "        text-align: right;\n",
       "    }\n",
       "</style>\n",
       "<table border=\"1\" class=\"dataframe\">\n",
       "  <thead>\n",
       "    <tr style=\"text-align: right;\">\n",
       "      <th></th>\n",
       "      <th>Ticker</th>\n",
       "      <th>Name_x</th>\n",
       "      <th>TotalAssets</th>\n",
       "      <th>TotalRevenue</th>\n",
       "      <th>GeographicSegments</th>\n",
       "      <th>PrimarySector</th>\n",
       "      <th>Name_y</th>\n",
       "      <th>MarketCapitalization</th>\n",
       "      <th>NumberEmployees</th>\n",
       "    </tr>\n",
       "  </thead>\n",
       "  <tbody>\n",
       "    <tr>\n",
       "      <th>0</th>\n",
       "      <td>NYSE:AEM</td>\n",
       "      <td>Agnico Eagle Mines Limited (NYSE:AEM)</td>\n",
       "      <td>10715.5</td>\n",
       "      <td>2990.0</td>\n",
       "      <td>5.0</td>\n",
       "      <td>Materials</td>\n",
       "      <td>Agnico Eagle Mines Limited (NYSE:AEM)</td>\n",
       "      <td>15892.5</td>\n",
       "      <td>5990.0</td>\n",
       "    </tr>\n",
       "    <tr>\n",
       "      <th>1</th>\n",
       "      <td>TSX:AC</td>\n",
       "      <td>Air Canada (TSX:AC)</td>\n",
       "      <td>19197.0</td>\n",
       "      <td>18065.0</td>\n",
       "      <td>5.0</td>\n",
       "      <td>Industrials</td>\n",
       "      <td>Air Canada (TSX:AC)</td>\n",
       "      <td>11338.6</td>\n",
       "      <td>32600.0</td>\n",
       "    </tr>\n",
       "    <tr>\n",
       "      <th>2</th>\n",
       "      <td>TSX:AGI</td>\n",
       "      <td>Alamos Gold Inc. (TSX:AGI)</td>\n",
       "      <td>4455.5</td>\n",
       "      <td>889.4</td>\n",
       "      <td>4.0</td>\n",
       "      <td>Materials</td>\n",
       "      <td>Alamos Gold Inc. (TSX:AGI)</td>\n",
       "      <td>3151.9</td>\n",
       "      <td>1700.0</td>\n",
       "    </tr>\n",
       "  </tbody>\n",
       "</table>\n",
       "</div>"
      ],
      "text/plain": [
       "     Ticker                                 Name_x  TotalAssets  TotalRevenue  \\\n",
       "0  NYSE:AEM  Agnico Eagle Mines Limited (NYSE:AEM)      10715.5        2990.0   \n",
       "1    TSX:AC                    Air Canada (TSX:AC)      19197.0       18065.0   \n",
       "2   TSX:AGI             Alamos Gold Inc. (TSX:AGI)       4455.5         889.4   \n",
       "\n",
       "   GeographicSegments PrimarySector                                 Name_y  \\\n",
       "0                 5.0     Materials  Agnico Eagle Mines Limited (NYSE:AEM)   \n",
       "1                 5.0   Industrials                    Air Canada (TSX:AC)   \n",
       "2                 4.0     Materials             Alamos Gold Inc. (TSX:AGI)   \n",
       "\n",
       "   MarketCapitalization  NumberEmployees  \n",
       "0               15892.5           5990.0  \n",
       "1               11338.6          32600.0  \n",
       "2                3151.9           1700.0  "
      ]
     },
     "execution_count": 12,
     "metadata": {},
     "output_type": "execute_result"
    }
   ],
   "source": [
    "# Merging - SQL like\n",
    "df3 = pd.merge(df1,df2, on='Ticker', how='left')\n",
    "print(df2.shape)\n",
    "df3.head(3)\n",
    "\n",
    "# Note automatix suffix"
   ]
  },
  {
   "cell_type": "code",
   "execution_count": 13,
   "metadata": {},
   "outputs": [
    {
     "name": "stdout",
     "output_type": "stream",
     "text": [
      "(132, 9)\n"
     ]
    },
    {
     "data": {
      "text/html": [
       "<div>\n",
       "<style scoped>\n",
       "    .dataframe tbody tr th:only-of-type {\n",
       "        vertical-align: middle;\n",
       "    }\n",
       "\n",
       "    .dataframe tbody tr th {\n",
       "        vertical-align: top;\n",
       "    }\n",
       "\n",
       "    .dataframe thead th {\n",
       "        text-align: right;\n",
       "    }\n",
       "</style>\n",
       "<table border=\"1\" class=\"dataframe\">\n",
       "  <thead>\n",
       "    <tr style=\"text-align: right;\">\n",
       "      <th></th>\n",
       "      <th>Name</th>\n",
       "      <th>TotalAssets</th>\n",
       "      <th>TotalRevenue</th>\n",
       "      <th>GeographicSegments</th>\n",
       "      <th>PrimarySector</th>\n",
       "      <th>Ticker</th>\n",
       "      <th>Name2</th>\n",
       "      <th>MarketCapitalization</th>\n",
       "      <th>NumberEmployees</th>\n",
       "    </tr>\n",
       "    <tr>\n",
       "      <th>Ticker</th>\n",
       "      <th></th>\n",
       "      <th></th>\n",
       "      <th></th>\n",
       "      <th></th>\n",
       "      <th></th>\n",
       "      <th></th>\n",
       "      <th></th>\n",
       "      <th></th>\n",
       "      <th></th>\n",
       "    </tr>\n",
       "  </thead>\n",
       "  <tbody>\n",
       "    <tr>\n",
       "      <th>NYSE:AEM</th>\n",
       "      <td>Agnico Eagle Mines Limited (NYSE:AEM)</td>\n",
       "      <td>10715.5</td>\n",
       "      <td>2990.0</td>\n",
       "      <td>5.0</td>\n",
       "      <td>Materials</td>\n",
       "      <td>NaN</td>\n",
       "      <td>NaN</td>\n",
       "      <td>NaN</td>\n",
       "      <td>NaN</td>\n",
       "    </tr>\n",
       "    <tr>\n",
       "      <th>TSX:AC</th>\n",
       "      <td>Air Canada (TSX:AC)</td>\n",
       "      <td>19197.0</td>\n",
       "      <td>18065.0</td>\n",
       "      <td>5.0</td>\n",
       "      <td>Industrials</td>\n",
       "      <td>NaN</td>\n",
       "      <td>NaN</td>\n",
       "      <td>NaN</td>\n",
       "      <td>NaN</td>\n",
       "    </tr>\n",
       "    <tr>\n",
       "      <th>TSX:AGI</th>\n",
       "      <td>Alamos Gold Inc. (TSX:AGI)</td>\n",
       "      <td>4455.5</td>\n",
       "      <td>889.4</td>\n",
       "      <td>4.0</td>\n",
       "      <td>Materials</td>\n",
       "      <td>NaN</td>\n",
       "      <td>NaN</td>\n",
       "      <td>NaN</td>\n",
       "      <td>NaN</td>\n",
       "    </tr>\n",
       "    <tr>\n",
       "      <th>TSX:AQN</th>\n",
       "      <td>Algonquin Power &amp; Utilities Corp. (TSX:AQN)</td>\n",
       "      <td>12811.6</td>\n",
       "      <td>2247.9</td>\n",
       "      <td>2.0</td>\n",
       "      <td>Utilities</td>\n",
       "      <td>NaN</td>\n",
       "      <td>NaN</td>\n",
       "      <td>NaN</td>\n",
       "      <td>NaN</td>\n",
       "    </tr>\n",
       "    <tr>\n",
       "      <th>TSX:ATD.B</th>\n",
       "      <td>Alimentation Couche-Tard Inc. (TSX:ATD.B)</td>\n",
       "      <td>30426.3</td>\n",
       "      <td>79562.8</td>\n",
       "      <td>3.0</td>\n",
       "      <td>Consumer Staples</td>\n",
       "      <td>NaN</td>\n",
       "      <td>NaN</td>\n",
       "      <td>NaN</td>\n",
       "      <td>NaN</td>\n",
       "    </tr>\n",
       "  </tbody>\n",
       "</table>\n",
       "</div>"
      ],
      "text/plain": [
       "                                                  Name  TotalAssets  \\\n",
       "Ticker                                                                \n",
       "NYSE:AEM         Agnico Eagle Mines Limited (NYSE:AEM)      10715.5   \n",
       "TSX:AC                             Air Canada (TSX:AC)      19197.0   \n",
       "TSX:AGI                     Alamos Gold Inc. (TSX:AGI)       4455.5   \n",
       "TSX:AQN    Algonquin Power & Utilities Corp. (TSX:AQN)      12811.6   \n",
       "TSX:ATD.B    Alimentation Couche-Tard Inc. (TSX:ATD.B)      30426.3   \n",
       "\n",
       "           TotalRevenue  GeographicSegments     PrimarySector Ticker Name2  \\\n",
       "Ticker                                                                       \n",
       "NYSE:AEM         2990.0                 5.0         Materials    NaN   NaN   \n",
       "TSX:AC          18065.0                 5.0       Industrials    NaN   NaN   \n",
       "TSX:AGI           889.4                 4.0         Materials    NaN   NaN   \n",
       "TSX:AQN          2247.9                 2.0         Utilities    NaN   NaN   \n",
       "TSX:ATD.B       79562.8                 3.0  Consumer Staples    NaN   NaN   \n",
       "\n",
       "           MarketCapitalization  NumberEmployees  \n",
       "Ticker                                            \n",
       "NYSE:AEM                    NaN              NaN  \n",
       "TSX:AC                      NaN              NaN  \n",
       "TSX:AGI                     NaN              NaN  \n",
       "TSX:AQN                     NaN              NaN  \n",
       "TSX:ATD.B                   NaN              NaN  "
      ]
     },
     "execution_count": 13,
     "metadata": {},
     "output_type": "execute_result"
    }
   ],
   "source": [
    "# Join - very similar to merge but \"on\" defaults to index\n",
    "df3 = df1.join(df2, how='left', rsuffix='2') # Suffix must be supplied if columns of the same name exist in both\n",
    "print(df3.shape)\n",
    "df3.head()"
   ]
  },
  {
   "cell_type": "code",
   "execution_count": 14,
   "metadata": {
    "scrolled": false
   },
   "outputs": [
    {
     "data": {
      "text/html": [
       "<div>\n",
       "<style scoped>\n",
       "    .dataframe tbody tr th:only-of-type {\n",
       "        vertical-align: middle;\n",
       "    }\n",
       "\n",
       "    .dataframe tbody tr th {\n",
       "        vertical-align: top;\n",
       "    }\n",
       "\n",
       "    .dataframe thead th {\n",
       "        text-align: right;\n",
       "    }\n",
       "</style>\n",
       "<table border=\"1\" class=\"dataframe\">\n",
       "  <thead>\n",
       "    <tr style=\"text-align: right;\">\n",
       "      <th></th>\n",
       "      <th>Name</th>\n",
       "      <th>TotalAssets</th>\n",
       "      <th>TotalRevenue</th>\n",
       "      <th>GeographicSegments</th>\n",
       "      <th>PrimarySector</th>\n",
       "    </tr>\n",
       "    <tr>\n",
       "      <th>Ticker</th>\n",
       "      <th></th>\n",
       "      <th></th>\n",
       "      <th></th>\n",
       "      <th></th>\n",
       "      <th></th>\n",
       "    </tr>\n",
       "  </thead>\n",
       "  <tbody>\n",
       "    <tr>\n",
       "      <th>TSX:TD</th>\n",
       "      <td>The Toronto-Dominion Bank (TSX:TD)</td>\n",
       "      <td>1334903.0</td>\n",
       "      <td>36354.0</td>\n",
       "      <td>3.0</td>\n",
       "      <td>Financials</td>\n",
       "    </tr>\n",
       "    <tr>\n",
       "      <th>NYSE:QSR</th>\n",
       "      <td>Restaurant Brands International Inc. (NYSE:QSR)</td>\n",
       "      <td>27483.2</td>\n",
       "      <td>7309.8</td>\n",
       "      <td>3.0</td>\n",
       "      <td>Consumer Discretionary</td>\n",
       "    </tr>\n",
       "    <tr>\n",
       "      <th>TSX:YRI</th>\n",
       "      <td>Yamana Gold Inc. (TSX:YRI)</td>\n",
       "      <td>10933.9</td>\n",
       "      <td>2454.1</td>\n",
       "      <td>5.0</td>\n",
       "      <td>Materials</td>\n",
       "    </tr>\n",
       "  </tbody>\n",
       "</table>\n",
       "</div>"
      ],
      "text/plain": [
       "                                                     Name  TotalAssets  \\\n",
       "Ticker                                                                   \n",
       "TSX:TD                 The Toronto-Dominion Bank (TSX:TD)    1334903.0   \n",
       "NYSE:QSR  Restaurant Brands International Inc. (NYSE:QSR)      27483.2   \n",
       "TSX:YRI                        Yamana Gold Inc. (TSX:YRI)      10933.9   \n",
       "\n",
       "          TotalRevenue  GeographicSegments           PrimarySector  \n",
       "Ticker                                                              \n",
       "TSX:TD         36354.0                 3.0              Financials  \n",
       "NYSE:QSR        7309.8                 3.0  Consumer Discretionary  \n",
       "TSX:YRI         2454.1                 5.0               Materials  "
      ]
     },
     "execution_count": 14,
     "metadata": {},
     "output_type": "execute_result"
    }
   ],
   "source": [
    "# Creating slices\n",
    "lil_df1 = df1.sample(3, random_state=22)\n",
    "lil_df2 = df2.sample(4, random_state=22)\n",
    "lil_df3 = df2.sample(1, random_state=22)\n",
    "\n",
    "lil_df1"
   ]
  },
  {
   "cell_type": "code",
   "execution_count": 15,
   "metadata": {
    "scrolled": false
   },
   "outputs": [
    {
     "name": "stdout",
     "output_type": "stream",
     "text": [
      "(8, 8)\n",
      "\n"
     ]
    },
    {
     "data": {
      "text/html": [
       "<div>\n",
       "<style scoped>\n",
       "    .dataframe tbody tr th:only-of-type {\n",
       "        vertical-align: middle;\n",
       "    }\n",
       "\n",
       "    .dataframe tbody tr th {\n",
       "        vertical-align: top;\n",
       "    }\n",
       "\n",
       "    .dataframe thead th {\n",
       "        text-align: right;\n",
       "    }\n",
       "</style>\n",
       "<table border=\"1\" class=\"dataframe\">\n",
       "  <thead>\n",
       "    <tr style=\"text-align: right;\">\n",
       "      <th></th>\n",
       "      <th>Name</th>\n",
       "      <th>TotalAssets</th>\n",
       "      <th>TotalRevenue</th>\n",
       "      <th>GeographicSegments</th>\n",
       "      <th>PrimarySector</th>\n",
       "      <th>Ticker</th>\n",
       "      <th>MarketCapitalization</th>\n",
       "      <th>NumberEmployees</th>\n",
       "    </tr>\n",
       "  </thead>\n",
       "  <tbody>\n",
       "    <tr>\n",
       "      <th>TSX:TD</th>\n",
       "      <td>The Toronto-Dominion Bank (TSX:TD)</td>\n",
       "      <td>1334903.0</td>\n",
       "      <td>36354.0</td>\n",
       "      <td>3.0</td>\n",
       "      <td>Financials</td>\n",
       "      <td>NaN</td>\n",
       "      <td>NaN</td>\n",
       "      <td>NaN</td>\n",
       "    </tr>\n",
       "    <tr>\n",
       "      <th>NYSE:QSR</th>\n",
       "      <td>Restaurant Brands International Inc. (NYSE:QSR)</td>\n",
       "      <td>27483.2</td>\n",
       "      <td>7309.8</td>\n",
       "      <td>3.0</td>\n",
       "      <td>Consumer Discretionary</td>\n",
       "      <td>NaN</td>\n",
       "      <td>NaN</td>\n",
       "      <td>NaN</td>\n",
       "    </tr>\n",
       "    <tr>\n",
       "      <th>TSX:YRI</th>\n",
       "      <td>Yamana Gold Inc. (TSX:YRI)</td>\n",
       "      <td>10933.9</td>\n",
       "      <td>2454.1</td>\n",
       "      <td>5.0</td>\n",
       "      <td>Materials</td>\n",
       "      <td>NaN</td>\n",
       "      <td>NaN</td>\n",
       "      <td>NaN</td>\n",
       "    </tr>\n",
       "  </tbody>\n",
       "</table>\n",
       "</div>"
      ],
      "text/plain": [
       "                                                     Name  TotalAssets  \\\n",
       "TSX:TD                 The Toronto-Dominion Bank (TSX:TD)    1334903.0   \n",
       "NYSE:QSR  Restaurant Brands International Inc. (NYSE:QSR)      27483.2   \n",
       "TSX:YRI                        Yamana Gold Inc. (TSX:YRI)      10933.9   \n",
       "\n",
       "          TotalRevenue  GeographicSegments           PrimarySector Ticker  \\\n",
       "TSX:TD         36354.0                 3.0              Financials    NaN   \n",
       "NYSE:QSR        7309.8                 3.0  Consumer Discretionary    NaN   \n",
       "TSX:YRI         2454.1                 5.0               Materials    NaN   \n",
       "\n",
       "          MarketCapitalization  NumberEmployees  \n",
       "TSX:TD                     NaN              NaN  \n",
       "NYSE:QSR                   NaN              NaN  \n",
       "TSX:YRI                    NaN              NaN  "
      ]
     },
     "execution_count": 15,
     "metadata": {},
     "output_type": "execute_result"
    }
   ],
   "source": [
    "# Concatenating\n",
    "big_df = pd.concat([lil_df1, lil_df2, lil_df3],sort=False) \n",
    "print(big_df.shape)\n",
    "print()\n",
    "big_df.head(3)"
   ]
  },
  {
   "cell_type": "code",
   "execution_count": 16,
   "metadata": {
    "scrolled": false
   },
   "outputs": [
    {
     "data": {
      "text/html": [
       "<div>\n",
       "<style scoped>\n",
       "    .dataframe tbody tr th:only-of-type {\n",
       "        vertical-align: middle;\n",
       "    }\n",
       "\n",
       "    .dataframe tbody tr th {\n",
       "        vertical-align: top;\n",
       "    }\n",
       "\n",
       "    .dataframe thead th {\n",
       "        text-align: right;\n",
       "    }\n",
       "</style>\n",
       "<table border=\"1\" class=\"dataframe\">\n",
       "  <thead>\n",
       "    <tr style=\"text-align: right;\">\n",
       "      <th></th>\n",
       "      <th>Name</th>\n",
       "      <th>TotalAssets</th>\n",
       "      <th>TotalRevenue</th>\n",
       "      <th>GeographicSegments</th>\n",
       "      <th>PrimarySector</th>\n",
       "      <th>Ticker</th>\n",
       "      <th>MarketCapitalization</th>\n",
       "      <th>NumberEmployees</th>\n",
       "    </tr>\n",
       "  </thead>\n",
       "  <tbody>\n",
       "    <tr>\n",
       "      <th>119</th>\n",
       "      <td>The Toronto-Dominion Bank (TSX:TD)</td>\n",
       "      <td>NaN</td>\n",
       "      <td>NaN</td>\n",
       "      <td>NaN</td>\n",
       "      <td>NaN</td>\n",
       "      <td>TSX:TD</td>\n",
       "      <td>139949.9</td>\n",
       "      <td>87999.0</td>\n",
       "    </tr>\n",
       "  </tbody>\n",
       "</table>\n",
       "</div>"
      ],
      "text/plain": [
       "                                   Name  TotalAssets  TotalRevenue  \\\n",
       "119  The Toronto-Dominion Bank (TSX:TD)          NaN           NaN   \n",
       "\n",
       "     GeographicSegments PrimarySector  Ticker  MarketCapitalization  \\\n",
       "119                 NaN           NaN  TSX:TD              139949.9   \n",
       "\n",
       "     NumberEmployees  \n",
       "119          87999.0  "
      ]
     },
     "execution_count": 16,
     "metadata": {},
     "output_type": "execute_result"
    }
   ],
   "source": [
    "big_df.tail(1)"
   ]
  },
  {
   "cell_type": "code",
   "execution_count": 17,
   "metadata": {},
   "outputs": [],
   "source": [
    "# What would happen if lil_df3 didn't have all of the same columns as lil_df1 and lil_df2?"
   ]
  },
  {
   "cell_type": "code",
   "execution_count": 18,
   "metadata": {
    "scrolled": true
   },
   "outputs": [
    {
     "data": {
      "text/html": [
       "<div>\n",
       "<style scoped>\n",
       "    .dataframe tbody tr th:only-of-type {\n",
       "        vertical-align: middle;\n",
       "    }\n",
       "\n",
       "    .dataframe tbody tr th {\n",
       "        vertical-align: top;\n",
       "    }\n",
       "\n",
       "    .dataframe thead th {\n",
       "        text-align: right;\n",
       "    }\n",
       "</style>\n",
       "<table border=\"1\" class=\"dataframe\">\n",
       "  <thead>\n",
       "    <tr style=\"text-align: right;\">\n",
       "      <th></th>\n",
       "      <th>Ticker</th>\n",
       "      <th>Name</th>\n",
       "      <th>MarketCapitalization</th>\n",
       "      <th>NumberEmployees</th>\n",
       "    </tr>\n",
       "  </thead>\n",
       "  <tbody>\n",
       "    <tr>\n",
       "      <th>119</th>\n",
       "      <td>TSX:TD</td>\n",
       "      <td>The Toronto-Dominion Bank (TSX:TD)</td>\n",
       "      <td>139949.9</td>\n",
       "      <td>87999.0</td>\n",
       "    </tr>\n",
       "    <tr>\n",
       "      <th>97</th>\n",
       "      <td>NYSE:QSR</td>\n",
       "      <td>Restaurant Brands International Inc. (NYSE:QSR)</td>\n",
       "      <td>24044.9</td>\n",
       "      <td>6000.0</td>\n",
       "    </tr>\n",
       "    <tr>\n",
       "      <th>131</th>\n",
       "      <td>TSX:YRI</td>\n",
       "      <td>Yamana Gold Inc. (TSX:YRI)</td>\n",
       "      <td>3268.9</td>\n",
       "      <td>5165.0</td>\n",
       "    </tr>\n",
       "    <tr>\n",
       "      <th>78</th>\n",
       "      <td>TSX:MG</td>\n",
       "      <td>Magna International Inc. (TSX:MG)</td>\n",
       "      <td>19736.3</td>\n",
       "      <td>168000.0</td>\n",
       "    </tr>\n",
       "    <tr>\n",
       "      <th>119</th>\n",
       "      <td>TSX:TD</td>\n",
       "      <td>The Toronto-Dominion Bank (TSX:TD)</td>\n",
       "      <td>139949.9</td>\n",
       "      <td>87999.0</td>\n",
       "    </tr>\n",
       "  </tbody>\n",
       "</table>\n",
       "</div>"
      ],
      "text/plain": [
       "       Ticker                                             Name  \\\n",
       "119    TSX:TD               The Toronto-Dominion Bank (TSX:TD)   \n",
       "97   NYSE:QSR  Restaurant Brands International Inc. (NYSE:QSR)   \n",
       "131   TSX:YRI                       Yamana Gold Inc. (TSX:YRI)   \n",
       "78     TSX:MG                Magna International Inc. (TSX:MG)   \n",
       "119    TSX:TD               The Toronto-Dominion Bank (TSX:TD)   \n",
       "\n",
       "     MarketCapitalization  NumberEmployees  \n",
       "119              139949.9          87999.0  \n",
       "97                24044.9           6000.0  \n",
       "131                3268.9           5165.0  \n",
       "78                19736.3         168000.0  \n",
       "119              139949.9          87999.0  "
      ]
     },
     "execution_count": 18,
     "metadata": {},
     "output_type": "execute_result"
    }
   ],
   "source": [
    "# Append \n",
    "lil_df2.append(lil_df3)"
   ]
  },
  {
   "cell_type": "code",
   "execution_count": 19,
   "metadata": {
    "scrolled": false
   },
   "outputs": [
    {
     "data": {
      "text/html": [
       "<div>\n",
       "<style scoped>\n",
       "    .dataframe tbody tr th:only-of-type {\n",
       "        vertical-align: middle;\n",
       "    }\n",
       "\n",
       "    .dataframe tbody tr th {\n",
       "        vertical-align: top;\n",
       "    }\n",
       "\n",
       "    .dataframe thead th {\n",
       "        text-align: right;\n",
       "    }\n",
       "</style>\n",
       "<table border=\"1\" class=\"dataframe\">\n",
       "  <thead>\n",
       "    <tr style=\"text-align: right;\">\n",
       "      <th></th>\n",
       "      <th>Ticker</th>\n",
       "      <th>Name</th>\n",
       "      <th>MarketCapitalization</th>\n",
       "      <th>NumberEmployees</th>\n",
       "    </tr>\n",
       "  </thead>\n",
       "  <tbody>\n",
       "    <tr>\n",
       "      <th>0</th>\n",
       "      <td>TSX:TD</td>\n",
       "      <td>The Toronto-Dominion Bank (TSX:TD)</td>\n",
       "      <td>139949.9</td>\n",
       "      <td>87999.0</td>\n",
       "    </tr>\n",
       "    <tr>\n",
       "      <th>1</th>\n",
       "      <td>NYSE:QSR</td>\n",
       "      <td>Restaurant Brands International Inc. (NYSE:QSR)</td>\n",
       "      <td>24044.9</td>\n",
       "      <td>6000.0</td>\n",
       "    </tr>\n",
       "    <tr>\n",
       "      <th>2</th>\n",
       "      <td>TSX:YRI</td>\n",
       "      <td>Yamana Gold Inc. (TSX:YRI)</td>\n",
       "      <td>3268.9</td>\n",
       "      <td>5165.0</td>\n",
       "    </tr>\n",
       "    <tr>\n",
       "      <th>3</th>\n",
       "      <td>TSX:MG</td>\n",
       "      <td>Magna International Inc. (TSX:MG)</td>\n",
       "      <td>19736.3</td>\n",
       "      <td>168000.0</td>\n",
       "    </tr>\n",
       "    <tr>\n",
       "      <th>4</th>\n",
       "      <td>NaN</td>\n",
       "      <td>NaN</td>\n",
       "      <td>10000.0</td>\n",
       "      <td>NaN</td>\n",
       "    </tr>\n",
       "  </tbody>\n",
       "</table>\n",
       "</div>"
      ],
      "text/plain": [
       "     Ticker                                             Name  \\\n",
       "0    TSX:TD               The Toronto-Dominion Bank (TSX:TD)   \n",
       "1  NYSE:QSR  Restaurant Brands International Inc. (NYSE:QSR)   \n",
       "2   TSX:YRI                       Yamana Gold Inc. (TSX:YRI)   \n",
       "3    TSX:MG                Magna International Inc. (TSX:MG)   \n",
       "4       NaN                                              NaN   \n",
       "\n",
       "   MarketCapitalization  NumberEmployees  \n",
       "0              139949.9          87999.0  \n",
       "1               24044.9           6000.0  \n",
       "2                3268.9           5165.0  \n",
       "3               19736.3         168000.0  \n",
       "4               10000.0              NaN  "
      ]
     },
     "execution_count": 19,
     "metadata": {},
     "output_type": "execute_result"
    }
   ],
   "source": [
    "lil_df2.append({'MarketCapitalization':10000}, ignore_index=True) # Great in instance where need to append 1 row only"
   ]
  },
  {
   "cell_type": "code",
   "execution_count": 20,
   "metadata": {
    "scrolled": false
   },
   "outputs": [],
   "source": [
    "# Exercise:\n",
    "# 1. Remove the column \"Name\"  from df2 (hint: https://pandas.pydata.org/pandas-docs/stable/reference/api/pandas.DataFrame.drop.html)\n"
   ]
  },
  {
   "cell_type": "code",
   "execution_count": 21,
   "metadata": {},
   "outputs": [],
   "source": [
    "# 2. Verify that all of the indices in df1 are in df2\n"
   ]
  },
  {
   "cell_type": "code",
   "execution_count": 22,
   "metadata": {},
   "outputs": [],
   "source": [
    "# 4. Combine df1 and df2 into one dataframe \n"
   ]
  },
  {
   "cell_type": "code",
   "execution_count": 23,
   "metadata": {},
   "outputs": [],
   "source": [
    "# 5. Check for NaN values anywhere in the dataframe (df.isna.any())\n"
   ]
  },
  {
   "cell_type": "code",
   "execution_count": 24,
   "metadata": {},
   "outputs": [],
   "source": [
    "# 6. Add another row for a fictional or real company of your choice\n"
   ]
  },
  {
   "cell_type": "code",
   "execution_count": 25,
   "metadata": {
    "scrolled": true
   },
   "outputs": [
    {
     "data": {
      "text/plain": [
       "<matplotlib.axes._subplots.AxesSubplot at 0x47fe5c9f60>"
      ]
     },
     "execution_count": 25,
     "metadata": {},
     "output_type": "execute_result"
    },
    {
     "data": {
      "image/png": "[encoded data removed]",
      "text/plain": [
       "<Figure size 432x288 with 1 Axes>"
      ]
     },
     "metadata": {},
     "output_type": "display_data"
    }
   ],
   "source": [
    "# Plotting\n",
    "df2.NumberEmployees.plot.hist(bins=60)"
   ]
  },
  {
   "cell_type": "code",
   "execution_count": 26,
   "metadata": {
    "scrolled": true
   },
   "outputs": [
    {
     "data": {
      "image/png": "[encoded data removed]",
      "text/plain": [
       "<Figure size 432x288 with 1 Axes>"
      ]
     },
     "metadata": {},
     "output_type": "display_data"
    }
   ],
   "source": [
    "df1.plot.scatter('TotalAssets', 'TotalRevenue')\n",
    "plt.title('Assets vs. Revenue') # interfaces with matplotlib\n",
    "plt.show()"
   ]
  },
  {
   "cell_type": "code",
   "execution_count": 27,
   "metadata": {},
   "outputs": [],
   "source": [
    "# Handy tricks"
   ]
  },
  {
   "cell_type": "code",
   "execution_count": 28,
   "metadata": {
    "scrolled": false
   },
   "outputs": [
    {
     "name": "stdout",
     "output_type": "stream",
     "text": [
      "Index(['Name', 'TotalAssets', 'TotalRevenue', 'GeographicSegments',\n",
      "       'PrimarySector_Communication Services',\n",
      "       'PrimarySector_Consumer Discretionary',\n",
      "       'PrimarySector_Consumer Staples', 'PrimarySector_Energy',\n",
      "       'PrimarySector_Financials', 'PrimarySector_Health Care',\n",
      "       'PrimarySector_Industrials', 'PrimarySector_Information Technology',\n",
      "       'PrimarySector_Materials', 'PrimarySector_Real Estate',\n",
      "       'PrimarySector_Utilities'],\n",
      "      dtype='object')\n"
     ]
    },
    {
     "data": {
      "text/html": [
       "<div>\n",
       "<style scoped>\n",
       "    .dataframe tbody tr th:only-of-type {\n",
       "        vertical-align: middle;\n",
       "    }\n",
       "\n",
       "    .dataframe tbody tr th {\n",
       "        vertical-align: top;\n",
       "    }\n",
       "\n",
       "    .dataframe thead th {\n",
       "        text-align: right;\n",
       "    }\n",
       "</style>\n",
       "<table border=\"1\" class=\"dataframe\">\n",
       "  <thead>\n",
       "    <tr style=\"text-align: right;\">\n",
       "      <th></th>\n",
       "      <th>Name</th>\n",
       "      <th>TotalAssets</th>\n",
       "      <th>TotalRevenue</th>\n",
       "      <th>GeographicSegments</th>\n",
       "      <th>PrimarySector_Communication Services</th>\n",
       "      <th>PrimarySector_Consumer Discretionary</th>\n",
       "      <th>PrimarySector_Consumer Staples</th>\n",
       "      <th>PrimarySector_Energy</th>\n",
       "      <th>PrimarySector_Financials</th>\n",
       "      <th>PrimarySector_Health Care</th>\n",
       "      <th>PrimarySector_Industrials</th>\n",
       "      <th>PrimarySector_Information Technology</th>\n",
       "      <th>PrimarySector_Materials</th>\n",
       "      <th>PrimarySector_Real Estate</th>\n",
       "      <th>PrimarySector_Utilities</th>\n",
       "    </tr>\n",
       "    <tr>\n",
       "      <th>Ticker</th>\n",
       "      <th></th>\n",
       "      <th></th>\n",
       "      <th></th>\n",
       "      <th></th>\n",
       "      <th></th>\n",
       "      <th></th>\n",
       "      <th></th>\n",
       "      <th></th>\n",
       "      <th></th>\n",
       "      <th></th>\n",
       "      <th></th>\n",
       "      <th></th>\n",
       "      <th></th>\n",
       "      <th></th>\n",
       "      <th></th>\n",
       "    </tr>\n",
       "  </thead>\n",
       "  <tbody>\n",
       "    <tr>\n",
       "      <th>NYSE:AEM</th>\n",
       "      <td>Agnico Eagle Mines Limited (NYSE:AEM)</td>\n",
       "      <td>10715.5</td>\n",
       "      <td>2990.0</td>\n",
       "      <td>5.0</td>\n",
       "      <td>0</td>\n",
       "      <td>0</td>\n",
       "      <td>0</td>\n",
       "      <td>0</td>\n",
       "      <td>0</td>\n",
       "      <td>0</td>\n",
       "      <td>0</td>\n",
       "      <td>0</td>\n",
       "      <td>1</td>\n",
       "      <td>0</td>\n",
       "      <td>0</td>\n",
       "    </tr>\n",
       "    <tr>\n",
       "      <th>TSX:AC</th>\n",
       "      <td>Air Canada (TSX:AC)</td>\n",
       "      <td>19197.0</td>\n",
       "      <td>18065.0</td>\n",
       "      <td>5.0</td>\n",
       "      <td>0</td>\n",
       "      <td>0</td>\n",
       "      <td>0</td>\n",
       "      <td>0</td>\n",
       "      <td>0</td>\n",
       "      <td>0</td>\n",
       "      <td>1</td>\n",
       "      <td>0</td>\n",
       "      <td>0</td>\n",
       "      <td>0</td>\n",
       "      <td>0</td>\n",
       "    </tr>\n",
       "    <tr>\n",
       "      <th>TSX:AGI</th>\n",
       "      <td>Alamos Gold Inc. (TSX:AGI)</td>\n",
       "      <td>4455.5</td>\n",
       "      <td>889.4</td>\n",
       "      <td>4.0</td>\n",
       "      <td>0</td>\n",
       "      <td>0</td>\n",
       "      <td>0</td>\n",
       "      <td>0</td>\n",
       "      <td>0</td>\n",
       "      <td>0</td>\n",
       "      <td>0</td>\n",
       "      <td>0</td>\n",
       "      <td>1</td>\n",
       "      <td>0</td>\n",
       "      <td>0</td>\n",
       "    </tr>\n",
       "  </tbody>\n",
       "</table>\n",
       "</div>"
      ],
      "text/plain": [
       "                                           Name  TotalAssets  TotalRevenue  \\\n",
       "Ticker                                                                       \n",
       "NYSE:AEM  Agnico Eagle Mines Limited (NYSE:AEM)      10715.5        2990.0   \n",
       "TSX:AC                      Air Canada (TSX:AC)      19197.0       18065.0   \n",
       "TSX:AGI              Alamos Gold Inc. (TSX:AGI)       4455.5         889.4   \n",
       "\n",
       "          GeographicSegments  PrimarySector_Communication Services  \\\n",
       "Ticker                                                               \n",
       "NYSE:AEM                 5.0                                     0   \n",
       "TSX:AC                   5.0                                     0   \n",
       "TSX:AGI                  4.0                                     0   \n",
       "\n",
       "          PrimarySector_Consumer Discretionary  \\\n",
       "Ticker                                           \n",
       "NYSE:AEM                                     0   \n",
       "TSX:AC                                       0   \n",
       "TSX:AGI                                      0   \n",
       "\n",
       "          PrimarySector_Consumer Staples  PrimarySector_Energy  \\\n",
       "Ticker                                                           \n",
       "NYSE:AEM                               0                     0   \n",
       "TSX:AC                                 0                     0   \n",
       "TSX:AGI                                0                     0   \n",
       "\n",
       "          PrimarySector_Financials  PrimarySector_Health Care  \\\n",
       "Ticker                                                          \n",
       "NYSE:AEM                         0                          0   \n",
       "TSX:AC                           0                          0   \n",
       "TSX:AGI                          0                          0   \n",
       "\n",
       "          PrimarySector_Industrials  PrimarySector_Information Technology  \\\n",
       "Ticker                                                                      \n",
       "NYSE:AEM                          0                                     0   \n",
       "TSX:AC                            1                                     0   \n",
       "TSX:AGI                           0                                     0   \n",
       "\n",
       "          PrimarySector_Materials  PrimarySector_Real Estate  \\\n",
       "Ticker                                                         \n",
       "NYSE:AEM                        1                          0   \n",
       "TSX:AC                          0                          0   \n",
       "TSX:AGI                         1                          0   \n",
       "\n",
       "          PrimarySector_Utilities  \n",
       "Ticker                             \n",
       "NYSE:AEM                        0  \n",
       "TSX:AC                          0  \n",
       "TSX:AGI                         0  "
      ]
     },
     "execution_count": 28,
     "metadata": {},
     "output_type": "execute_result"
    }
   ],
   "source": [
    "# Create dummy variables\n",
    "dummy_df = pd.get_dummies(df1,columns=['PrimarySector'])\n",
    "print(dummy_df.columns)\n",
    "dummy_df.head(3)"
   ]
  },
  {
   "cell_type": "code",
   "execution_count": 29,
   "metadata": {},
   "outputs": [
    {
     "name": "stdout",
     "output_type": "stream",
     "text": [
      "                                                   Name  TotalAssets  \\\n",
      "Ticker                                                                 \n",
      "TSX:MG                Magna International Inc. (TSX:MG)      35403.0   \n",
      "TSX:ATD.B     Alimentation Couche-Tard Inc. (TSX:ATD.B)      30426.3   \n",
      "TSX:BAM.A  Brookfield Asset Management Inc. (TSX:BAM.A)     349705.7   \n",
      "\n",
      "           TotalRevenue  GeographicSegments           PrimarySector  \\\n",
      "Ticker                                                                \n",
      "TSX:MG          55710.1                20.0  Consumer Discretionary   \n",
      "TSX:ATD.B       79562.8                 3.0        Consumer Staples   \n",
      "TSX:BAM.A       79975.7                 9.0              Financials   \n",
      "\n",
      "          RevenueLevels  \n",
      "Ticker                   \n",
      "TSX:MG             High  \n",
      "TSX:ATD.B          High  \n",
      "TSX:BAM.A          High  \n"
     ]
    }
   ],
   "source": [
    "# Create bins\n",
    "df1['RevenueLevels']=pd.cut(df1.TotalRevenue,3, labels=['Low', 'Medium', 'High'])\n",
    "print(df1.loc[df1.RevenueLevels=='High'].sample(3))"
   ]
  },
  {
   "cell_type": "code",
   "execution_count": 30,
   "metadata": {
    "scrolled": false
   },
   "outputs": [
    {
     "data": {
      "text/html": [
       "<div>\n",
       "<style scoped>\n",
       "    .dataframe tbody tr th:only-of-type {\n",
       "        vertical-align: middle;\n",
       "    }\n",
       "\n",
       "    .dataframe tbody tr th {\n",
       "        vertical-align: top;\n",
       "    }\n",
       "\n",
       "    .dataframe thead th {\n",
       "        text-align: right;\n",
       "    }\n",
       "</style>\n",
       "<table border=\"1\" class=\"dataframe\">\n",
       "  <thead>\n",
       "    <tr style=\"text-align: right;\">\n",
       "      <th></th>\n",
       "      <th>TotalAssets</th>\n",
       "      <th>TotalRevenue</th>\n",
       "      <th>GeographicSegments</th>\n",
       "    </tr>\n",
       "  </thead>\n",
       "  <tbody>\n",
       "    <tr>\n",
       "      <th>TotalAssets</th>\n",
       "      <td>1.000000</td>\n",
       "      <td>0.46042</td>\n",
       "      <td>-0.022675</td>\n",
       "    </tr>\n",
       "    <tr>\n",
       "      <th>TotalRevenue</th>\n",
       "      <td>0.460420</td>\n",
       "      <td>1.00000</td>\n",
       "      <td>0.092280</td>\n",
       "    </tr>\n",
       "    <tr>\n",
       "      <th>GeographicSegments</th>\n",
       "      <td>-0.022675</td>\n",
       "      <td>0.09228</td>\n",
       "      <td>1.000000</td>\n",
       "    </tr>\n",
       "  </tbody>\n",
       "</table>\n",
       "</div>"
      ],
      "text/plain": [
       "                    TotalAssets  TotalRevenue  GeographicSegments\n",
       "TotalAssets            1.000000       0.46042           -0.022675\n",
       "TotalRevenue           0.460420       1.00000            0.092280\n",
       "GeographicSegments    -0.022675       0.09228            1.000000"
      ]
     },
     "execution_count": 30,
     "metadata": {},
     "output_type": "execute_result"
    }
   ],
   "source": [
    "# Correlation matrix\n",
    "df1.corr()"
   ]
  },
  {
   "cell_type": "code",
   "execution_count": 32,
   "metadata": {},
   "outputs": [
    {
     "data": {
      "text/plain": [
       "\"rbc = df2.loc['TSX:RY']\\nprint(rbc)\\n\\nbigger_than_rbc = df2.loc[(df2.MarketCapitalization>rbc.MarketCapitalization) | (df2.NumberEmployees>rbc.NumberEmployees)]\\nbigger_than_rbc\""
      ]
     },
     "execution_count": 32,
     "metadata": {},
     "output_type": "execute_result"
    }
   ],
   "source": [
    "# Complex conditions \n",
    "rbc = df2.loc['TSX:RY']\n",
    "print(rbc)\n",
    "\n",
    "bigger_than_rbc = df2.loc[(df2.MarketCapitalization>rbc.MarketCapitalization) | (df2.NumberEmployees>rbc.NumberEmployees)]\n",
    "bigger_than_rbc"
   ]
  },
  {
   "cell_type": "code",
   "execution_count": 33,
   "metadata": {
    "scrolled": true
   },
   "outputs": [
    {
     "data": {
      "text/html": [
       "<div>\n",
       "<style scoped>\n",
       "    .dataframe tbody tr th:only-of-type {\n",
       "        vertical-align: middle;\n",
       "    }\n",
       "\n",
       "    .dataframe tbody tr th {\n",
       "        vertical-align: top;\n",
       "    }\n",
       "\n",
       "    .dataframe thead th {\n",
       "        text-align: right;\n",
       "    }\n",
       "</style>\n",
       "<table border=\"1\" class=\"dataframe\">\n",
       "  <thead>\n",
       "    <tr style=\"text-align: right;\">\n",
       "      <th></th>\n",
       "      <th>Name</th>\n",
       "      <th>GeographicSegments</th>\n",
       "      <th>International</th>\n",
       "    </tr>\n",
       "    <tr>\n",
       "      <th>Ticker</th>\n",
       "      <th></th>\n",
       "      <th></th>\n",
       "      <th></th>\n",
       "    </tr>\n",
       "  </thead>\n",
       "  <tbody>\n",
       "    <tr>\n",
       "      <th>TSX:SLF</th>\n",
       "      <td>Sun Life Financial Inc. (TSX:SLF)</td>\n",
       "      <td>NaN</td>\n",
       "      <td>False</td>\n",
       "    </tr>\n",
       "    <tr>\n",
       "      <th>TSX:AC</th>\n",
       "      <td>Air Canada (TSX:AC)</td>\n",
       "      <td>5.0</td>\n",
       "      <td>True</td>\n",
       "    </tr>\n",
       "    <tr>\n",
       "      <th>NYSE:QSR</th>\n",
       "      <td>Restaurant Brands International Inc. (NYSE:QSR)</td>\n",
       "      <td>3.0</td>\n",
       "      <td>False</td>\n",
       "    </tr>\n",
       "    <tr>\n",
       "      <th>TSX:CP</th>\n",
       "      <td>Canadian Pacific Railway Limited (TSX:CP)</td>\n",
       "      <td>2.0</td>\n",
       "      <td>False</td>\n",
       "    </tr>\n",
       "    <tr>\n",
       "      <th>TSX:CNQ</th>\n",
       "      <td>Canadian Natural Resources Limited (TSX:CNQ)</td>\n",
       "      <td>NaN</td>\n",
       "      <td>False</td>\n",
       "    </tr>\n",
       "    <tr>\n",
       "      <th>TSX:T</th>\n",
       "      <td>TELUS Corporation (TSX:T)</td>\n",
       "      <td>1.0</td>\n",
       "      <td>False</td>\n",
       "    </tr>\n",
       "    <tr>\n",
       "      <th>TSX:BYD.UN</th>\n",
       "      <td>Boyd Group Income Fund (TSX:BYD.UN)</td>\n",
       "      <td>2.0</td>\n",
       "      <td>False</td>\n",
       "    </tr>\n",
       "    <tr>\n",
       "      <th>TSX:ATD.B</th>\n",
       "      <td>Alimentation Couche-Tard Inc. (TSX:ATD.B)</td>\n",
       "      <td>3.0</td>\n",
       "      <td>False</td>\n",
       "    </tr>\n",
       "    <tr>\n",
       "      <th>TSX:ONEX</th>\n",
       "      <td>Onex Corporation (TSX:ONEX)</td>\n",
       "      <td>5.0</td>\n",
       "      <td>True</td>\n",
       "    </tr>\n",
       "    <tr>\n",
       "      <th>TSX:EMA</th>\n",
       "      <td>Emera Incorporated (TSX:EMA)</td>\n",
       "      <td>5.0</td>\n",
       "      <td>True</td>\n",
       "    </tr>\n",
       "  </tbody>\n",
       "</table>\n",
       "</div>"
      ],
      "text/plain": [
       "                                                       Name  \\\n",
       "Ticker                                                        \n",
       "TSX:SLF                   Sun Life Financial Inc. (TSX:SLF)   \n",
       "TSX:AC                                  Air Canada (TSX:AC)   \n",
       "NYSE:QSR    Restaurant Brands International Inc. (NYSE:QSR)   \n",
       "TSX:CP            Canadian Pacific Railway Limited (TSX:CP)   \n",
       "TSX:CNQ        Canadian Natural Resources Limited (TSX:CNQ)   \n",
       "TSX:T                             TELUS Corporation (TSX:T)   \n",
       "TSX:BYD.UN              Boyd Group Income Fund (TSX:BYD.UN)   \n",
       "TSX:ATD.B         Alimentation Couche-Tard Inc. (TSX:ATD.B)   \n",
       "TSX:ONEX                        Onex Corporation (TSX:ONEX)   \n",
       "TSX:EMA                        Emera Incorporated (TSX:EMA)   \n",
       "\n",
       "            GeographicSegments  International  \n",
       "Ticker                                         \n",
       "TSX:SLF                    NaN          False  \n",
       "TSX:AC                     5.0           True  \n",
       "NYSE:QSR                   3.0          False  \n",
       "TSX:CP                     2.0          False  \n",
       "TSX:CNQ                    NaN          False  \n",
       "TSX:T                      1.0          False  \n",
       "TSX:BYD.UN                 2.0          False  \n",
       "TSX:ATD.B                  3.0          False  \n",
       "TSX:ONEX                   5.0           True  \n",
       "TSX:EMA                    5.0           True  "
      ]
     },
     "execution_count": 33,
     "metadata": {},
     "output_type": "execute_result"
    }
   ],
   "source": [
    "# Create a new variable based on conditions\n",
    "df1['International']=np.where(df1.GeographicSegments>3, True, False) \n",
    "# Alternative ways of acheiving this same task: https://datatofish.com/if-condition-in-pandas-dataframe/\n",
    "\n",
    "df1[['Name','GeographicSegments', 'International']].sample(10)"
   ]
  },
  {
   "cell_type": "code",
   "execution_count": null,
   "metadata": {},
   "outputs": [],
   "source": [
    "# Exercise:\n",
    "# 1. Plot the distribution of GeographicSegments\n",
    "    # Comment on what you see\n",
    "    # Add a title\n",
    "    \n"
   ]
  },
  {
   "cell_type": "code",
   "execution_count": null,
   "metadata": {},
   "outputs": [],
   "source": [
    "# 2 How many companies have both larger market capitalization AND more employees than RBC?\n"
   ]
  }
 ],
 "metadata": {
  "kernelspec": {
   "display_name": "Python 3",
   "language": "python",
   "name": "python3"
  },
  "language_info": {
   "codemirror_mode": {
    "name": "ipython",
    "version": 3
   },
   "file_extension": ".py",
   "mimetype": "text/x-python",
   "name": "python",
   "nbconvert_exporter": "python",
   "pygments_lexer": "ipython3",
   "version": "3.6.5"
  }
 },
 "nbformat": 4,
 "nbformat_minor": 2
}
