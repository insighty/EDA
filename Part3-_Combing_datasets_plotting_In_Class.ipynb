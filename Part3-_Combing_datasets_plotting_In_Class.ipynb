{
 "cells": [
  {
   "cell_type": "code",
   "execution_count": 1,
   "metadata": {},
   "outputs": [],
   "source": [
    "# References:\n",
    "# User Guide - Merge, join, and concatenate: https://pandas.pydata.org/pandas-docs/stable/user_guide/merging.html\n",
    "# Data Schools top pandas tricks: https://nbviewer.jupyter.org/github/justmarkham/pandas-videos/blob/master/top_25_pandas_tricks.ipynb\n",
    "# Matplotlib basics: https://matplotlib.org/tutorials/introductory/pyplot.html#sphx-glr-tutorials-introductory-pyplot-py"
   ]
  },
  {
   "cell_type": "code",
   "execution_count": 2,
   "metadata": {},
   "outputs": [],
   "source": [
    "import pandas as pd\n",
    "import numpy as np\n",
    "import matplotlib.pyplot as plt\n",
    "path = 'C:\\\\Users\\\\K\\\\AIDeepDiveMaterials\\\\'"
   ]
  },
  {
   "cell_type": "code",
   "execution_count": 3,
   "metadata": {
    "scrolled": false
   },
   "outputs": [
    {
     "name": "stdout",
     "output_type": "stream",
     "text": [
      "(132, 5)\n"
     ]
    },
    {
     "data": {
      "text/html": [
       "<div>\n",
       "<style scoped>\n",
       "    .dataframe tbody tr th:only-of-type {\n",
       "        vertical-align: middle;\n",
       "    }\n",
       "\n",
       "    .dataframe tbody tr th {\n",
       "        vertical-align: top;\n",
       "    }\n",
       "\n",
       "    .dataframe thead th {\n",
       "        text-align: right;\n",
       "    }\n",
       "</style>\n",
       "<table border=\"1\" class=\"dataframe\">\n",
       "  <thead>\n",
       "    <tr style=\"text-align: right;\">\n",
       "      <th></th>\n",
       "      <th>Name</th>\n",
       "      <th>TotalAssets</th>\n",
       "      <th>TotalRevenue</th>\n",
       "      <th>GeographicSegments</th>\n",
       "      <th>PrimarySector</th>\n",
       "    </tr>\n",
       "    <tr>\n",
       "      <th>Ticker</th>\n",
       "      <th></th>\n",
       "      <th></th>\n",
       "      <th></th>\n",
       "      <th></th>\n",
       "      <th></th>\n",
       "    </tr>\n",
       "  </thead>\n",
       "  <tbody>\n",
       "    <tr>\n",
       "      <th>NYSE:AEM</th>\n",
       "      <td>Agnico Eagle Mines Limited (NYSE:AEM)</td>\n",
       "      <td>10715.5</td>\n",
       "      <td>2990.0</td>\n",
       "      <td>5.0</td>\n",
       "      <td>Materials</td>\n",
       "    </tr>\n",
       "    <tr>\n",
       "      <th>TSX:AC</th>\n",
       "      <td>Air Canada (TSX:AC)</td>\n",
       "      <td>19197.0</td>\n",
       "      <td>18065.0</td>\n",
       "      <td>5.0</td>\n",
       "      <td>Industrials</td>\n",
       "    </tr>\n",
       "    <tr>\n",
       "      <th>TSX:AGI</th>\n",
       "      <td>Alamos Gold Inc. (TSX:AGI)</td>\n",
       "      <td>4455.5</td>\n",
       "      <td>889.4</td>\n",
       "      <td>4.0</td>\n",
       "      <td>Materials</td>\n",
       "    </tr>\n",
       "    <tr>\n",
       "      <th>TSX:AQN</th>\n",
       "      <td>Algonquin Power &amp; Utilities Corp. (TSX:AQN)</td>\n",
       "      <td>12811.6</td>\n",
       "      <td>2247.9</td>\n",
       "      <td>2.0</td>\n",
       "      <td>Utilities</td>\n",
       "    </tr>\n",
       "    <tr>\n",
       "      <th>TSX:ATD.B</th>\n",
       "      <td>Alimentation Couche-Tard Inc. (TSX:ATD.B)</td>\n",
       "      <td>30426.3</td>\n",
       "      <td>79562.8</td>\n",
       "      <td>3.0</td>\n",
       "      <td>Consumer Staples</td>\n",
       "    </tr>\n",
       "  </tbody>\n",
       "</table>\n",
       "</div>"
      ],
      "text/plain": [
       "                                                  Name  TotalAssets  \\\n",
       "Ticker                                                                \n",
       "NYSE:AEM         Agnico Eagle Mines Limited (NYSE:AEM)      10715.5   \n",
       "TSX:AC                             Air Canada (TSX:AC)      19197.0   \n",
       "TSX:AGI                     Alamos Gold Inc. (TSX:AGI)       4455.5   \n",
       "TSX:AQN    Algonquin Power & Utilities Corp. (TSX:AQN)      12811.6   \n",
       "TSX:ATD.B    Alimentation Couche-Tard Inc. (TSX:ATD.B)      30426.3   \n",
       "\n",
       "           TotalRevenue  GeographicSegments     PrimarySector  \n",
       "Ticker                                                         \n",
       "NYSE:AEM         2990.0                 5.0         Materials  \n",
       "TSX:AC          18065.0                 5.0       Industrials  \n",
       "TSX:AGI           889.4                 4.0         Materials  \n",
       "TSX:AQN          2247.9                 2.0         Utilities  \n",
       "TSX:ATD.B       79562.8                 3.0  Consumer Staples  "
      ]
     },
     "execution_count": 3,
     "metadata": {},
     "output_type": "execute_result"
    }
   ],
   "source": [
    "df1 = pd.read_csv(path+'SPTSXComposite.csv', index_col='Ticker')\n",
    "print(df1.shape)\n",
    "df1.head()"
   ]
  },
  {
   "cell_type": "code",
   "execution_count": 4,
   "metadata": {
    "scrolled": true
   },
   "outputs": [
    {
     "data": {
      "text/html": [
       "<div>\n",
       "<style scoped>\n",
       "    .dataframe tbody tr th:only-of-type {\n",
       "        vertical-align: middle;\n",
       "    }\n",
       "\n",
       "    .dataframe tbody tr th {\n",
       "        vertical-align: top;\n",
       "    }\n",
       "\n",
       "    .dataframe thead th {\n",
       "        text-align: right;\n",
       "    }\n",
       "</style>\n",
       "<table border=\"1\" class=\"dataframe\">\n",
       "  <thead>\n",
       "    <tr style=\"text-align: right;\">\n",
       "      <th></th>\n",
       "      <th>Ticker</th>\n",
       "      <th>Name</th>\n",
       "      <th>MarketCapitalization</th>\n",
       "      <th>NumberEmployees</th>\n",
       "    </tr>\n",
       "  </thead>\n",
       "  <tbody>\n",
       "    <tr>\n",
       "      <th>0</th>\n",
       "      <td>NYSE:AEM</td>\n",
       "      <td>Agnico Eagle Mines Limited (NYSE:AEM)</td>\n",
       "      <td>15892.5</td>\n",
       "      <td>5990.0</td>\n",
       "    </tr>\n",
       "    <tr>\n",
       "      <th>1</th>\n",
       "      <td>TSX:AC</td>\n",
       "      <td>Air Canada (TSX:AC)</td>\n",
       "      <td>11338.6</td>\n",
       "      <td>32600.0</td>\n",
       "    </tr>\n",
       "    <tr>\n",
       "      <th>2</th>\n",
       "      <td>TSX:AGI</td>\n",
       "      <td>Alamos Gold Inc. (TSX:AGI)</td>\n",
       "      <td>3151.9</td>\n",
       "      <td>1700.0</td>\n",
       "    </tr>\n",
       "    <tr>\n",
       "      <th>3</th>\n",
       "      <td>TSX:AQN</td>\n",
       "      <td>Algonquin Power &amp; Utilities Corp. (TSX:AQN)</td>\n",
       "      <td>8000.0</td>\n",
       "      <td>2277.0</td>\n",
       "    </tr>\n",
       "    <tr>\n",
       "      <th>4</th>\n",
       "      <td>TSX:ATD.B</td>\n",
       "      <td>Alimentation Couche-Tard Inc. (TSX:ATD.B)</td>\n",
       "      <td>47281.4</td>\n",
       "      <td>133000.0</td>\n",
       "    </tr>\n",
       "  </tbody>\n",
       "</table>\n",
       "</div>"
      ],
      "text/plain": [
       "      Ticker                                         Name  \\\n",
       "0   NYSE:AEM        Agnico Eagle Mines Limited (NYSE:AEM)   \n",
       "1     TSX:AC                          Air Canada (TSX:AC)   \n",
       "2    TSX:AGI                   Alamos Gold Inc. (TSX:AGI)   \n",
       "3    TSX:AQN  Algonquin Power & Utilities Corp. (TSX:AQN)   \n",
       "4  TSX:ATD.B    Alimentation Couche-Tard Inc. (TSX:ATD.B)   \n",
       "\n",
       "   MarketCapitalization  NumberEmployees  \n",
       "0               15892.5           5990.0  \n",
       "1               11338.6          32600.0  \n",
       "2                3151.9           1700.0  \n",
       "3                8000.0           2277.0  \n",
       "4               47281.4         133000.0  "
      ]
     },
     "execution_count": 4,
     "metadata": {},
     "output_type": "execute_result"
    }
   ],
   "source": [
    "df2 = pd.read_csv(path+'SPTSXCap_Employees.csv')\n",
    "df2.head()"
   ]
  },
  {
   "cell_type": "code",
   "execution_count": 5,
   "metadata": {},
   "outputs": [
    {
     "name": "stdout",
     "output_type": "stream",
     "text": [
      "(142, 4)\n"
     ]
    }
   ],
   "source": [
    "print(df2.shape)"
   ]
  },
  {
   "cell_type": "code",
   "execution_count": 6,
   "metadata": {},
   "outputs": [],
   "source": [
    "# Drop columns, rows, duplicates"
   ]
  },
  {
   "cell_type": "code",
   "execution_count": 7,
   "metadata": {
    "scrolled": true
   },
   "outputs": [
    {
     "data": {
      "text/plain": [
       "0    False\n",
       "1    False\n",
       "2    False\n",
       "3    False\n",
       "4    False\n",
       "dtype: bool"
      ]
     },
     "execution_count": 7,
     "metadata": {},
     "output_type": "execute_result"
    }
   ],
   "source": [
    "df2.duplicated()[:5]"
   ]
  },
  {
   "cell_type": "code",
   "execution_count": 8,
   "metadata": {
    "scrolled": true
   },
   "outputs": [
    {
     "data": {
      "text/html": [
       "<div>\n",
       "<style scoped>\n",
       "    .dataframe tbody tr th:only-of-type {\n",
       "        vertical-align: middle;\n",
       "    }\n",
       "\n",
       "    .dataframe tbody tr th {\n",
       "        vertical-align: top;\n",
       "    }\n",
       "\n",
       "    .dataframe thead th {\n",
       "        text-align: right;\n",
       "    }\n",
       "</style>\n",
       "<table border=\"1\" class=\"dataframe\">\n",
       "  <thead>\n",
       "    <tr style=\"text-align: right;\">\n",
       "      <th></th>\n",
       "      <th>Ticker</th>\n",
       "      <th>Name</th>\n",
       "      <th>MarketCapitalization</th>\n",
       "      <th>NumberEmployees</th>\n",
       "    </tr>\n",
       "  </thead>\n",
       "  <tbody>\n",
       "    <tr>\n",
       "      <th>132</th>\n",
       "      <td>TSX:ACB</td>\n",
       "      <td>Aurora Cannabis Inc. (TSX:ACB)</td>\n",
       "      <td>8958.5</td>\n",
       "      <td>967.0</td>\n",
       "    </tr>\n",
       "    <tr>\n",
       "      <th>133</th>\n",
       "      <td>TSX:BTO</td>\n",
       "      <td>B2Gold Corp. (TSX:BTO)</td>\n",
       "      <td>4105.6</td>\n",
       "      <td>3168.0</td>\n",
       "    </tr>\n",
       "    <tr>\n",
       "      <th>134</th>\n",
       "      <td>NasdaqGS:OTEX</td>\n",
       "      <td>Open Text Corporation (NasdaqGS:OTEX)</td>\n",
       "      <td>14905.9</td>\n",
       "      <td>13100.0</td>\n",
       "    </tr>\n",
       "    <tr>\n",
       "      <th>135</th>\n",
       "      <td>TSX:PAAS</td>\n",
       "      <td>Pan American Silver Corp. (TSX:PAAS)</td>\n",
       "      <td>3565.0</td>\n",
       "      <td>4530.0</td>\n",
       "    </tr>\n",
       "    <tr>\n",
       "      <th>136</th>\n",
       "      <td>TSX:PXT</td>\n",
       "      <td>Parex Resources Inc. (TSX:PXT)</td>\n",
       "      <td>3129.7</td>\n",
       "      <td>279.0</td>\n",
       "    </tr>\n",
       "    <tr>\n",
       "      <th>137</th>\n",
       "      <td>TSX:TSGI</td>\n",
       "      <td>The Stars Group Inc. (TSX:TSGI)</td>\n",
       "      <td>6113.9</td>\n",
       "      <td>4516.0</td>\n",
       "    </tr>\n",
       "    <tr>\n",
       "      <th>138</th>\n",
       "      <td>TSX:TD</td>\n",
       "      <td>The Toronto-Dominion Bank (TSX:TD)</td>\n",
       "      <td>139949.9</td>\n",
       "      <td>87999.0</td>\n",
       "    </tr>\n",
       "    <tr>\n",
       "      <th>139</th>\n",
       "      <td>TSX:EMA</td>\n",
       "      <td>Emera Incorporated (TSX:EMA)</td>\n",
       "      <td>12873.1</td>\n",
       "      <td>7523.0</td>\n",
       "    </tr>\n",
       "    <tr>\n",
       "      <th>140</th>\n",
       "      <td>TSX:EMP.A</td>\n",
       "      <td>Empire Company Limited (TSX:EMP.A)</td>\n",
       "      <td>9112.5</td>\n",
       "      <td>123000.0</td>\n",
       "    </tr>\n",
       "    <tr>\n",
       "      <th>141</th>\n",
       "      <td>TSX:GOOS</td>\n",
       "      <td>Canada Goose Holdings Inc. (TSX:GOOS)</td>\n",
       "      <td>6254.2</td>\n",
       "      <td>3932.0</td>\n",
       "    </tr>\n",
       "  </tbody>\n",
       "</table>\n",
       "</div>"
      ],
      "text/plain": [
       "            Ticker                                   Name  \\\n",
       "132        TSX:ACB         Aurora Cannabis Inc. (TSX:ACB)   \n",
       "133        TSX:BTO                 B2Gold Corp. (TSX:BTO)   \n",
       "134  NasdaqGS:OTEX  Open Text Corporation (NasdaqGS:OTEX)   \n",
       "135       TSX:PAAS   Pan American Silver Corp. (TSX:PAAS)   \n",
       "136        TSX:PXT         Parex Resources Inc. (TSX:PXT)   \n",
       "137       TSX:TSGI        The Stars Group Inc. (TSX:TSGI)   \n",
       "138         TSX:TD     The Toronto-Dominion Bank (TSX:TD)   \n",
       "139        TSX:EMA           Emera Incorporated (TSX:EMA)   \n",
       "140      TSX:EMP.A     Empire Company Limited (TSX:EMP.A)   \n",
       "141       TSX:GOOS  Canada Goose Holdings Inc. (TSX:GOOS)   \n",
       "\n",
       "     MarketCapitalization  NumberEmployees  \n",
       "132                8958.5            967.0  \n",
       "133                4105.6           3168.0  \n",
       "134               14905.9          13100.0  \n",
       "135                3565.0           4530.0  \n",
       "136                3129.7            279.0  \n",
       "137                6113.9           4516.0  \n",
       "138              139949.9          87999.0  \n",
       "139               12873.1           7523.0  \n",
       "140                9112.5         123000.0  \n",
       "141                6254.2           3932.0  "
      ]
     },
     "execution_count": 8,
     "metadata": {},
     "output_type": "execute_result"
    }
   ],
   "source": [
    "df2.loc[df2.duplicated()]"
   ]
  },
  {
   "cell_type": "code",
   "execution_count": 9,
   "metadata": {
    "scrolled": false
   },
   "outputs": [
    {
     "name": "stdout",
     "output_type": "stream",
     "text": [
      "(132, 4)\n"
     ]
    }
   ],
   "source": [
    "df2 = df2.drop_duplicates(keep='first')\n",
    "print(df2.shape)"
   ]
  },
  {
   "cell_type": "code",
   "execution_count": 10,
   "metadata": {},
   "outputs": [
    {
     "name": "stdout",
     "output_type": "stream",
     "text": [
      "Index(['NYSE:AEM', 'TSX:AC', 'TSX:AGI', 'TSX:AQN', 'TSX:ATD.B', 'TSX:AP.UN',\n",
      "       'TSX:ALA', 'TSX:ACO.X', 'TSX:ACB', 'TSX:BTO',\n",
      "       ...\n",
      "       'TSX:TIH', 'TSX:TOU', 'TSX:RNW', 'TSX:VET', 'NYSE:WCN', 'TSX:WFT',\n",
      "       'TSX:WJA', 'TSX:WPM', 'TSX:WSP', 'TSX:YRI'],\n",
      "      dtype='object', name='Ticker', length=132)\n",
      "Int64Index([  0,   1,   2,   3,   4,   5,   6,   7,   8,   9,\n",
      "            ...\n",
      "            122, 123, 124, 125, 126, 127, 128, 129, 130, 131],\n",
      "           dtype='int64', length=132)\n"
     ]
    }
   ],
   "source": [
    "# Exercise: \n",
    "# 1. Determine the current the current index labels for both dataframes\n",
    "print(df1.index)\n",
    "print(df2.index)"
   ]
  },
  {
   "cell_type": "code",
   "execution_count": 11,
   "metadata": {},
   "outputs": [
    {
     "data": {
      "text/plain": [
       "Index(['NYSE:AEM', 'TSX:AC', 'TSX:AGI', 'TSX:AQN', 'TSX:ATD.B', 'TSX:AP.UN',\n",
       "       'TSX:ALA', 'TSX:ACO.X', 'TSX:ACB', 'TSX:BTO',\n",
       "       ...\n",
       "       'TSX:TIH', 'TSX:TOU', 'TSX:RNW', 'TSX:VET', 'NYSE:WCN', 'TSX:WFT',\n",
       "       'TSX:WJA', 'TSX:WPM', 'TSX:WSP', 'TSX:YRI'],\n",
       "      dtype='object', name='Ticker', length=132)"
      ]
     },
     "execution_count": 11,
     "metadata": {},
     "output_type": "execute_result"
    }
   ],
   "source": [
    "# 2. Set the indices to 'Ticker', if not already\n",
    "\n",
    "df2 = df2.set_index('Ticker')\n",
    "\n",
    "df2.index"
   ]
  },
  {
   "cell_type": "code",
   "execution_count": 12,
   "metadata": {
    "scrolled": true
   },
   "outputs": [
    {
     "name": "stdout",
     "output_type": "stream",
     "text": [
      "(132, 8)\n"
     ]
    },
    {
     "data": {
      "text/html": [
       "<div>\n",
       "<style scoped>\n",
       "    .dataframe tbody tr th:only-of-type {\n",
       "        vertical-align: middle;\n",
       "    }\n",
       "\n",
       "    .dataframe tbody tr th {\n",
       "        vertical-align: top;\n",
       "    }\n",
       "\n",
       "    .dataframe thead th {\n",
       "        text-align: right;\n",
       "    }\n",
       "</style>\n",
       "<table border=\"1\" class=\"dataframe\">\n",
       "  <thead>\n",
       "    <tr style=\"text-align: right;\">\n",
       "      <th></th>\n",
       "      <th>Name_x</th>\n",
       "      <th>TotalAssets</th>\n",
       "      <th>TotalRevenue</th>\n",
       "      <th>GeographicSegments</th>\n",
       "      <th>PrimarySector</th>\n",
       "      <th>Name_y</th>\n",
       "      <th>MarketCapitalization</th>\n",
       "      <th>NumberEmployees</th>\n",
       "    </tr>\n",
       "    <tr>\n",
       "      <th>Ticker</th>\n",
       "      <th></th>\n",
       "      <th></th>\n",
       "      <th></th>\n",
       "      <th></th>\n",
       "      <th></th>\n",
       "      <th></th>\n",
       "      <th></th>\n",
       "      <th></th>\n",
       "    </tr>\n",
       "  </thead>\n",
       "  <tbody>\n",
       "    <tr>\n",
       "      <th>NYSE:AEM</th>\n",
       "      <td>Agnico Eagle Mines Limited (NYSE:AEM)</td>\n",
       "      <td>10715.5</td>\n",
       "      <td>2990.0</td>\n",
       "      <td>5.0</td>\n",
       "      <td>Materials</td>\n",
       "      <td>Agnico Eagle Mines Limited (NYSE:AEM)</td>\n",
       "      <td>15892.5</td>\n",
       "      <td>5990.0</td>\n",
       "    </tr>\n",
       "    <tr>\n",
       "      <th>TSX:AC</th>\n",
       "      <td>Air Canada (TSX:AC)</td>\n",
       "      <td>19197.0</td>\n",
       "      <td>18065.0</td>\n",
       "      <td>5.0</td>\n",
       "      <td>Industrials</td>\n",
       "      <td>Air Canada (TSX:AC)</td>\n",
       "      <td>11338.6</td>\n",
       "      <td>32600.0</td>\n",
       "    </tr>\n",
       "    <tr>\n",
       "      <th>TSX:AGI</th>\n",
       "      <td>Alamos Gold Inc. (TSX:AGI)</td>\n",
       "      <td>4455.5</td>\n",
       "      <td>889.4</td>\n",
       "      <td>4.0</td>\n",
       "      <td>Materials</td>\n",
       "      <td>Alamos Gold Inc. (TSX:AGI)</td>\n",
       "      <td>3151.9</td>\n",
       "      <td>1700.0</td>\n",
       "    </tr>\n",
       "  </tbody>\n",
       "</table>\n",
       "</div>"
      ],
      "text/plain": [
       "                                         Name_x  TotalAssets  TotalRevenue  \\\n",
       "Ticker                                                                       \n",
       "NYSE:AEM  Agnico Eagle Mines Limited (NYSE:AEM)      10715.5        2990.0   \n",
       "TSX:AC                      Air Canada (TSX:AC)      19197.0       18065.0   \n",
       "TSX:AGI              Alamos Gold Inc. (TSX:AGI)       4455.5         889.4   \n",
       "\n",
       "          GeographicSegments PrimarySector  \\\n",
       "Ticker                                       \n",
       "NYSE:AEM                 5.0     Materials   \n",
       "TSX:AC                   5.0   Industrials   \n",
       "TSX:AGI                  4.0     Materials   \n",
       "\n",
       "                                         Name_y  MarketCapitalization  \\\n",
       "Ticker                                                                  \n",
       "NYSE:AEM  Agnico Eagle Mines Limited (NYSE:AEM)               15892.5   \n",
       "TSX:AC                      Air Canada (TSX:AC)               11338.6   \n",
       "TSX:AGI              Alamos Gold Inc. (TSX:AGI)                3151.9   \n",
       "\n",
       "          NumberEmployees  \n",
       "Ticker                     \n",
       "NYSE:AEM           5990.0  \n",
       "TSX:AC            32600.0  \n",
       "TSX:AGI            1700.0  "
      ]
     },
     "execution_count": 12,
     "metadata": {},
     "output_type": "execute_result"
    }
   ],
   "source": [
    "# Merging - SQL like\n",
    "df3 = pd.merge(df1,df2, on='Ticker', how='left')\n",
    "print(df3.shape)\n",
    "df3.head(3)\n",
    "\n",
    "# Note automatix suffix"
   ]
  },
  {
   "cell_type": "code",
   "execution_count": 13,
   "metadata": {},
   "outputs": [
    {
     "name": "stdout",
     "output_type": "stream",
     "text": [
      "(132, 8)\n"
     ]
    },
    {
     "data": {
      "text/html": [
       "<div>\n",
       "<style scoped>\n",
       "    .dataframe tbody tr th:only-of-type {\n",
       "        vertical-align: middle;\n",
       "    }\n",
       "\n",
       "    .dataframe tbody tr th {\n",
       "        vertical-align: top;\n",
       "    }\n",
       "\n",
       "    .dataframe thead th {\n",
       "        text-align: right;\n",
       "    }\n",
       "</style>\n",
       "<table border=\"1\" class=\"dataframe\">\n",
       "  <thead>\n",
       "    <tr style=\"text-align: right;\">\n",
       "      <th></th>\n",
       "      <th>Name</th>\n",
       "      <th>TotalAssets</th>\n",
       "      <th>TotalRevenue</th>\n",
       "      <th>GeographicSegments</th>\n",
       "      <th>PrimarySector</th>\n",
       "      <th>Name2</th>\n",
       "      <th>MarketCapitalization</th>\n",
       "      <th>NumberEmployees</th>\n",
       "    </tr>\n",
       "    <tr>\n",
       "      <th>Ticker</th>\n",
       "      <th></th>\n",
       "      <th></th>\n",
       "      <th></th>\n",
       "      <th></th>\n",
       "      <th></th>\n",
       "      <th></th>\n",
       "      <th></th>\n",
       "      <th></th>\n",
       "    </tr>\n",
       "  </thead>\n",
       "  <tbody>\n",
       "    <tr>\n",
       "      <th>NYSE:AEM</th>\n",
       "      <td>Agnico Eagle Mines Limited (NYSE:AEM)</td>\n",
       "      <td>10715.5</td>\n",
       "      <td>2990.0</td>\n",
       "      <td>5.0</td>\n",
       "      <td>Materials</td>\n",
       "      <td>Agnico Eagle Mines Limited (NYSE:AEM)</td>\n",
       "      <td>15892.5</td>\n",
       "      <td>5990.0</td>\n",
       "    </tr>\n",
       "    <tr>\n",
       "      <th>TSX:AC</th>\n",
       "      <td>Air Canada (TSX:AC)</td>\n",
       "      <td>19197.0</td>\n",
       "      <td>18065.0</td>\n",
       "      <td>5.0</td>\n",
       "      <td>Industrials</td>\n",
       "      <td>Air Canada (TSX:AC)</td>\n",
       "      <td>11338.6</td>\n",
       "      <td>32600.0</td>\n",
       "    </tr>\n",
       "    <tr>\n",
       "      <th>TSX:AGI</th>\n",
       "      <td>Alamos Gold Inc. (TSX:AGI)</td>\n",
       "      <td>4455.5</td>\n",
       "      <td>889.4</td>\n",
       "      <td>4.0</td>\n",
       "      <td>Materials</td>\n",
       "      <td>Alamos Gold Inc. (TSX:AGI)</td>\n",
       "      <td>3151.9</td>\n",
       "      <td>1700.0</td>\n",
       "    </tr>\n",
       "    <tr>\n",
       "      <th>TSX:AQN</th>\n",
       "      <td>Algonquin Power &amp; Utilities Corp. (TSX:AQN)</td>\n",
       "      <td>12811.6</td>\n",
       "      <td>2247.9</td>\n",
       "      <td>2.0</td>\n",
       "      <td>Utilities</td>\n",
       "      <td>Algonquin Power &amp; Utilities Corp. (TSX:AQN)</td>\n",
       "      <td>8000.0</td>\n",
       "      <td>2277.0</td>\n",
       "    </tr>\n",
       "    <tr>\n",
       "      <th>TSX:ATD.B</th>\n",
       "      <td>Alimentation Couche-Tard Inc. (TSX:ATD.B)</td>\n",
       "      <td>30426.3</td>\n",
       "      <td>79562.8</td>\n",
       "      <td>3.0</td>\n",
       "      <td>Consumer Staples</td>\n",
       "      <td>Alimentation Couche-Tard Inc. (TSX:ATD.B)</td>\n",
       "      <td>47281.4</td>\n",
       "      <td>133000.0</td>\n",
       "    </tr>\n",
       "  </tbody>\n",
       "</table>\n",
       "</div>"
      ],
      "text/plain": [
       "                                                  Name  TotalAssets  \\\n",
       "Ticker                                                                \n",
       "NYSE:AEM         Agnico Eagle Mines Limited (NYSE:AEM)      10715.5   \n",
       "TSX:AC                             Air Canada (TSX:AC)      19197.0   \n",
       "TSX:AGI                     Alamos Gold Inc. (TSX:AGI)       4455.5   \n",
       "TSX:AQN    Algonquin Power & Utilities Corp. (TSX:AQN)      12811.6   \n",
       "TSX:ATD.B    Alimentation Couche-Tard Inc. (TSX:ATD.B)      30426.3   \n",
       "\n",
       "           TotalRevenue  GeographicSegments     PrimarySector  \\\n",
       "Ticker                                                          \n",
       "NYSE:AEM         2990.0                 5.0         Materials   \n",
       "TSX:AC          18065.0                 5.0       Industrials   \n",
       "TSX:AGI           889.4                 4.0         Materials   \n",
       "TSX:AQN          2247.9                 2.0         Utilities   \n",
       "TSX:ATD.B       79562.8                 3.0  Consumer Staples   \n",
       "\n",
       "                                                 Name2  MarketCapitalization  \\\n",
       "Ticker                                                                         \n",
       "NYSE:AEM         Agnico Eagle Mines Limited (NYSE:AEM)               15892.5   \n",
       "TSX:AC                             Air Canada (TSX:AC)               11338.6   \n",
       "TSX:AGI                     Alamos Gold Inc. (TSX:AGI)                3151.9   \n",
       "TSX:AQN    Algonquin Power & Utilities Corp. (TSX:AQN)                8000.0   \n",
       "TSX:ATD.B    Alimentation Couche-Tard Inc. (TSX:ATD.B)               47281.4   \n",
       "\n",
       "           NumberEmployees  \n",
       "Ticker                      \n",
       "NYSE:AEM            5990.0  \n",
       "TSX:AC             32600.0  \n",
       "TSX:AGI             1700.0  \n",
       "TSX:AQN             2277.0  \n",
       "TSX:ATD.B         133000.0  "
      ]
     },
     "execution_count": 13,
     "metadata": {},
     "output_type": "execute_result"
    }
   ],
   "source": [
    "# Join - very similar to merge but \"on\" defaults to index\n",
    "df3 = df1.join(df2, how='left', rsuffix='2') # Suffix must be supplied if columns of the same name exist in both\n",
    "print(df3.shape)\n",
    "df3.head()"
   ]
  },
  {
   "cell_type": "code",
   "execution_count": 14,
   "metadata": {
    "scrolled": false
   },
   "outputs": [
    {
     "data": {
      "text/html": [
       "<div>\n",
       "<style scoped>\n",
       "    .dataframe tbody tr th:only-of-type {\n",
       "        vertical-align: middle;\n",
       "    }\n",
       "\n",
       "    .dataframe tbody tr th {\n",
       "        vertical-align: top;\n",
       "    }\n",
       "\n",
       "    .dataframe thead th {\n",
       "        text-align: right;\n",
       "    }\n",
       "</style>\n",
       "<table border=\"1\" class=\"dataframe\">\n",
       "  <thead>\n",
       "    <tr style=\"text-align: right;\">\n",
       "      <th></th>\n",
       "      <th>Name</th>\n",
       "      <th>TotalAssets</th>\n",
       "      <th>TotalRevenue</th>\n",
       "      <th>GeographicSegments</th>\n",
       "      <th>PrimarySector</th>\n",
       "    </tr>\n",
       "    <tr>\n",
       "      <th>Ticker</th>\n",
       "      <th></th>\n",
       "      <th></th>\n",
       "      <th></th>\n",
       "      <th></th>\n",
       "      <th></th>\n",
       "    </tr>\n",
       "  </thead>\n",
       "  <tbody>\n",
       "    <tr>\n",
       "      <th>TSX:TD</th>\n",
       "      <td>The Toronto-Dominion Bank (TSX:TD)</td>\n",
       "      <td>1334903.0</td>\n",
       "      <td>36354.0</td>\n",
       "      <td>3.0</td>\n",
       "      <td>Financials</td>\n",
       "    </tr>\n",
       "    <tr>\n",
       "      <th>NYSE:QSR</th>\n",
       "      <td>Restaurant Brands International Inc. (NYSE:QSR)</td>\n",
       "      <td>27483.2</td>\n",
       "      <td>7309.8</td>\n",
       "      <td>3.0</td>\n",
       "      <td>Consumer Discretionary</td>\n",
       "    </tr>\n",
       "    <tr>\n",
       "      <th>TSX:YRI</th>\n",
       "      <td>Yamana Gold Inc. (TSX:YRI)</td>\n",
       "      <td>10933.9</td>\n",
       "      <td>2454.1</td>\n",
       "      <td>5.0</td>\n",
       "      <td>Materials</td>\n",
       "    </tr>\n",
       "  </tbody>\n",
       "</table>\n",
       "</div>"
      ],
      "text/plain": [
       "                                                     Name  TotalAssets  \\\n",
       "Ticker                                                                   \n",
       "TSX:TD                 The Toronto-Dominion Bank (TSX:TD)    1334903.0   \n",
       "NYSE:QSR  Restaurant Brands International Inc. (NYSE:QSR)      27483.2   \n",
       "TSX:YRI                        Yamana Gold Inc. (TSX:YRI)      10933.9   \n",
       "\n",
       "          TotalRevenue  GeographicSegments           PrimarySector  \n",
       "Ticker                                                              \n",
       "TSX:TD         36354.0                 3.0              Financials  \n",
       "NYSE:QSR        7309.8                 3.0  Consumer Discretionary  \n",
       "TSX:YRI         2454.1                 5.0               Materials  "
      ]
     },
     "execution_count": 14,
     "metadata": {},
     "output_type": "execute_result"
    }
   ],
   "source": [
    "# Creating slices\n",
    "lil_df1 = df1.sample(3, random_state=22)\n",
    "lil_df2 = df2.sample(4, random_state=22)\n",
    "lil_df3 = df1.sample(1, random_state=22)\n",
    "\n",
    "lil_df1"
   ]
  },
  {
   "cell_type": "code",
   "execution_count": 15,
   "metadata": {},
   "outputs": [
    {
     "name": "stdout",
     "output_type": "stream",
     "text": [
      "(3, 5)\n",
      "(4, 3)\n",
      "(1, 5)\n"
     ]
    }
   ],
   "source": [
    "for lil_df in [lil_df1, lil_df2, lil_df3]:\n",
    "    print(lil_df.shape)"
   ]
  },
  {
   "cell_type": "code",
   "execution_count": 16,
   "metadata": {
    "scrolled": true
   },
   "outputs": [
    {
     "name": "stdout",
     "output_type": "stream",
     "text": [
      "(8, 7)\n",
      "\n"
     ]
    },
    {
     "data": {
      "text/html": [
       "<div>\n",
       "<style scoped>\n",
       "    .dataframe tbody tr th:only-of-type {\n",
       "        vertical-align: middle;\n",
       "    }\n",
       "\n",
       "    .dataframe tbody tr th {\n",
       "        vertical-align: top;\n",
       "    }\n",
       "\n",
       "    .dataframe thead th {\n",
       "        text-align: right;\n",
       "    }\n",
       "</style>\n",
       "<table border=\"1\" class=\"dataframe\">\n",
       "  <thead>\n",
       "    <tr style=\"text-align: right;\">\n",
       "      <th></th>\n",
       "      <th>Name</th>\n",
       "      <th>TotalAssets</th>\n",
       "      <th>TotalRevenue</th>\n",
       "      <th>GeographicSegments</th>\n",
       "      <th>PrimarySector</th>\n",
       "      <th>MarketCapitalization</th>\n",
       "      <th>NumberEmployees</th>\n",
       "    </tr>\n",
       "    <tr>\n",
       "      <th>Ticker</th>\n",
       "      <th></th>\n",
       "      <th></th>\n",
       "      <th></th>\n",
       "      <th></th>\n",
       "      <th></th>\n",
       "      <th></th>\n",
       "      <th></th>\n",
       "    </tr>\n",
       "  </thead>\n",
       "  <tbody>\n",
       "    <tr>\n",
       "      <th>TSX:TD</th>\n",
       "      <td>The Toronto-Dominion Bank (TSX:TD)</td>\n",
       "      <td>1334903.0</td>\n",
       "      <td>36354.0</td>\n",
       "      <td>3.0</td>\n",
       "      <td>Financials</td>\n",
       "      <td>NaN</td>\n",
       "      <td>NaN</td>\n",
       "    </tr>\n",
       "    <tr>\n",
       "      <th>NYSE:QSR</th>\n",
       "      <td>Restaurant Brands International Inc. (NYSE:QSR)</td>\n",
       "      <td>27483.2</td>\n",
       "      <td>7309.8</td>\n",
       "      <td>3.0</td>\n",
       "      <td>Consumer Discretionary</td>\n",
       "      <td>NaN</td>\n",
       "      <td>NaN</td>\n",
       "    </tr>\n",
       "    <tr>\n",
       "      <th>TSX:YRI</th>\n",
       "      <td>Yamana Gold Inc. (TSX:YRI)</td>\n",
       "      <td>10933.9</td>\n",
       "      <td>2454.1</td>\n",
       "      <td>5.0</td>\n",
       "      <td>Materials</td>\n",
       "      <td>NaN</td>\n",
       "      <td>NaN</td>\n",
       "    </tr>\n",
       "    <tr>\n",
       "      <th>TSX:TD</th>\n",
       "      <td>The Toronto-Dominion Bank (TSX:TD)</td>\n",
       "      <td>NaN</td>\n",
       "      <td>NaN</td>\n",
       "      <td>NaN</td>\n",
       "      <td>NaN</td>\n",
       "      <td>139949.9</td>\n",
       "      <td>87999.0</td>\n",
       "    </tr>\n",
       "    <tr>\n",
       "      <th>NYSE:QSR</th>\n",
       "      <td>Restaurant Brands International Inc. (NYSE:QSR)</td>\n",
       "      <td>NaN</td>\n",
       "      <td>NaN</td>\n",
       "      <td>NaN</td>\n",
       "      <td>NaN</td>\n",
       "      <td>24044.9</td>\n",
       "      <td>6000.0</td>\n",
       "    </tr>\n",
       "    <tr>\n",
       "      <th>TSX:YRI</th>\n",
       "      <td>Yamana Gold Inc. (TSX:YRI)</td>\n",
       "      <td>NaN</td>\n",
       "      <td>NaN</td>\n",
       "      <td>NaN</td>\n",
       "      <td>NaN</td>\n",
       "      <td>3268.9</td>\n",
       "      <td>5165.0</td>\n",
       "    </tr>\n",
       "    <tr>\n",
       "      <th>TSX:MG</th>\n",
       "      <td>Magna International Inc. (TSX:MG)</td>\n",
       "      <td>NaN</td>\n",
       "      <td>NaN</td>\n",
       "      <td>NaN</td>\n",
       "      <td>NaN</td>\n",
       "      <td>19736.3</td>\n",
       "      <td>168000.0</td>\n",
       "    </tr>\n",
       "    <tr>\n",
       "      <th>TSX:TD</th>\n",
       "      <td>The Toronto-Dominion Bank (TSX:TD)</td>\n",
       "      <td>1334903.0</td>\n",
       "      <td>36354.0</td>\n",
       "      <td>3.0</td>\n",
       "      <td>Financials</td>\n",
       "      <td>NaN</td>\n",
       "      <td>NaN</td>\n",
       "    </tr>\n",
       "  </tbody>\n",
       "</table>\n",
       "</div>"
      ],
      "text/plain": [
       "                                                     Name  TotalAssets  \\\n",
       "Ticker                                                                   \n",
       "TSX:TD                 The Toronto-Dominion Bank (TSX:TD)    1334903.0   \n",
       "NYSE:QSR  Restaurant Brands International Inc. (NYSE:QSR)      27483.2   \n",
       "TSX:YRI                        Yamana Gold Inc. (TSX:YRI)      10933.9   \n",
       "TSX:TD                 The Toronto-Dominion Bank (TSX:TD)          NaN   \n",
       "NYSE:QSR  Restaurant Brands International Inc. (NYSE:QSR)          NaN   \n",
       "TSX:YRI                        Yamana Gold Inc. (TSX:YRI)          NaN   \n",
       "TSX:MG                  Magna International Inc. (TSX:MG)          NaN   \n",
       "TSX:TD                 The Toronto-Dominion Bank (TSX:TD)    1334903.0   \n",
       "\n",
       "          TotalRevenue  GeographicSegments           PrimarySector  \\\n",
       "Ticker                                                               \n",
       "TSX:TD         36354.0                 3.0              Financials   \n",
       "NYSE:QSR        7309.8                 3.0  Consumer Discretionary   \n",
       "TSX:YRI         2454.1                 5.0               Materials   \n",
       "TSX:TD             NaN                 NaN                     NaN   \n",
       "NYSE:QSR           NaN                 NaN                     NaN   \n",
       "TSX:YRI            NaN                 NaN                     NaN   \n",
       "TSX:MG             NaN                 NaN                     NaN   \n",
       "TSX:TD         36354.0                 3.0              Financials   \n",
       "\n",
       "          MarketCapitalization  NumberEmployees  \n",
       "Ticker                                           \n",
       "TSX:TD                     NaN              NaN  \n",
       "NYSE:QSR                   NaN              NaN  \n",
       "TSX:YRI                    NaN              NaN  \n",
       "TSX:TD                139949.9          87999.0  \n",
       "NYSE:QSR               24044.9           6000.0  \n",
       "TSX:YRI                 3268.9           5165.0  \n",
       "TSX:MG                 19736.3         168000.0  \n",
       "TSX:TD                     NaN              NaN  "
      ]
     },
     "execution_count": 16,
     "metadata": {},
     "output_type": "execute_result"
    }
   ],
   "source": [
    "# Concatenating\n",
    "big_df = pd.concat([lil_df1, lil_df2, lil_df3],sort=False) \n",
    "print(big_df.shape)\n",
    "print()\n",
    "big_df"
   ]
  },
  {
   "cell_type": "code",
   "execution_count": 17,
   "metadata": {
    "scrolled": false
   },
   "outputs": [
    {
     "data": {
      "text/html": [
       "<div>\n",
       "<style scoped>\n",
       "    .dataframe tbody tr th:only-of-type {\n",
       "        vertical-align: middle;\n",
       "    }\n",
       "\n",
       "    .dataframe tbody tr th {\n",
       "        vertical-align: top;\n",
       "    }\n",
       "\n",
       "    .dataframe thead th {\n",
       "        text-align: right;\n",
       "    }\n",
       "</style>\n",
       "<table border=\"1\" class=\"dataframe\">\n",
       "  <thead>\n",
       "    <tr style=\"text-align: right;\">\n",
       "      <th></th>\n",
       "      <th>Name</th>\n",
       "      <th>TotalAssets</th>\n",
       "      <th>TotalRevenue</th>\n",
       "      <th>GeographicSegments</th>\n",
       "      <th>PrimarySector</th>\n",
       "      <th>MarketCapitalization</th>\n",
       "      <th>NumberEmployees</th>\n",
       "    </tr>\n",
       "    <tr>\n",
       "      <th>Ticker</th>\n",
       "      <th></th>\n",
       "      <th></th>\n",
       "      <th></th>\n",
       "      <th></th>\n",
       "      <th></th>\n",
       "      <th></th>\n",
       "      <th></th>\n",
       "    </tr>\n",
       "  </thead>\n",
       "  <tbody>\n",
       "    <tr>\n",
       "      <th>TSX:TD</th>\n",
       "      <td>The Toronto-Dominion Bank (TSX:TD)</td>\n",
       "      <td>1334903.0</td>\n",
       "      <td>36354.0</td>\n",
       "      <td>3.0</td>\n",
       "      <td>Financials</td>\n",
       "      <td>NaN</td>\n",
       "      <td>NaN</td>\n",
       "    </tr>\n",
       "  </tbody>\n",
       "</table>\n",
       "</div>"
      ],
      "text/plain": [
       "                                      Name  TotalAssets  TotalRevenue  \\\n",
       "Ticker                                                                  \n",
       "TSX:TD  The Toronto-Dominion Bank (TSX:TD)    1334903.0       36354.0   \n",
       "\n",
       "        GeographicSegments PrimarySector  MarketCapitalization  \\\n",
       "Ticker                                                           \n",
       "TSX:TD                 3.0    Financials                   NaN   \n",
       "\n",
       "        NumberEmployees  \n",
       "Ticker                   \n",
       "TSX:TD              NaN  "
      ]
     },
     "execution_count": 17,
     "metadata": {},
     "output_type": "execute_result"
    }
   ],
   "source": [
    "big_df.tail(1)"
   ]
  },
  {
   "cell_type": "code",
   "execution_count": 18,
   "metadata": {},
   "outputs": [],
   "source": [
    "# What would happen if lil_df3 didn't have all of the same columns as lil_df1 and lil_df2?"
   ]
  },
  {
   "cell_type": "code",
   "execution_count": 40,
   "metadata": {
    "scrolled": true
   },
   "outputs": [
    {
     "data": {
      "text/html": [
       "<div>\n",
       "<style scoped>\n",
       "    .dataframe tbody tr th:only-of-type {\n",
       "        vertical-align: middle;\n",
       "    }\n",
       "\n",
       "    .dataframe tbody tr th {\n",
       "        vertical-align: top;\n",
       "    }\n",
       "\n",
       "    .dataframe thead th {\n",
       "        text-align: right;\n",
       "    }\n",
       "</style>\n",
       "<table border=\"1\" class=\"dataframe\">\n",
       "  <thead>\n",
       "    <tr style=\"text-align: right;\">\n",
       "      <th></th>\n",
       "      <th>Name</th>\n",
       "      <th>MarketCapitalization</th>\n",
       "      <th>NumberEmployees</th>\n",
       "      <th>TotalAssets</th>\n",
       "      <th>TotalRevenue</th>\n",
       "      <th>GeographicSegments</th>\n",
       "      <th>PrimarySector</th>\n",
       "    </tr>\n",
       "    <tr>\n",
       "      <th>Ticker</th>\n",
       "      <th></th>\n",
       "      <th></th>\n",
       "      <th></th>\n",
       "      <th></th>\n",
       "      <th></th>\n",
       "      <th></th>\n",
       "      <th></th>\n",
       "    </tr>\n",
       "  </thead>\n",
       "  <tbody>\n",
       "    <tr>\n",
       "      <th>TSX:TD</th>\n",
       "      <td>The Toronto-Dominion Bank (TSX:TD)</td>\n",
       "      <td>139949.9</td>\n",
       "      <td>87999.0</td>\n",
       "      <td>NaN</td>\n",
       "      <td>NaN</td>\n",
       "      <td>NaN</td>\n",
       "      <td>NaN</td>\n",
       "    </tr>\n",
       "    <tr>\n",
       "      <th>NYSE:QSR</th>\n",
       "      <td>Restaurant Brands International Inc. (NYSE:QSR)</td>\n",
       "      <td>24044.9</td>\n",
       "      <td>6000.0</td>\n",
       "      <td>NaN</td>\n",
       "      <td>NaN</td>\n",
       "      <td>NaN</td>\n",
       "      <td>NaN</td>\n",
       "    </tr>\n",
       "    <tr>\n",
       "      <th>TSX:YRI</th>\n",
       "      <td>Yamana Gold Inc. (TSX:YRI)</td>\n",
       "      <td>3268.9</td>\n",
       "      <td>5165.0</td>\n",
       "      <td>NaN</td>\n",
       "      <td>NaN</td>\n",
       "      <td>NaN</td>\n",
       "      <td>NaN</td>\n",
       "    </tr>\n",
       "    <tr>\n",
       "      <th>TSX:MG</th>\n",
       "      <td>Magna International Inc. (TSX:MG)</td>\n",
       "      <td>19736.3</td>\n",
       "      <td>168000.0</td>\n",
       "      <td>NaN</td>\n",
       "      <td>NaN</td>\n",
       "      <td>NaN</td>\n",
       "      <td>NaN</td>\n",
       "    </tr>\n",
       "    <tr>\n",
       "      <th>TSX:TD</th>\n",
       "      <td>The Toronto-Dominion Bank (TSX:TD)</td>\n",
       "      <td>NaN</td>\n",
       "      <td>NaN</td>\n",
       "      <td>1334903.0</td>\n",
       "      <td>36354.0</td>\n",
       "      <td>3.0</td>\n",
       "      <td>Financials</td>\n",
       "    </tr>\n",
       "  </tbody>\n",
       "</table>\n",
       "</div>"
      ],
      "text/plain": [
       "                                                     Name  \\\n",
       "Ticker                                                      \n",
       "TSX:TD                 The Toronto-Dominion Bank (TSX:TD)   \n",
       "NYSE:QSR  Restaurant Brands International Inc. (NYSE:QSR)   \n",
       "TSX:YRI                        Yamana Gold Inc. (TSX:YRI)   \n",
       "TSX:MG                  Magna International Inc. (TSX:MG)   \n",
       "TSX:TD                 The Toronto-Dominion Bank (TSX:TD)   \n",
       "\n",
       "          MarketCapitalization  NumberEmployees  TotalAssets  TotalRevenue  \\\n",
       "Ticker                                                                       \n",
       "TSX:TD                139949.9          87999.0          NaN           NaN   \n",
       "NYSE:QSR               24044.9           6000.0          NaN           NaN   \n",
       "TSX:YRI                 3268.9           5165.0          NaN           NaN   \n",
       "TSX:MG                 19736.3         168000.0          NaN           NaN   \n",
       "TSX:TD                     NaN              NaN    1334903.0       36354.0   \n",
       "\n",
       "          GeographicSegments PrimarySector  \n",
       "Ticker                                      \n",
       "TSX:TD                   NaN           NaN  \n",
       "NYSE:QSR                 NaN           NaN  \n",
       "TSX:YRI                  NaN           NaN  \n",
       "TSX:MG                   NaN           NaN  \n",
       "TSX:TD                   3.0    Financials  "
      ]
     },
     "execution_count": 40,
     "metadata": {},
     "output_type": "execute_result"
    }
   ],
   "source": [
    "# Append \n",
    "lil_df2.append(lil_df3, sort=False)"
   ]
  },
  {
   "cell_type": "code",
   "execution_count": 20,
   "metadata": {
    "scrolled": false
   },
   "outputs": [
    {
     "data": {
      "text/html": [
       "<div>\n",
       "<style scoped>\n",
       "    .dataframe tbody tr th:only-of-type {\n",
       "        vertical-align: middle;\n",
       "    }\n",
       "\n",
       "    .dataframe tbody tr th {\n",
       "        vertical-align: top;\n",
       "    }\n",
       "\n",
       "    .dataframe thead th {\n",
       "        text-align: right;\n",
       "    }\n",
       "</style>\n",
       "<table border=\"1\" class=\"dataframe\">\n",
       "  <thead>\n",
       "    <tr style=\"text-align: right;\">\n",
       "      <th></th>\n",
       "      <th>Name</th>\n",
       "      <th>MarketCapitalization</th>\n",
       "      <th>NumberEmployees</th>\n",
       "    </tr>\n",
       "  </thead>\n",
       "  <tbody>\n",
       "    <tr>\n",
       "      <th>0</th>\n",
       "      <td>The Toronto-Dominion Bank (TSX:TD)</td>\n",
       "      <td>139949.9</td>\n",
       "      <td>87999.0</td>\n",
       "    </tr>\n",
       "    <tr>\n",
       "      <th>1</th>\n",
       "      <td>Restaurant Brands International Inc. (NYSE:QSR)</td>\n",
       "      <td>24044.9</td>\n",
       "      <td>6000.0</td>\n",
       "    </tr>\n",
       "    <tr>\n",
       "      <th>2</th>\n",
       "      <td>Yamana Gold Inc. (TSX:YRI)</td>\n",
       "      <td>3268.9</td>\n",
       "      <td>5165.0</td>\n",
       "    </tr>\n",
       "    <tr>\n",
       "      <th>3</th>\n",
       "      <td>Magna International Inc. (TSX:MG)</td>\n",
       "      <td>19736.3</td>\n",
       "      <td>168000.0</td>\n",
       "    </tr>\n",
       "    <tr>\n",
       "      <th>4</th>\n",
       "      <td>NaN</td>\n",
       "      <td>10000.0</td>\n",
       "      <td>NaN</td>\n",
       "    </tr>\n",
       "  </tbody>\n",
       "</table>\n",
       "</div>"
      ],
      "text/plain": [
       "                                              Name  MarketCapitalization  \\\n",
       "0               The Toronto-Dominion Bank (TSX:TD)              139949.9   \n",
       "1  Restaurant Brands International Inc. (NYSE:QSR)               24044.9   \n",
       "2                       Yamana Gold Inc. (TSX:YRI)                3268.9   \n",
       "3                Magna International Inc. (TSX:MG)               19736.3   \n",
       "4                                              NaN               10000.0   \n",
       "\n",
       "   NumberEmployees  \n",
       "0          87999.0  \n",
       "1           6000.0  \n",
       "2           5165.0  \n",
       "3         168000.0  \n",
       "4              NaN  "
      ]
     },
     "execution_count": 20,
     "metadata": {},
     "output_type": "execute_result"
    }
   ],
   "source": [
    "lil_df2.append({'MarketCapitalization':10000}, ignore_index=True) # Great in instance where need to append 1 row only"
   ]
  },
  {
   "cell_type": "code",
   "execution_count": 21,
   "metadata": {
    "scrolled": false
   },
   "outputs": [
    {
     "data": {
      "text/plain": [
       "Index(['MarketCapitalization', 'NumberEmployees'], dtype='object')"
      ]
     },
     "execution_count": 21,
     "metadata": {},
     "output_type": "execute_result"
    }
   ],
   "source": [
    "# Exercise:\n",
    "# 1. Remove the column \"Name\"  from df2 (hint: https://pandas.pydata.org/pandas-docs/stable/reference/api/pandas.DataFrame.drop.html)\n",
    "\n",
    "\n",
    "df2 = df2.drop(columns=['Name'])\n",
    "#df2.drop(column=['Name'], inplace=True)\n",
    "#df2 = df2.drop(['Name'], axis=1)\n",
    "df2.columns"
   ]
  },
  {
   "cell_type": "code",
   "execution_count": 22,
   "metadata": {},
   "outputs": [],
   "source": [
    "#df2.drop(columns=['Name'])"
   ]
  },
  {
   "cell_type": "code",
   "execution_count": 23,
   "metadata": {},
   "outputs": [],
   "source": [
    "#df2.drop(columns=['Name'], inplace=True)"
   ]
  },
  {
   "cell_type": "code",
   "execution_count": 24,
   "metadata": {},
   "outputs": [
    {
     "data": {
      "text/plain": [
       "True"
      ]
     },
     "execution_count": 24,
     "metadata": {},
     "output_type": "execute_result"
    }
   ],
   "source": [
    "# 2. Verify that all of the indices in df1 are in df2\n",
    "\n",
    "list(df1.index)==list(df2.index)\n",
    "\n",
    "df1.index.isin(df2.index).all()\n",
    "\n",
    "df1.index.equals(df2.index)"
   ]
  },
  {
   "cell_type": "code",
   "execution_count": 25,
   "metadata": {},
   "outputs": [
    {
     "name": "stdout",
     "output_type": "stream",
     "text": [
      "(132, 7)\n"
     ]
    },
    {
     "data": {
      "text/html": [
       "<div>\n",
       "<style scoped>\n",
       "    .dataframe tbody tr th:only-of-type {\n",
       "        vertical-align: middle;\n",
       "    }\n",
       "\n",
       "    .dataframe tbody tr th {\n",
       "        vertical-align: top;\n",
       "    }\n",
       "\n",
       "    .dataframe thead th {\n",
       "        text-align: right;\n",
       "    }\n",
       "</style>\n",
       "<table border=\"1\" class=\"dataframe\">\n",
       "  <thead>\n",
       "    <tr style=\"text-align: right;\">\n",
       "      <th></th>\n",
       "      <th>Name</th>\n",
       "      <th>TotalAssets</th>\n",
       "      <th>TotalRevenue</th>\n",
       "      <th>GeographicSegments</th>\n",
       "      <th>PrimarySector</th>\n",
       "      <th>MarketCapitalization</th>\n",
       "      <th>NumberEmployees</th>\n",
       "    </tr>\n",
       "    <tr>\n",
       "      <th>Ticker</th>\n",
       "      <th></th>\n",
       "      <th></th>\n",
       "      <th></th>\n",
       "      <th></th>\n",
       "      <th></th>\n",
       "      <th></th>\n",
       "      <th></th>\n",
       "    </tr>\n",
       "  </thead>\n",
       "  <tbody>\n",
       "    <tr>\n",
       "      <th>NYSE:AEM</th>\n",
       "      <td>Agnico Eagle Mines Limited (NYSE:AEM)</td>\n",
       "      <td>10715.5</td>\n",
       "      <td>2990.0</td>\n",
       "      <td>5.0</td>\n",
       "      <td>Materials</td>\n",
       "      <td>15892.5</td>\n",
       "      <td>5990.0</td>\n",
       "    </tr>\n",
       "    <tr>\n",
       "      <th>TSX:AC</th>\n",
       "      <td>Air Canada (TSX:AC)</td>\n",
       "      <td>19197.0</td>\n",
       "      <td>18065.0</td>\n",
       "      <td>5.0</td>\n",
       "      <td>Industrials</td>\n",
       "      <td>11338.6</td>\n",
       "      <td>32600.0</td>\n",
       "    </tr>\n",
       "    <tr>\n",
       "      <th>TSX:AGI</th>\n",
       "      <td>Alamos Gold Inc. (TSX:AGI)</td>\n",
       "      <td>4455.5</td>\n",
       "      <td>889.4</td>\n",
       "      <td>4.0</td>\n",
       "      <td>Materials</td>\n",
       "      <td>3151.9</td>\n",
       "      <td>1700.0</td>\n",
       "    </tr>\n",
       "    <tr>\n",
       "      <th>TSX:AQN</th>\n",
       "      <td>Algonquin Power &amp; Utilities Corp. (TSX:AQN)</td>\n",
       "      <td>12811.6</td>\n",
       "      <td>2247.9</td>\n",
       "      <td>2.0</td>\n",
       "      <td>Utilities</td>\n",
       "      <td>8000.0</td>\n",
       "      <td>2277.0</td>\n",
       "    </tr>\n",
       "    <tr>\n",
       "      <th>TSX:ATD.B</th>\n",
       "      <td>Alimentation Couche-Tard Inc. (TSX:ATD.B)</td>\n",
       "      <td>30426.3</td>\n",
       "      <td>79562.8</td>\n",
       "      <td>3.0</td>\n",
       "      <td>Consumer Staples</td>\n",
       "      <td>47281.4</td>\n",
       "      <td>133000.0</td>\n",
       "    </tr>\n",
       "  </tbody>\n",
       "</table>\n",
       "</div>"
      ],
      "text/plain": [
       "                                                  Name  TotalAssets  \\\n",
       "Ticker                                                                \n",
       "NYSE:AEM         Agnico Eagle Mines Limited (NYSE:AEM)      10715.5   \n",
       "TSX:AC                             Air Canada (TSX:AC)      19197.0   \n",
       "TSX:AGI                     Alamos Gold Inc. (TSX:AGI)       4455.5   \n",
       "TSX:AQN    Algonquin Power & Utilities Corp. (TSX:AQN)      12811.6   \n",
       "TSX:ATD.B    Alimentation Couche-Tard Inc. (TSX:ATD.B)      30426.3   \n",
       "\n",
       "           TotalRevenue  GeographicSegments     PrimarySector  \\\n",
       "Ticker                                                          \n",
       "NYSE:AEM         2990.0                 5.0         Materials   \n",
       "TSX:AC          18065.0                 5.0       Industrials   \n",
       "TSX:AGI           889.4                 4.0         Materials   \n",
       "TSX:AQN          2247.9                 2.0         Utilities   \n",
       "TSX:ATD.B       79562.8                 3.0  Consumer Staples   \n",
       "\n",
       "           MarketCapitalization  NumberEmployees  \n",
       "Ticker                                            \n",
       "NYSE:AEM                15892.5           5990.0  \n",
       "TSX:AC                  11338.6          32600.0  \n",
       "TSX:AGI                  3151.9           1700.0  \n",
       "TSX:AQN                  8000.0           2277.0  \n",
       "TSX:ATD.B               47281.4         133000.0  "
      ]
     },
     "execution_count": 25,
     "metadata": {},
     "output_type": "execute_result"
    }
   ],
   "source": [
    "# 4. Combine df1 and df2 into one dataframe \n",
    "\n",
    "df3 = df1.join(df2)\n",
    "\n",
    "print(df3.shape)\n",
    "df3.head()"
   ]
  },
  {
   "cell_type": "code",
   "execution_count": 26,
   "metadata": {},
   "outputs": [
    {
     "data": {
      "text/plain": [
       "Name                    False\n",
       "TotalAssets             False\n",
       "TotalRevenue            False\n",
       "GeographicSegments       True\n",
       "PrimarySector           False\n",
       "MarketCapitalization    False\n",
       "NumberEmployees          True\n",
       "dtype: bool"
      ]
     },
     "execution_count": 26,
     "metadata": {},
     "output_type": "execute_result"
    }
   ],
   "source": [
    "# 5. Check for NaN values anywhere in the dataframe (df.isna.any())\n",
    "\n",
    "df3.isna().any()"
   ]
  },
  {
   "cell_type": "code",
   "execution_count": 27,
   "metadata": {
    "scrolled": true
   },
   "outputs": [
    {
     "name": "stdout",
     "output_type": "stream",
     "text": [
      "Index(['Name', 'TotalAssets', 'TotalRevenue', 'GeographicSegments',\n",
      "       'PrimarySector', 'MarketCapitalization', 'NumberEmployees'],\n",
      "      dtype='object')\n"
     ]
    },
    {
     "data": {
      "text/html": [
       "<div>\n",
       "<style scoped>\n",
       "    .dataframe tbody tr th:only-of-type {\n",
       "        vertical-align: middle;\n",
       "    }\n",
       "\n",
       "    .dataframe tbody tr th {\n",
       "        vertical-align: top;\n",
       "    }\n",
       "\n",
       "    .dataframe thead th {\n",
       "        text-align: right;\n",
       "    }\n",
       "</style>\n",
       "<table border=\"1\" class=\"dataframe\">\n",
       "  <thead>\n",
       "    <tr style=\"text-align: right;\">\n",
       "      <th></th>\n",
       "      <th>Name</th>\n",
       "      <th>TotalAssets</th>\n",
       "      <th>TotalRevenue</th>\n",
       "      <th>GeographicSegments</th>\n",
       "      <th>PrimarySector</th>\n",
       "      <th>MarketCapitalization</th>\n",
       "      <th>NumberEmployees</th>\n",
       "    </tr>\n",
       "    <tr>\n",
       "      <th>Ticker</th>\n",
       "      <th></th>\n",
       "      <th></th>\n",
       "      <th></th>\n",
       "      <th></th>\n",
       "      <th></th>\n",
       "      <th></th>\n",
       "      <th></th>\n",
       "    </tr>\n",
       "  </thead>\n",
       "  <tbody>\n",
       "    <tr>\n",
       "      <th>TSX:VUP</th>\n",
       "      <td>CICOLAC VUP</td>\n",
       "      <td>23200.0</td>\n",
       "      <td>4500.0</td>\n",
       "      <td>2.0</td>\n",
       "      <td>Manufacturing</td>\n",
       "      <td>12000.0</td>\n",
       "      <td>50.0</td>\n",
       "    </tr>\n",
       "  </tbody>\n",
       "</table>\n",
       "</div>"
      ],
      "text/plain": [
       "                Name  TotalAssets  TotalRevenue  GeographicSegments  \\\n",
       "Ticker                                                                \n",
       "TSX:VUP  CICOLAC VUP      23200.0        4500.0                 2.0   \n",
       "\n",
       "         PrimarySector  MarketCapitalization  NumberEmployees  \n",
       "Ticker                                                         \n",
       "TSX:VUP  Manufacturing               12000.0             50.0  "
      ]
     },
     "execution_count": 27,
     "metadata": {},
     "output_type": "execute_result"
    }
   ],
   "source": [
    "# 6. Add another row for a fictional or real company of your choice\n",
    "print(df3.columns)\n",
    "df3.loc['TSX:VUP'] = {'Name':'CICOLAC VUP','TotalAssets':23200,'TotalRevenue':4500,'GeographicSegments':2,'PrimarySector':'Manufacturing','MarketCapitalization':12000,'NumberEmployees':50}\n",
    "\n",
    "df3.tail(1)\n"
   ]
  },
  {
   "cell_type": "code",
   "execution_count": 28,
   "metadata": {},
   "outputs": [
    {
     "data": {
      "text/plain": [
       "array(['NYSE:AEM', 'TSX:AC', 'TSX:AGI', 'TSX:AQN', 'TSX:ATD.B',\n",
       "       'TSX:AP.UN', 'TSX:ALA', 'TSX:ACO.X', 'TSX:ACB', 'TSX:BTO',\n",
       "       'TSX:BMO', 'TSX:ABX', 'NYSE:BHC', 'TSX:BCE', 'TSX:BB', 'TSX:BBD.B',\n",
       "       'TSX:BYD.UN', 'TSX:BAM.A', 'NYSE:BBU', 'NYSE:BIP', 'NasdaqGS:BPY',\n",
       "       'TSX:BEP.UN', 'TSX:DOO', 'TSX:CAE', 'TSX:CCO', 'TSX:GOOS',\n",
       "       'TSX:CAR.UN', 'TSX:CM', 'TSX:CNR', 'TSX:CNQ', 'TSX:CP',\n",
       "       'TSX:CTC.A', 'TSX:CU', 'TSX:WEED', 'TSX:CPX', 'TSX:CCL.B',\n",
       "       'TSX:CVE', 'TSX:GIB.A', 'TSX:CSH.UN', 'TSX:CHP.UN', 'TSX:CIX',\n",
       "       'TSX:CCA', 'TSX:CIGI', 'TSX:CSU', 'TSX:CRON', 'TSX:DGC', 'TSX:DOL',\n",
       "       'TSX:EFN', 'TSX:EMA', 'TSX:EMP.A', 'TSX:ENB', 'TSX:ECA', 'TSX:FFH',\n",
       "       'TSX:FTT', 'TSX:FCR', 'TSX:FM', 'TSX:FSV', 'TSX:FTS', 'TSX:FNV',\n",
       "       'TSX:MIC', 'TSX:WN', 'TSX:GEI', 'TSX:GIL', 'TSX:GRT.UN', 'TSX:GWO',\n",
       "       'TSX:HR.UN', 'TSX:HSE', 'TSX:H', 'TSX:IAG', 'TSX:IGM', 'TSX:IMO',\n",
       "       'TSX:IFC', 'TSX:IPL', 'TSX:KEY', 'TSX:K', 'TSX:KL', 'TSX:L',\n",
       "       'TSX:LUN', 'TSX:MG', 'TSX:MFC', 'TSX:MFI', 'TSX:MX', 'TSX:MRU',\n",
       "       'TSX:NA', 'TSX:NPI', 'TSX:NTR', 'TSX:ONEX', 'NasdaqGS:OTEX',\n",
       "       'TSX:PAAS', 'TSX:PXT', 'TSX:PKI', 'TSX:PPL', 'TSX:POW', 'TSX:PWF',\n",
       "       'TSX:PSK', 'TSX:PBH', 'TSX:QBR.B', 'NYSE:QSR', 'TSX:REI.UN',\n",
       "       'NYSE:RBA', 'TSX:RCI.B', 'TSX:RY', 'TSX:SAP', 'TSX:SJR.B',\n",
       "       'NYSE:SHOP', 'TSX:SRU.UN', 'TSX:SNC', 'TSX:TOY', 'TSX:STN',\n",
       "       'TSX:SJ', 'TSX:SLF', 'TSX:SU', 'TSX:TRP', 'TSX:TECK.B', 'TSX:T',\n",
       "       'TSX:TFII', 'TSX:BNS', 'TSX:DSG', 'TSX:TSGI', 'TSX:TD', 'TSX:TRI',\n",
       "       'TSX:X', 'TSX:TIH', 'TSX:TOU', 'TSX:RNW', 'TSX:VET', 'NYSE:WCN',\n",
       "       'TSX:WFT', 'TSX:WJA', 'TSX:WPM', 'TSX:WSP', 'TSX:YRI', 'TSX:VUP'],\n",
       "      dtype=object)"
      ]
     },
     "execution_count": 28,
     "metadata": {},
     "output_type": "execute_result"
    }
   ],
   "source": [
    "df3.index.values"
   ]
  },
  {
   "cell_type": "code",
   "execution_count": 29,
   "metadata": {
    "scrolled": true
   },
   "outputs": [
    {
     "data": {
      "text/plain": [
       "<matplotlib.axes._subplots.AxesSubplot at 0x256f7bc8fd0>"
      ]
     },
     "execution_count": 29,
     "metadata": {},
     "output_type": "execute_result"
    },
    {
     "data": {
      "image/png": "[encoded data removed]",
      "text/plain": [
       "<Figure size 432x288 with 1 Axes>"
      ]
     },
     "metadata": {
      "needs_background": "light"
     },
     "output_type": "display_data"
    }
   ],
   "source": [
    "# Plotting\n",
    "df2.NumberEmployees.plot.hist(bins=60)"
   ]
  },
  {
   "cell_type": "code",
   "execution_count": 30,
   "metadata": {
    "scrolled": false
   },
   "outputs": [
    {
     "data": {
      "image/png": "[encoded data removed]",
      "text/plain": [
       "<Figure size 432x288 with 1 Axes>"
      ]
     },
     "metadata": {
      "needs_background": "light"
     },
     "output_type": "display_data"
    }
   ],
   "source": [
    "df1.plot.scatter('TotalAssets', 'TotalRevenue')\n",
    "plt.title('Assets vs. Revenue') # interfaces with matplotlib\n",
    "plt.show()"
   ]
  },
  {
   "cell_type": "code",
   "execution_count": 31,
   "metadata": {},
   "outputs": [
    {
     "data": {
      "text/plain": [
       "<matplotlib.collections.PathCollection at 0x256f9dc78d0>"
      ]
     },
     "execution_count": 31,
     "metadata": {},
     "output_type": "execute_result"
    },
    {
     "data": {
      "image/png": "[encoded data removed]",
      "text/plain": [
       "<Figure size 432x288 with 1 Axes>"
      ]
     },
     "metadata": {
      "needs_background": "light"
     },
     "output_type": "display_data"
    }
   ],
   "source": [
    "plt.scatter(df1.TotalAssets, df1.TotalRevenue)\n",
    "\n"
   ]
  },
  {
   "cell_type": "code",
   "execution_count": 32,
   "metadata": {},
   "outputs": [],
   "source": [
    "# Handy tricks"
   ]
  },
  {
   "cell_type": "code",
   "execution_count": 33,
   "metadata": {
    "scrolled": false
   },
   "outputs": [
    {
     "name": "stdout",
     "output_type": "stream",
     "text": [
      "Index(['Name', 'TotalAssets', 'TotalRevenue', 'GeographicSegments',\n",
      "       'PrimarySector_Communication Services',\n",
      "       'PrimarySector_Consumer Discretionary',\n",
      "       'PrimarySector_Consumer Staples', 'PrimarySector_Energy',\n",
      "       'PrimarySector_Financials', 'PrimarySector_Health Care',\n",
      "       'PrimarySector_Industrials', 'PrimarySector_Information Technology',\n",
      "       'PrimarySector_Materials', 'PrimarySector_Real Estate',\n",
      "       'PrimarySector_Utilities'],\n",
      "      dtype='object')\n"
     ]
    },
    {
     "data": {
      "text/html": [
       "<div>\n",
       "<style scoped>\n",
       "    .dataframe tbody tr th:only-of-type {\n",
       "        vertical-align: middle;\n",
       "    }\n",
       "\n",
       "    .dataframe tbody tr th {\n",
       "        vertical-align: top;\n",
       "    }\n",
       "\n",
       "    .dataframe thead th {\n",
       "        text-align: right;\n",
       "    }\n",
       "</style>\n",
       "<table border=\"1\" class=\"dataframe\">\n",
       "  <thead>\n",
       "    <tr style=\"text-align: right;\">\n",
       "      <th></th>\n",
       "      <th>Name</th>\n",
       "      <th>TotalAssets</th>\n",
       "      <th>TotalRevenue</th>\n",
       "      <th>GeographicSegments</th>\n",
       "      <th>PrimarySector_Communication Services</th>\n",
       "      <th>PrimarySector_Consumer Discretionary</th>\n",
       "      <th>PrimarySector_Consumer Staples</th>\n",
       "      <th>PrimarySector_Energy</th>\n",
       "      <th>PrimarySector_Financials</th>\n",
       "      <th>PrimarySector_Health Care</th>\n",
       "      <th>PrimarySector_Industrials</th>\n",
       "      <th>PrimarySector_Information Technology</th>\n",
       "      <th>PrimarySector_Materials</th>\n",
       "      <th>PrimarySector_Real Estate</th>\n",
       "      <th>PrimarySector_Utilities</th>\n",
       "    </tr>\n",
       "    <tr>\n",
       "      <th>Ticker</th>\n",
       "      <th></th>\n",
       "      <th></th>\n",
       "      <th></th>\n",
       "      <th></th>\n",
       "      <th></th>\n",
       "      <th></th>\n",
       "      <th></th>\n",
       "      <th></th>\n",
       "      <th></th>\n",
       "      <th></th>\n",
       "      <th></th>\n",
       "      <th></th>\n",
       "      <th></th>\n",
       "      <th></th>\n",
       "      <th></th>\n",
       "    </tr>\n",
       "  </thead>\n",
       "  <tbody>\n",
       "    <tr>\n",
       "      <th>NYSE:AEM</th>\n",
       "      <td>Agnico Eagle Mines Limited (NYSE:AEM)</td>\n",
       "      <td>10715.5</td>\n",
       "      <td>2990.0</td>\n",
       "      <td>5.0</td>\n",
       "      <td>0</td>\n",
       "      <td>0</td>\n",
       "      <td>0</td>\n",
       "      <td>0</td>\n",
       "      <td>0</td>\n",
       "      <td>0</td>\n",
       "      <td>0</td>\n",
       "      <td>0</td>\n",
       "      <td>1</td>\n",
       "      <td>0</td>\n",
       "      <td>0</td>\n",
       "    </tr>\n",
       "    <tr>\n",
       "      <th>TSX:AC</th>\n",
       "      <td>Air Canada (TSX:AC)</td>\n",
       "      <td>19197.0</td>\n",
       "      <td>18065.0</td>\n",
       "      <td>5.0</td>\n",
       "      <td>0</td>\n",
       "      <td>0</td>\n",
       "      <td>0</td>\n",
       "      <td>0</td>\n",
       "      <td>0</td>\n",
       "      <td>0</td>\n",
       "      <td>1</td>\n",
       "      <td>0</td>\n",
       "      <td>0</td>\n",
       "      <td>0</td>\n",
       "      <td>0</td>\n",
       "    </tr>\n",
       "    <tr>\n",
       "      <th>TSX:AGI</th>\n",
       "      <td>Alamos Gold Inc. (TSX:AGI)</td>\n",
       "      <td>4455.5</td>\n",
       "      <td>889.4</td>\n",
       "      <td>4.0</td>\n",
       "      <td>0</td>\n",
       "      <td>0</td>\n",
       "      <td>0</td>\n",
       "      <td>0</td>\n",
       "      <td>0</td>\n",
       "      <td>0</td>\n",
       "      <td>0</td>\n",
       "      <td>0</td>\n",
       "      <td>1</td>\n",
       "      <td>0</td>\n",
       "      <td>0</td>\n",
       "    </tr>\n",
       "  </tbody>\n",
       "</table>\n",
       "</div>"
      ],
      "text/plain": [
       "                                           Name  TotalAssets  TotalRevenue  \\\n",
       "Ticker                                                                       \n",
       "NYSE:AEM  Agnico Eagle Mines Limited (NYSE:AEM)      10715.5        2990.0   \n",
       "TSX:AC                      Air Canada (TSX:AC)      19197.0       18065.0   \n",
       "TSX:AGI              Alamos Gold Inc. (TSX:AGI)       4455.5         889.4   \n",
       "\n",
       "          GeographicSegments  PrimarySector_Communication Services  \\\n",
       "Ticker                                                               \n",
       "NYSE:AEM                 5.0                                     0   \n",
       "TSX:AC                   5.0                                     0   \n",
       "TSX:AGI                  4.0                                     0   \n",
       "\n",
       "          PrimarySector_Consumer Discretionary  \\\n",
       "Ticker                                           \n",
       "NYSE:AEM                                     0   \n",
       "TSX:AC                                       0   \n",
       "TSX:AGI                                      0   \n",
       "\n",
       "          PrimarySector_Consumer Staples  PrimarySector_Energy  \\\n",
       "Ticker                                                           \n",
       "NYSE:AEM                               0                     0   \n",
       "TSX:AC                                 0                     0   \n",
       "TSX:AGI                                0                     0   \n",
       "\n",
       "          PrimarySector_Financials  PrimarySector_Health Care  \\\n",
       "Ticker                                                          \n",
       "NYSE:AEM                         0                          0   \n",
       "TSX:AC                           0                          0   \n",
       "TSX:AGI                          0                          0   \n",
       "\n",
       "          PrimarySector_Industrials  PrimarySector_Information Technology  \\\n",
       "Ticker                                                                      \n",
       "NYSE:AEM                          0                                     0   \n",
       "TSX:AC                            1                                     0   \n",
       "TSX:AGI                           0                                     0   \n",
       "\n",
       "          PrimarySector_Materials  PrimarySector_Real Estate  \\\n",
       "Ticker                                                         \n",
       "NYSE:AEM                        1                          0   \n",
       "TSX:AC                          0                          0   \n",
       "TSX:AGI                         1                          0   \n",
       "\n",
       "          PrimarySector_Utilities  \n",
       "Ticker                             \n",
       "NYSE:AEM                        0  \n",
       "TSX:AC                          0  \n",
       "TSX:AGI                         0  "
      ]
     },
     "execution_count": 33,
     "metadata": {},
     "output_type": "execute_result"
    }
   ],
   "source": [
    "# Create dummy variables\n",
    "dummy_df = pd.get_dummies(df1,columns=['PrimarySector'])\n",
    "print(dummy_df.columns)\n",
    "dummy_df.head(3)"
   ]
  },
  {
   "cell_type": "code",
   "execution_count": 34,
   "metadata": {},
   "outputs": [
    {
     "name": "stdout",
     "output_type": "stream",
     "text": [
      "                                                   Name  TotalAssets  \\\n",
      "Ticker                                                                 \n",
      "TSX:ATD.B     Alimentation Couche-Tard Inc. (TSX:ATD.B)      30426.3   \n",
      "TSX:BAM.A  Brookfield Asset Management Inc. (TSX:BAM.A)     349705.7   \n",
      "TSX:MG                Magna International Inc. (TSX:MG)      35403.0   \n",
      "\n",
      "           TotalRevenue  GeographicSegments           PrimarySector  \\\n",
      "Ticker                                                                \n",
      "TSX:ATD.B       79562.8                 3.0        Consumer Staples   \n",
      "TSX:BAM.A       79975.7                 9.0              Financials   \n",
      "TSX:MG          55710.1                20.0  Consumer Discretionary   \n",
      "\n",
      "          RevenueLevels  \n",
      "Ticker                   \n",
      "TSX:ATD.B          High  \n",
      "TSX:BAM.A          High  \n",
      "TSX:MG             High  \n"
     ]
    }
   ],
   "source": [
    "# Create bins\n",
    "df1['RevenueLevels']=pd.cut(df1.TotalRevenue,3, labels=['Low', 'Medium', 'High'])\n",
    "print(df1.loc[df1.RevenueLevels=='High'].sample(3))"
   ]
  },
  {
   "cell_type": "code",
   "execution_count": 35,
   "metadata": {
    "scrolled": false
   },
   "outputs": [
    {
     "data": {
      "text/html": [
       "<div>\n",
       "<style scoped>\n",
       "    .dataframe tbody tr th:only-of-type {\n",
       "        vertical-align: middle;\n",
       "    }\n",
       "\n",
       "    .dataframe tbody tr th {\n",
       "        vertical-align: top;\n",
       "    }\n",
       "\n",
       "    .dataframe thead th {\n",
       "        text-align: right;\n",
       "    }\n",
       "</style>\n",
       "<table border=\"1\" class=\"dataframe\">\n",
       "  <thead>\n",
       "    <tr style=\"text-align: right;\">\n",
       "      <th></th>\n",
       "      <th>TotalAssets</th>\n",
       "      <th>TotalRevenue</th>\n",
       "      <th>GeographicSegments</th>\n",
       "    </tr>\n",
       "  </thead>\n",
       "  <tbody>\n",
       "    <tr>\n",
       "      <th>TotalAssets</th>\n",
       "      <td>1.000000</td>\n",
       "      <td>0.46042</td>\n",
       "      <td>-0.022675</td>\n",
       "    </tr>\n",
       "    <tr>\n",
       "      <th>TotalRevenue</th>\n",
       "      <td>0.460420</td>\n",
       "      <td>1.00000</td>\n",
       "      <td>0.092280</td>\n",
       "    </tr>\n",
       "    <tr>\n",
       "      <th>GeographicSegments</th>\n",
       "      <td>-0.022675</td>\n",
       "      <td>0.09228</td>\n",
       "      <td>1.000000</td>\n",
       "    </tr>\n",
       "  </tbody>\n",
       "</table>\n",
       "</div>"
      ],
      "text/plain": [
       "                    TotalAssets  TotalRevenue  GeographicSegments\n",
       "TotalAssets            1.000000       0.46042           -0.022675\n",
       "TotalRevenue           0.460420       1.00000            0.092280\n",
       "GeographicSegments    -0.022675       0.09228            1.000000"
      ]
     },
     "execution_count": 35,
     "metadata": {},
     "output_type": "execute_result"
    }
   ],
   "source": [
    "# Correlation matrix\n",
    "df1.corr()"
   ]
  },
  {
   "cell_type": "code",
   "execution_count": 36,
   "metadata": {},
   "outputs": [
    {
     "name": "stdout",
     "output_type": "stream",
     "text": [
      "MarketCapitalization    149713.5\n",
      "NumberEmployees          82197.0\n",
      "Name: TSX:RY, dtype: float64\n"
     ]
    },
    {
     "data": {
      "text/html": [
       "<div>\n",
       "<style scoped>\n",
       "    .dataframe tbody tr th:only-of-type {\n",
       "        vertical-align: middle;\n",
       "    }\n",
       "\n",
       "    .dataframe tbody tr th {\n",
       "        vertical-align: top;\n",
       "    }\n",
       "\n",
       "    .dataframe thead th {\n",
       "        text-align: right;\n",
       "    }\n",
       "</style>\n",
       "<table border=\"1\" class=\"dataframe\">\n",
       "  <thead>\n",
       "    <tr style=\"text-align: right;\">\n",
       "      <th></th>\n",
       "      <th>MarketCapitalization</th>\n",
       "      <th>NumberEmployees</th>\n",
       "    </tr>\n",
       "    <tr>\n",
       "      <th>Ticker</th>\n",
       "      <th></th>\n",
       "      <th></th>\n",
       "    </tr>\n",
       "  </thead>\n",
       "  <tbody>\n",
       "    <tr>\n",
       "      <th>TSX:ATD.B</th>\n",
       "      <td>47281.4</td>\n",
       "      <td>133000.0</td>\n",
       "    </tr>\n",
       "    <tr>\n",
       "      <th>TSX:BAM.A</th>\n",
       "      <td>61229.8</td>\n",
       "      <td>101700.0</td>\n",
       "    </tr>\n",
       "    <tr>\n",
       "      <th>TSX:EMP.A</th>\n",
       "      <td>9112.5</td>\n",
       "      <td>123000.0</td>\n",
       "    </tr>\n",
       "    <tr>\n",
       "      <th>TSX:WN</th>\n",
       "      <td>15523.3</td>\n",
       "      <td>203238.0</td>\n",
       "    </tr>\n",
       "    <tr>\n",
       "      <th>TSX:L</th>\n",
       "      <td>24652.0</td>\n",
       "      <td>200000.0</td>\n",
       "    </tr>\n",
       "    <tr>\n",
       "      <th>TSX:MG</th>\n",
       "      <td>19736.3</td>\n",
       "      <td>168000.0</td>\n",
       "    </tr>\n",
       "    <tr>\n",
       "      <th>TSX:ONEX</th>\n",
       "      <td>8135.8</td>\n",
       "      <td>207000.0</td>\n",
       "    </tr>\n",
       "    <tr>\n",
       "      <th>TSX:BNS</th>\n",
       "      <td>85329.1</td>\n",
       "      <td>99678.0</td>\n",
       "    </tr>\n",
       "    <tr>\n",
       "      <th>TSX:TD</th>\n",
       "      <td>139949.9</td>\n",
       "      <td>87999.0</td>\n",
       "    </tr>\n",
       "  </tbody>\n",
       "</table>\n",
       "</div>"
      ],
      "text/plain": [
       "           MarketCapitalization  NumberEmployees\n",
       "Ticker                                          \n",
       "TSX:ATD.B               47281.4         133000.0\n",
       "TSX:BAM.A               61229.8         101700.0\n",
       "TSX:EMP.A                9112.5         123000.0\n",
       "TSX:WN                  15523.3         203238.0\n",
       "TSX:L                   24652.0         200000.0\n",
       "TSX:MG                  19736.3         168000.0\n",
       "TSX:ONEX                 8135.8         207000.0\n",
       "TSX:BNS                 85329.1          99678.0\n",
       "TSX:TD                 139949.9          87999.0"
      ]
     },
     "execution_count": 36,
     "metadata": {},
     "output_type": "execute_result"
    }
   ],
   "source": [
    "# Complex conditions \n",
    "rbc = df2.loc['TSX:RY']\n",
    "print(rbc)\n",
    "\n",
    "bigger_than_rbc = df2.loc[(df2.MarketCapitalization>rbc.MarketCapitalization) | (df2.NumberEmployees>rbc.NumberEmployees)]\n",
    "bigger_than_rbc"
   ]
  },
  {
   "cell_type": "code",
   "execution_count": 37,
   "metadata": {
    "scrolled": true
   },
   "outputs": [
    {
     "data": {
      "text/html": [
       "<div>\n",
       "<style scoped>\n",
       "    .dataframe tbody tr th:only-of-type {\n",
       "        vertical-align: middle;\n",
       "    }\n",
       "\n",
       "    .dataframe tbody tr th {\n",
       "        vertical-align: top;\n",
       "    }\n",
       "\n",
       "    .dataframe thead th {\n",
       "        text-align: right;\n",
       "    }\n",
       "</style>\n",
       "<table border=\"1\" class=\"dataframe\">\n",
       "  <thead>\n",
       "    <tr style=\"text-align: right;\">\n",
       "      <th></th>\n",
       "      <th>Name</th>\n",
       "      <th>GeographicSegments</th>\n",
       "      <th>International</th>\n",
       "    </tr>\n",
       "    <tr>\n",
       "      <th>Ticker</th>\n",
       "      <th></th>\n",
       "      <th></th>\n",
       "      <th></th>\n",
       "    </tr>\n",
       "  </thead>\n",
       "  <tbody>\n",
       "    <tr>\n",
       "      <th>TSX:TFII</th>\n",
       "      <td>TFI International Inc. (TSX:TFII)</td>\n",
       "      <td>3.0</td>\n",
       "      <td>False</td>\n",
       "    </tr>\n",
       "    <tr>\n",
       "      <th>TSX:MIC</th>\n",
       "      <td>Genworth MI Canada Inc. (TSX:MIC)</td>\n",
       "      <td>1.0</td>\n",
       "      <td>False</td>\n",
       "    </tr>\n",
       "    <tr>\n",
       "      <th>TSX:MX</th>\n",
       "      <td>Methanex Corporation (TSX:MX)</td>\n",
       "      <td>12.0</td>\n",
       "      <td>True</td>\n",
       "    </tr>\n",
       "    <tr>\n",
       "      <th>TSX:FM</th>\n",
       "      <td>First Quantum Minerals Ltd. (TSX:FM)</td>\n",
       "      <td>24.0</td>\n",
       "      <td>True</td>\n",
       "    </tr>\n",
       "    <tr>\n",
       "      <th>TSX:SNC</th>\n",
       "      <td>SNC-Lavalin Group Inc. (TSX:SNC)</td>\n",
       "      <td>11.0</td>\n",
       "      <td>True</td>\n",
       "    </tr>\n",
       "    <tr>\n",
       "      <th>NYSE:AEM</th>\n",
       "      <td>Agnico Eagle Mines Limited (NYSE:AEM)</td>\n",
       "      <td>5.0</td>\n",
       "      <td>True</td>\n",
       "    </tr>\n",
       "    <tr>\n",
       "      <th>TSX:BB</th>\n",
       "      <td>BlackBerry Limited (TSX:BB)</td>\n",
       "      <td>7.0</td>\n",
       "      <td>True</td>\n",
       "    </tr>\n",
       "    <tr>\n",
       "      <th>TSX:PAAS</th>\n",
       "      <td>Pan American Silver Corp. (TSX:PAAS)</td>\n",
       "      <td>NaN</td>\n",
       "      <td>False</td>\n",
       "    </tr>\n",
       "    <tr>\n",
       "      <th>TSX:NPI</th>\n",
       "      <td>Northland Power Inc. (TSX:NPI)</td>\n",
       "      <td>2.0</td>\n",
       "      <td>False</td>\n",
       "    </tr>\n",
       "    <tr>\n",
       "      <th>TSX:AGI</th>\n",
       "      <td>Alamos Gold Inc. (TSX:AGI)</td>\n",
       "      <td>4.0</td>\n",
       "      <td>True</td>\n",
       "    </tr>\n",
       "  </tbody>\n",
       "</table>\n",
       "</div>"
      ],
      "text/plain": [
       "                                           Name  GeographicSegments  \\\n",
       "Ticker                                                                \n",
       "TSX:TFII      TFI International Inc. (TSX:TFII)                 3.0   \n",
       "TSX:MIC       Genworth MI Canada Inc. (TSX:MIC)                 1.0   \n",
       "TSX:MX            Methanex Corporation (TSX:MX)                12.0   \n",
       "TSX:FM     First Quantum Minerals Ltd. (TSX:FM)                24.0   \n",
       "TSX:SNC        SNC-Lavalin Group Inc. (TSX:SNC)                11.0   \n",
       "NYSE:AEM  Agnico Eagle Mines Limited (NYSE:AEM)                 5.0   \n",
       "TSX:BB              BlackBerry Limited (TSX:BB)                 7.0   \n",
       "TSX:PAAS   Pan American Silver Corp. (TSX:PAAS)                 NaN   \n",
       "TSX:NPI          Northland Power Inc. (TSX:NPI)                 2.0   \n",
       "TSX:AGI              Alamos Gold Inc. (TSX:AGI)                 4.0   \n",
       "\n",
       "          International  \n",
       "Ticker                   \n",
       "TSX:TFII          False  \n",
       "TSX:MIC           False  \n",
       "TSX:MX             True  \n",
       "TSX:FM             True  \n",
       "TSX:SNC            True  \n",
       "NYSE:AEM           True  \n",
       "TSX:BB             True  \n",
       "TSX:PAAS          False  \n",
       "TSX:NPI           False  \n",
       "TSX:AGI            True  "
      ]
     },
     "execution_count": 37,
     "metadata": {},
     "output_type": "execute_result"
    }
   ],
   "source": [
    "# Create a new variable based on conditions\n",
    "df1['International']=np.where(df1.GeographicSegments>3, True, False) \n",
    "# Alternative ways of acheiving this same task: https://datatofish.com/if-condition-in-pandas-dataframe/\n",
    "\n",
    "df1[['Name','GeographicSegments', 'International']].sample(10)"
   ]
  },
  {
   "cell_type": "code",
   "execution_count": 38,
   "metadata": {},
   "outputs": [
    {
     "data": {
      "text/plain": [
       "Text(0.5,1,'Histogram of Geographic Segments')"
      ]
     },
     "execution_count": 38,
     "metadata": {},
     "output_type": "execute_result"
    },
    {
     "data": {
      "image/png": "[encoded data removed]",
      "text/plain": [
       "<Figure size 432x288 with 1 Axes>"
      ]
     },
     "metadata": {
      "needs_background": "light"
     },
     "output_type": "display_data"
    }
   ],
   "source": [
    "# Exercise:\n",
    "# 1. Plot the distribution of GeographicSegments\n",
    "    # Comment on what you see\n",
    "    # Add a title\n",
    "    \n",
    "df1.GeographicSegments.plot.hist()\n",
    "plt.title('Histogram of Geographic Segments')"
   ]
  },
  {
   "cell_type": "code",
   "execution_count": 39,
   "metadata": {},
   "outputs": [
    {
     "data": {
      "text/html": [
       "<div>\n",
       "<style scoped>\n",
       "    .dataframe tbody tr th:only-of-type {\n",
       "        vertical-align: middle;\n",
       "    }\n",
       "\n",
       "    .dataframe tbody tr th {\n",
       "        vertical-align: top;\n",
       "    }\n",
       "\n",
       "    .dataframe thead th {\n",
       "        text-align: right;\n",
       "    }\n",
       "</style>\n",
       "<table border=\"1\" class=\"dataframe\">\n",
       "  <thead>\n",
       "    <tr style=\"text-align: right;\">\n",
       "      <th></th>\n",
       "      <th>MarketCapitalization</th>\n",
       "      <th>NumberEmployees</th>\n",
       "    </tr>\n",
       "    <tr>\n",
       "      <th>Ticker</th>\n",
       "      <th></th>\n",
       "      <th></th>\n",
       "    </tr>\n",
       "  </thead>\n",
       "  <tbody>\n",
       "  </tbody>\n",
       "</table>\n",
       "</div>"
      ],
      "text/plain": [
       "Empty DataFrame\n",
       "Columns: [MarketCapitalization, NumberEmployees]\n",
       "Index: []"
      ]
     },
     "execution_count": 39,
     "metadata": {},
     "output_type": "execute_result"
    }
   ],
   "source": [
    "# 2 How many companies have both larger market capitalization AND more employees than RBC?\n",
    "\n",
    "bigger_than_rbc2 = df2.loc[(df2.MarketCapitalization>rbc.MarketCapitalization) & (df2.NumberEmployees>rbc.NumberEmployees)]\n",
    "bigger_than_rbc2"
   ]
  }
 ],
 "metadata": {
  "kernelspec": {
   "display_name": "Python 3",
   "language": "python",
   "name": "python3"
  },
  "language_info": {
   "codemirror_mode": {
    "name": "ipython",
    "version": 3
   },
   "file_extension": ".py",
   "mimetype": "text/x-python",
   "name": "python",
   "nbconvert_exporter": "python",
   "pygments_lexer": "ipython3",
   "version": "3.7.0"
  }
 },
 "nbformat": 4,
 "nbformat_minor": 2
}
